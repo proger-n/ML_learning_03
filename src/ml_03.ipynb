{
  "cells": [
    {
      "cell_type": "markdown",
      "metadata": {
        "id": "EUMzUfZA414o"
      },
      "source": [
        "## 1. Answer to the questions from introduction\n",
        "1. What is leave-one-out? Provide limitations and strong sides\n",
        "    - является частным случаем метода k-Fold: в нём каждый фолд состоит ровно из одного семпла.\n",
        "    - понадобиться в случае, если очень мало данных (например, в задаче сегментации клеток на изображениях с оптического микроскопа) и вы хотите использовать максимальное их количество для обучения модели: для валидации на каждой итерации методу требуется всего один семпл.\n",
        "    - Однако и итераций будет столько, сколько семплов в данных, поэтому метод неприменим для средних и больших задач.\n",
        "2. How Grid Search, Randomized Grid Search and Bayesian optimization works?\n",
        "    - GS:\n",
        "        1. для каждого гиперпараметра фиксируется несколько значений;\n",
        "        2. перебираются все комбинации значений различных гиперпараметров, на каждой из этих комбинаций модель обучается и тестируется;\n",
        "        3. выбирается комбинация, на которой модель показывает лучшее качество.\n",
        "\n",
        "    - RGS:\n",
        "        - перебирать не все комбинации гиперпараметров, а только случайное подмножество\n",
        "    - BO:\n",
        "        - это итерационный метод, позволяющий оценить оптимум функции, не дифференцируя её. Кроме того, на каждой итерации метод указывает, в какой следующей точке мы с наибольшей вероятностью улучшим нашу текущую оценку оптимума.\n",
        "        - хорошо работает, когда нужно оптимизировать небольшое число гиперпараметров, так как в наивной реализации алгоритм не поддаётся распараллеливанию. При большой размерности пространства гиперпараметров скорость сходимости не лучше, чем у обычного Random Search\n",
        "3. Explain the classification of feature selection methods. Explain how Pearson and Chi2 works. Explain how Lasso works.  \n",
        "    - Методы выделения признаков можно разделить на несколько категорий в зависимости от их подхода и цели. Вот основные категории:\n",
        "\n",
        "        1. Методы фильтрации: Эти методы отбирают признаки на основе статистических показателей или оценок, рассчитанных на основе данных, без использования конкретного алгоритма машинного обучения. В качестве примеров можно привести отбор признаков на основе корреляции, тест хи-квадрат, SelectKBest и F-значение ANOVA.\n",
        "\n",
        "        2. Обертывающие методы: Обертывающие методы оценивают подмножества признаков путем обучения и тестирования определенного алгоритма машинного обучения. Они выбирают признаки, основываясь на производительности модели. Примеры: рекурсивное исключение признаков, обратное исключение признаков и прямой отбор признаков.\n",
        "\n",
        "        3. Встроенные методы: Встроенные методы включают отбор признаков в сам алгоритм обучения. Эти методы определяют важность признаков в процессе обучения модели. В качестве примеров можно привести регрессию Лассо, регрессию Риджа и Random Forest.\n",
        "\n",
        "        4. Гибридные методы: гибридные методы сочетают в себе сильные стороны методов фильтрации и обертывания. Они используют комбинацию статистических показателей и алгоритмов машинного обучения для выбора признаков.\n",
        "\n",
        "    - Корреляция Пирсона - это мера линейной связи между двумя переменными. [-1,1]. Она предполагает, что обе переменные нормально распределены. Она измеряет только линейную корреляцию между переменными, игнорируя любые нелинейные связи.\n",
        "    - Тест хи-квадрат широко используется при отборе признаков для выявления наиболее информативных категориальных признаков. Он рассчитывает метрику хи-квадрат между целевой и категориальной переменной и выбирает нужное количество переменных с наилучшими значениями хи-квадрат.\n",
        "    - лассо зануляет веса признаков которые линейно зависят с существующими\n",
        "\n",
        "4. Explain what is permutation importance. Get acquainted with SHAP\n",
        "    - permutation importance: Произвольным образом переставить или перетасовать один столбец в наборе датасета валидации, оставив все остальные столбцы нетронутыми. Признак считается «важным», если точность модели падает и его изменение вызывает увеличение ошибок. С другой стороны, признак считается «неважным», если перетасовка его значений не влияет на точность модели\n",
        "    - Библиотека SHAP (SHapley Additive exPlanations)  используется для объяснения работы моделей машинного обучения и интерпретации их предсказаний. Она предоставляет инструменты для вычисления значимости признаков в модели и позволяет понять, как каждый признак влияет на предсказания"
      ]
    },
    {
      "cell_type": "markdown",
      "metadata": {
        "id": "mzNfF8vq414r"
      },
      "source": [
        "# 2. Introduction  - make all preprocess staff from the previous lesson"
      ]
    },
    {
      "cell_type": "code",
      "execution_count": 387,
      "metadata": {
        "colab": {
          "base_uri": "https://localhost:8080/"
        },
        "id": "MneqyfSW414s",
        "outputId": "936c6a33-22ab-42d5-a5b6-86ca31d841ab"
      },
      "outputs": [
        {
          "name": "stdout",
          "output_type": "stream",
          "text": [
            "\u001b[2K     \u001b[90m━━━━━━━━━━━━━━━━━━━━━━━━━━━━━━━━━━━━━━━━\u001b[0m \u001b[32m413.4/413.4 kB\u001b[0m \u001b[31m5.0 MB/s\u001b[0m eta \u001b[36m0:00:00\u001b[0m\n",
            "\u001b[2K     \u001b[90m━━━━━━━━━━━━━━━━━━━━━━━━━━━━━━━━━━━━━━━━\u001b[0m \u001b[32m233.4/233.4 kB\u001b[0m \u001b[31m18.1 MB/s\u001b[0m eta \u001b[36m0:00:00\u001b[0m\n",
            "\u001b[2K     \u001b[90m━━━━━━━━━━━━━━━━━━━━━━━━━━━━━━━━━━━━━━━━\u001b[0m \u001b[32m78.7/78.7 kB\u001b[0m \u001b[31m9.1 MB/s\u001b[0m eta \u001b[36m0:00:00\u001b[0m\n",
            "\u001b[?25h"
          ]
        }
      ],
      "source": [
        "! pip install scikit-learn statsmodels matplotlib seaborn shap optuna -q"
      ]
    },
    {
      "cell_type": "code",
      "execution_count": null,
      "metadata": {},
      "outputs": [],
      "source": [
        "! pip install kaggle\n",
        "! mkdir .kaggle data\n",
        "! chmod 600 .kaggle/kaggle.json\n",
        "! kaggle competitions download two-sigma-connect-rental-listing-inquiries\n",
        "! unzip two-sigma-connect-rental-listing-inquiries.zip\n",
        "! unzip data/train.json.zip\n",
        "! unzip data/test.json.zip"
      ]
    },
    {
      "cell_type": "code",
      "execution_count": 399,
      "metadata": {
        "id": "ZCwOVVcU414t"
      },
      "outputs": [],
      "source": [
        "import pandas as pd\n",
        "import numpy as np\n",
        "from sklearn.model_selection import train_test_split\n",
        "from sklearn.metrics import mean_squared_error, mean_absolute_error, r2_score\n",
        "from sklearn.linear_model import Ridge, Lasso, ElasticNet\n",
        "from sklearn.preprocessing import StandardScaler\n",
        "from sklearn.model_selection import GridSearchCV, RandomizedSearchCV\n",
        "from sklearn.model_selection import cross_val_score\n",
        "import optuna\n",
        "import re\n",
        "import math\n",
        "import shap"
      ]
    },
    {
      "cell_type": "code",
      "execution_count": 392,
      "metadata": {
        "id": "dTq3mXKVH4Fr"
      },
      "outputs": [],
      "source": [
        "import warnings\n",
        "warnings.filterwarnings('ignore')"
      ]
    },
    {
      "cell_type": "markdown",
      "metadata": {
        "id": "y0K2Srxg414u"
      },
      "source": [
        "## 2.1 Read all data – data.csv."
      ]
    },
    {
      "cell_type": "code",
      "execution_count": 321,
      "metadata": {
        "colab": {
          "base_uri": "https://localhost:8080/",
          "height": 406
        },
        "id": "52sET9-L414u",
        "outputId": "e64ac457-b26d-4f39-cdbd-490dacf329fb"
      },
      "outputs": [
        {
          "data": {
            "application/vnd.google.colaboratory.intrinsic+json": {
              "repr_error": "'str' object has no attribute 'empty'",
              "type": "dataframe",
              "variable_name": "df"
            },
            "text/html": [
              "\n",
              "  <div id=\"df-3892215e-ffac-4b99-af8e-e1b1bcaeee74\" class=\"colab-df-container\">\n",
              "    <div>\n",
              "<style scoped>\n",
              "    .dataframe tbody tr th:only-of-type {\n",
              "        vertical-align: middle;\n",
              "    }\n",
              "\n",
              "    .dataframe tbody tr th {\n",
              "        vertical-align: top;\n",
              "    }\n",
              "\n",
              "    .dataframe thead th {\n",
              "        text-align: right;\n",
              "    }\n",
              "</style>\n",
              "<table border=\"1\" class=\"dataframe\">\n",
              "  <thead>\n",
              "    <tr style=\"text-align: right;\">\n",
              "      <th></th>\n",
              "      <th>bathrooms</th>\n",
              "      <th>bedrooms</th>\n",
              "      <th>building_id</th>\n",
              "      <th>created</th>\n",
              "      <th>description</th>\n",
              "      <th>display_address</th>\n",
              "      <th>features</th>\n",
              "      <th>latitude</th>\n",
              "      <th>listing_id</th>\n",
              "      <th>longitude</th>\n",
              "      <th>manager_id</th>\n",
              "      <th>photos</th>\n",
              "      <th>price</th>\n",
              "      <th>street_address</th>\n",
              "      <th>interest_level</th>\n",
              "    </tr>\n",
              "  </thead>\n",
              "  <tbody>\n",
              "    <tr>\n",
              "      <th>4</th>\n",
              "      <td>1.0</td>\n",
              "      <td>1</td>\n",
              "      <td>8579a0b0d54db803821a35a4a615e97a</td>\n",
              "      <td>2016-06-16 05:55:27</td>\n",
              "      <td>Spacious 1 Bedroom 1 Bathroom in Williamsburg!...</td>\n",
              "      <td>145 Borinquen Place</td>\n",
              "      <td>[Dining Room, Pre-War, Laundry in Building, Di...</td>\n",
              "      <td>40.7108</td>\n",
              "      <td>7170325</td>\n",
              "      <td>-73.9539</td>\n",
              "      <td>a10db4590843d78c784171a107bdacb4</td>\n",
              "      <td>[https://photos.renthop.com/2/7170325_3bb5ac84...</td>\n",
              "      <td>2400</td>\n",
              "      <td>145 Borinquen Place</td>\n",
              "      <td>medium</td>\n",
              "    </tr>\n",
              "    <tr>\n",
              "      <th>6</th>\n",
              "      <td>1.0</td>\n",
              "      <td>2</td>\n",
              "      <td>b8e75fc949a6cd8225b455648a951712</td>\n",
              "      <td>2016-06-01 05:44:33</td>\n",
              "      <td>BRAND NEW GUT RENOVATED TRUE 2 BEDROOMFind you...</td>\n",
              "      <td>East 44th</td>\n",
              "      <td>[Doorman, Elevator, Laundry in Building, Dishw...</td>\n",
              "      <td>40.7513</td>\n",
              "      <td>7092344</td>\n",
              "      <td>-73.9722</td>\n",
              "      <td>955db33477af4f40004820b4aed804a0</td>\n",
              "      <td>[https://photos.renthop.com/2/7092344_7663c19a...</td>\n",
              "      <td>3800</td>\n",
              "      <td>230 East 44th</td>\n",
              "      <td>low</td>\n",
              "    </tr>\n",
              "    <tr>\n",
              "      <th>9</th>\n",
              "      <td>1.0</td>\n",
              "      <td>2</td>\n",
              "      <td>cd759a988b8f23924b5a2058d5ab2b49</td>\n",
              "      <td>2016-06-14 15:19:59</td>\n",
              "      <td>**FLEX 2 BEDROOM WITH FULL PRESSURIZED WALL**L...</td>\n",
              "      <td>East 56th Street</td>\n",
              "      <td>[Doorman, Elevator, Laundry in Building, Laund...</td>\n",
              "      <td>40.7575</td>\n",
              "      <td>7158677</td>\n",
              "      <td>-73.9625</td>\n",
              "      <td>c8b10a317b766204f08e613cef4ce7a0</td>\n",
              "      <td>[https://photos.renthop.com/2/7158677_c897a134...</td>\n",
              "      <td>3495</td>\n",
              "      <td>405 East 56th Street</td>\n",
              "      <td>medium</td>\n",
              "    </tr>\n",
              "  </tbody>\n",
              "</table>\n",
              "</div>\n",
              "    <div class=\"colab-df-buttons\">\n",
              "\n",
              "  <div class=\"colab-df-container\">\n",
              "    <button class=\"colab-df-convert\" onclick=\"convertToInteractive('df-3892215e-ffac-4b99-af8e-e1b1bcaeee74')\"\n",
              "            title=\"Convert this dataframe to an interactive table.\"\n",
              "            style=\"display:none;\">\n",
              "\n",
              "  <svg xmlns=\"http://www.w3.org/2000/svg\" height=\"24px\" viewBox=\"0 -960 960 960\">\n",
              "    <path d=\"M120-120v-720h720v720H120Zm60-500h600v-160H180v160Zm220 220h160v-160H400v160Zm0 220h160v-160H400v160ZM180-400h160v-160H180v160Zm440 0h160v-160H620v160ZM180-180h160v-160H180v160Zm440 0h160v-160H620v160Z\"/>\n",
              "  </svg>\n",
              "    </button>\n",
              "\n",
              "  <style>\n",
              "    .colab-df-container {\n",
              "      display:flex;\n",
              "      gap: 12px;\n",
              "    }\n",
              "\n",
              "    .colab-df-convert {\n",
              "      background-color: #E8F0FE;\n",
              "      border: none;\n",
              "      border-radius: 50%;\n",
              "      cursor: pointer;\n",
              "      display: none;\n",
              "      fill: #1967D2;\n",
              "      height: 32px;\n",
              "      padding: 0 0 0 0;\n",
              "      width: 32px;\n",
              "    }\n",
              "\n",
              "    .colab-df-convert:hover {\n",
              "      background-color: #E2EBFA;\n",
              "      box-shadow: 0px 1px 2px rgba(60, 64, 67, 0.3), 0px 1px 3px 1px rgba(60, 64, 67, 0.15);\n",
              "      fill: #174EA6;\n",
              "    }\n",
              "\n",
              "    .colab-df-buttons div {\n",
              "      margin-bottom: 4px;\n",
              "    }\n",
              "\n",
              "    [theme=dark] .colab-df-convert {\n",
              "      background-color: #3B4455;\n",
              "      fill: #D2E3FC;\n",
              "    }\n",
              "\n",
              "    [theme=dark] .colab-df-convert:hover {\n",
              "      background-color: #434B5C;\n",
              "      box-shadow: 0px 1px 3px 1px rgba(0, 0, 0, 0.15);\n",
              "      filter: drop-shadow(0px 1px 2px rgba(0, 0, 0, 0.3));\n",
              "      fill: #FFFFFF;\n",
              "    }\n",
              "  </style>\n",
              "\n",
              "    <script>\n",
              "      const buttonEl =\n",
              "        document.querySelector('#df-3892215e-ffac-4b99-af8e-e1b1bcaeee74 button.colab-df-convert');\n",
              "      buttonEl.style.display =\n",
              "        google.colab.kernel.accessAllowed ? 'block' : 'none';\n",
              "\n",
              "      async function convertToInteractive(key) {\n",
              "        const element = document.querySelector('#df-3892215e-ffac-4b99-af8e-e1b1bcaeee74');\n",
              "        const dataTable =\n",
              "          await google.colab.kernel.invokeFunction('convertToInteractive',\n",
              "                                                    [key], {});\n",
              "        if (!dataTable) return;\n",
              "\n",
              "        const docLinkHtml = 'Like what you see? Visit the ' +\n",
              "          '<a target=\"_blank\" href=https://colab.research.google.com/notebooks/data_table.ipynb>data table notebook</a>'\n",
              "          + ' to learn more about interactive tables.';\n",
              "        element.innerHTML = '';\n",
              "        dataTable['output_type'] = 'display_data';\n",
              "        await google.colab.output.renderOutput(dataTable, element);\n",
              "        const docLink = document.createElement('div');\n",
              "        docLink.innerHTML = docLinkHtml;\n",
              "        element.appendChild(docLink);\n",
              "      }\n",
              "    </script>\n",
              "  </div>\n",
              "\n",
              "\n",
              "<div id=\"df-085bc67f-9e98-4f7b-8e59-463265c8f28c\">\n",
              "  <button class=\"colab-df-quickchart\" onclick=\"quickchart('df-085bc67f-9e98-4f7b-8e59-463265c8f28c')\"\n",
              "            title=\"Suggest charts\"\n",
              "            style=\"display:none;\">\n",
              "\n",
              "<svg xmlns=\"http://www.w3.org/2000/svg\" height=\"24px\"viewBox=\"0 0 24 24\"\n",
              "     width=\"24px\">\n",
              "    <g>\n",
              "        <path d=\"M19 3H5c-1.1 0-2 .9-2 2v14c0 1.1.9 2 2 2h14c1.1 0 2-.9 2-2V5c0-1.1-.9-2-2-2zM9 17H7v-7h2v7zm4 0h-2V7h2v10zm4 0h-2v-4h2v4z\"/>\n",
              "    </g>\n",
              "</svg>\n",
              "  </button>\n",
              "\n",
              "<style>\n",
              "  .colab-df-quickchart {\n",
              "      --bg-color: #E8F0FE;\n",
              "      --fill-color: #1967D2;\n",
              "      --hover-bg-color: #E2EBFA;\n",
              "      --hover-fill-color: #174EA6;\n",
              "      --disabled-fill-color: #AAA;\n",
              "      --disabled-bg-color: #DDD;\n",
              "  }\n",
              "\n",
              "  [theme=dark] .colab-df-quickchart {\n",
              "      --bg-color: #3B4455;\n",
              "      --fill-color: #D2E3FC;\n",
              "      --hover-bg-color: #434B5C;\n",
              "      --hover-fill-color: #FFFFFF;\n",
              "      --disabled-bg-color: #3B4455;\n",
              "      --disabled-fill-color: #666;\n",
              "  }\n",
              "\n",
              "  .colab-df-quickchart {\n",
              "    background-color: var(--bg-color);\n",
              "    border: none;\n",
              "    border-radius: 50%;\n",
              "    cursor: pointer;\n",
              "    display: none;\n",
              "    fill: var(--fill-color);\n",
              "    height: 32px;\n",
              "    padding: 0;\n",
              "    width: 32px;\n",
              "  }\n",
              "\n",
              "  .colab-df-quickchart:hover {\n",
              "    background-color: var(--hover-bg-color);\n",
              "    box-shadow: 0 1px 2px rgba(60, 64, 67, 0.3), 0 1px 3px 1px rgba(60, 64, 67, 0.15);\n",
              "    fill: var(--button-hover-fill-color);\n",
              "  }\n",
              "\n",
              "  .colab-df-quickchart-complete:disabled,\n",
              "  .colab-df-quickchart-complete:disabled:hover {\n",
              "    background-color: var(--disabled-bg-color);\n",
              "    fill: var(--disabled-fill-color);\n",
              "    box-shadow: none;\n",
              "  }\n",
              "\n",
              "  .colab-df-spinner {\n",
              "    border: 2px solid var(--fill-color);\n",
              "    border-color: transparent;\n",
              "    border-bottom-color: var(--fill-color);\n",
              "    animation:\n",
              "      spin 1s steps(1) infinite;\n",
              "  }\n",
              "\n",
              "  @keyframes spin {\n",
              "    0% {\n",
              "      border-color: transparent;\n",
              "      border-bottom-color: var(--fill-color);\n",
              "      border-left-color: var(--fill-color);\n",
              "    }\n",
              "    20% {\n",
              "      border-color: transparent;\n",
              "      border-left-color: var(--fill-color);\n",
              "      border-top-color: var(--fill-color);\n",
              "    }\n",
              "    30% {\n",
              "      border-color: transparent;\n",
              "      border-left-color: var(--fill-color);\n",
              "      border-top-color: var(--fill-color);\n",
              "      border-right-color: var(--fill-color);\n",
              "    }\n",
              "    40% {\n",
              "      border-color: transparent;\n",
              "      border-right-color: var(--fill-color);\n",
              "      border-top-color: var(--fill-color);\n",
              "    }\n",
              "    60% {\n",
              "      border-color: transparent;\n",
              "      border-right-color: var(--fill-color);\n",
              "    }\n",
              "    80% {\n",
              "      border-color: transparent;\n",
              "      border-right-color: var(--fill-color);\n",
              "      border-bottom-color: var(--fill-color);\n",
              "    }\n",
              "    90% {\n",
              "      border-color: transparent;\n",
              "      border-bottom-color: var(--fill-color);\n",
              "    }\n",
              "  }\n",
              "</style>\n",
              "\n",
              "  <script>\n",
              "    async function quickchart(key) {\n",
              "      const quickchartButtonEl =\n",
              "        document.querySelector('#' + key + ' button');\n",
              "      quickchartButtonEl.disabled = true;  // To prevent multiple clicks.\n",
              "      quickchartButtonEl.classList.add('colab-df-spinner');\n",
              "      try {\n",
              "        const charts = await google.colab.kernel.invokeFunction(\n",
              "            'suggestCharts', [key], {});\n",
              "      } catch (error) {\n",
              "        console.error('Error during call to suggestCharts:', error);\n",
              "      }\n",
              "      quickchartButtonEl.classList.remove('colab-df-spinner');\n",
              "      quickchartButtonEl.classList.add('colab-df-quickchart-complete');\n",
              "    }\n",
              "    (() => {\n",
              "      let quickchartButtonEl =\n",
              "        document.querySelector('#df-085bc67f-9e98-4f7b-8e59-463265c8f28c button');\n",
              "      quickchartButtonEl.style.display =\n",
              "        google.colab.kernel.accessAllowed ? 'block' : 'none';\n",
              "    })();\n",
              "  </script>\n",
              "</div>\n",
              "    </div>\n",
              "  </div>\n"
            ],
            "text/plain": [
              "   bathrooms  bedrooms                       building_id              created  \\\n",
              "4        1.0         1  8579a0b0d54db803821a35a4a615e97a  2016-06-16 05:55:27   \n",
              "6        1.0         2  b8e75fc949a6cd8225b455648a951712  2016-06-01 05:44:33   \n",
              "9        1.0         2  cd759a988b8f23924b5a2058d5ab2b49  2016-06-14 15:19:59   \n",
              "\n",
              "                                         description      display_address  \\\n",
              "4  Spacious 1 Bedroom 1 Bathroom in Williamsburg!...  145 Borinquen Place   \n",
              "6  BRAND NEW GUT RENOVATED TRUE 2 BEDROOMFind you...            East 44th   \n",
              "9  **FLEX 2 BEDROOM WITH FULL PRESSURIZED WALL**L...     East 56th Street   \n",
              "\n",
              "                                            features  latitude  listing_id  \\\n",
              "4  [Dining Room, Pre-War, Laundry in Building, Di...   40.7108     7170325   \n",
              "6  [Doorman, Elevator, Laundry in Building, Dishw...   40.7513     7092344   \n",
              "9  [Doorman, Elevator, Laundry in Building, Laund...   40.7575     7158677   \n",
              "\n",
              "   longitude                        manager_id  \\\n",
              "4   -73.9539  a10db4590843d78c784171a107bdacb4   \n",
              "6   -73.9722  955db33477af4f40004820b4aed804a0   \n",
              "9   -73.9625  c8b10a317b766204f08e613cef4ce7a0   \n",
              "\n",
              "                                              photos  price  \\\n",
              "4  [https://photos.renthop.com/2/7170325_3bb5ac84...   2400   \n",
              "6  [https://photos.renthop.com/2/7092344_7663c19a...   3800   \n",
              "9  [https://photos.renthop.com/2/7158677_c897a134...   3495   \n",
              "\n",
              "         street_address interest_level  \n",
              "4   145 Borinquen Place         medium  \n",
              "6         230 East 44th            low  \n",
              "9  405 East 56th Street         medium  "
            ]
          },
          "execution_count": 321,
          "metadata": {},
          "output_type": "execute_result"
        }
      ],
      "source": [
        "df = pd.read_json('data/train.json')\n",
        "df.head(3)"
      ]
    },
    {
      "cell_type": "code",
      "execution_count": 322,
      "metadata": {
        "colab": {
          "base_uri": "https://localhost:8080/"
        },
        "id": "ocfNSvD7QPev",
        "outputId": "62e0c667-26cc-4f57-eb4d-befa7c97df75"
      },
      "outputs": [
        {
          "data": {
            "text/plain": [
              "bathrooms          0.0\n",
              "bedrooms           0.0\n",
              "building_id        0.0\n",
              "created            0.0\n",
              "description        0.0\n",
              "display_address    0.0\n",
              "features           0.0\n",
              "latitude           0.0\n",
              "listing_id         0.0\n",
              "longitude          0.0\n",
              "manager_id         0.0\n",
              "photos             0.0\n",
              "price              0.0\n",
              "street_address     0.0\n",
              "interest_level     0.0\n",
              "dtype: float64"
            ]
          },
          "execution_count": 322,
          "metadata": {},
          "output_type": "execute_result"
        }
      ],
      "source": [
        "df.isnull().mean()"
      ]
    },
    {
      "cell_type": "markdown",
      "metadata": {
        "id": "CKRCPHvA414v"
      },
      "source": [
        "## 2.2 Preprocess “interest level” feature."
      ]
    },
    {
      "cell_type": "code",
      "execution_count": 323,
      "metadata": {
        "colab": {
          "base_uri": "https://localhost:8080/"
        },
        "id": "hK4Pc4sf414w",
        "outputId": "743097b6-b777-4540-d54b-16c8ab5380b8"
      },
      "outputs": [
        {
          "data": {
            "text/plain": [
              "1    34284\n",
              "2    11229\n",
              "0     3839\n",
              "Name: interest_level, dtype: int64"
            ]
          },
          "execution_count": 323,
          "metadata": {},
          "output_type": "execute_result"
        }
      ],
      "source": [
        "df['interest_level'] = df['interest_level'].astype('category').cat.codes\n",
        "df['interest_level'].value_counts()"
      ]
    },
    {
      "cell_type": "markdown",
      "metadata": {
        "id": "w-w97upQ414w"
      },
      "source": [
        "## 2.3 Create features:  \n",
        "'Elevator', 'HardwoodFloors', 'CatsAllowed', 'DogsAllowed', 'Doorman', 'Dishwasher', 'NoFee', 'LaundryinBuilding', 'FitnessCenter', 'Pre-War', 'LaundryinUnit', 'RoofDeck', 'OutdoorSpace', 'DiningRoom', 'HighSpeedInternet', 'Balcony', 'SwimmingPool', 'LaundryInBuilding', 'NewConstruction', 'Terrace'"
      ]
    },
    {
      "cell_type": "code",
      "execution_count": 324,
      "metadata": {
        "id": "nc9rucg5414x"
      },
      "outputs": [],
      "source": [
        "df['features'] = df['features'].apply(lambda x: list([re.sub(r'[\\[\\]\\'\\\"\\s]', '', item) for item in x]))"
      ]
    },
    {
      "cell_type": "code",
      "execution_count": 325,
      "metadata": {
        "id": "E80ujaPx414x"
      },
      "outputs": [],
      "source": [
        "top_20_features = ['Elevator',\n",
        "                   'HardwoodFloors',\n",
        "                   'CatsAllowed',\n",
        "                   'DogsAllowed',\n",
        "                   'Doorman',\n",
        "                   'Dishwasher',\n",
        "                   'NoFee',\n",
        "                   'LaundryinBuilding',\n",
        "                   'FitnessCenter',\n",
        "                   'Pre-War',\n",
        "                   'LaundryinUnit',\n",
        "                   'RoofDeck',\n",
        "                   'OutdoorSpace',\n",
        "                   'DiningRoom',\n",
        "                   'HighSpeedInternet',\n",
        "                   'Balcony',\n",
        "                   'SwimmingPool',\n",
        "                   'LaundryInBuilding',\n",
        "                   'NewConstruction',\n",
        "                   'Terrace']"
      ]
    },
    {
      "cell_type": "code",
      "execution_count": 326,
      "metadata": {
        "id": "zVG9U1Pc414x"
      },
      "outputs": [],
      "source": [
        "def onehotencoder(df, features_list):\n",
        "  result = np.zeros((len(df), len(features_list)))\n",
        "  for r, col in enumerate(df):\n",
        "    for fi in range(len(features_list)):\n",
        "      for c in col:\n",
        "        if features_list[fi] == c:\n",
        "          result[r, fi] = 1\n",
        "  return result"
      ]
    },
    {
      "cell_type": "code",
      "execution_count": 327,
      "metadata": {
        "id": "iprVk5l7414y"
      },
      "outputs": [],
      "source": [
        "df_encoded = pd.DataFrame(onehotencoder(df['features'], top_20_features))\n",
        "rename_dict = dict(zip(range(20), top_20_features))\n",
        "df_encoded = df_encoded.rename(columns=rename_dict)"
      ]
    },
    {
      "cell_type": "code",
      "execution_count": 328,
      "metadata": {
        "colab": {
          "base_uri": "https://localhost:8080/",
          "height": 603
        },
        "id": "llzP-Vxg414y",
        "outputId": "2e30b02e-dbb3-4a84-e18b-127ad2c65d16"
      },
      "outputs": [
        {
          "data": {
            "application/vnd.google.colaboratory.intrinsic+json": {
              "type": "dataframe",
              "variable_name": "df_enriched"
            },
            "text/html": [
              "\n",
              "  <div id=\"df-f5554ec9-8871-449c-8d4d-f22e2b13337b\" class=\"colab-df-container\">\n",
              "    <div>\n",
              "<style scoped>\n",
              "    .dataframe tbody tr th:only-of-type {\n",
              "        vertical-align: middle;\n",
              "    }\n",
              "\n",
              "    .dataframe tbody tr th {\n",
              "        vertical-align: top;\n",
              "    }\n",
              "\n",
              "    .dataframe thead th {\n",
              "        text-align: right;\n",
              "    }\n",
              "</style>\n",
              "<table border=\"1\" class=\"dataframe\">\n",
              "  <thead>\n",
              "    <tr style=\"text-align: right;\">\n",
              "      <th></th>\n",
              "      <th>bathrooms</th>\n",
              "      <th>bedrooms</th>\n",
              "      <th>building_id</th>\n",
              "      <th>created</th>\n",
              "      <th>description</th>\n",
              "      <th>display_address</th>\n",
              "      <th>features</th>\n",
              "      <th>latitude</th>\n",
              "      <th>listing_id</th>\n",
              "      <th>longitude</th>\n",
              "      <th>...</th>\n",
              "      <th>LaundryinUnit</th>\n",
              "      <th>RoofDeck</th>\n",
              "      <th>OutdoorSpace</th>\n",
              "      <th>DiningRoom</th>\n",
              "      <th>HighSpeedInternet</th>\n",
              "      <th>Balcony</th>\n",
              "      <th>SwimmingPool</th>\n",
              "      <th>LaundryInBuilding</th>\n",
              "      <th>NewConstruction</th>\n",
              "      <th>Terrace</th>\n",
              "    </tr>\n",
              "  </thead>\n",
              "  <tbody>\n",
              "    <tr>\n",
              "      <th>0</th>\n",
              "      <td>1.0</td>\n",
              "      <td>1</td>\n",
              "      <td>8579a0b0d54db803821a35a4a615e97a</td>\n",
              "      <td>2016-06-16 05:55:27</td>\n",
              "      <td>Spacious 1 Bedroom 1 Bathroom in Williamsburg!...</td>\n",
              "      <td>145 Borinquen Place</td>\n",
              "      <td>[DiningRoom, Pre-War, LaundryinBuilding, Dishw...</td>\n",
              "      <td>40.7108</td>\n",
              "      <td>7170325</td>\n",
              "      <td>-73.9539</td>\n",
              "      <td>...</td>\n",
              "      <td>0.0</td>\n",
              "      <td>0.0</td>\n",
              "      <td>0.0</td>\n",
              "      <td>1.0</td>\n",
              "      <td>0.0</td>\n",
              "      <td>0.0</td>\n",
              "      <td>0.0</td>\n",
              "      <td>0.0</td>\n",
              "      <td>0.0</td>\n",
              "      <td>0.0</td>\n",
              "    </tr>\n",
              "    <tr>\n",
              "      <th>1</th>\n",
              "      <td>1.0</td>\n",
              "      <td>2</td>\n",
              "      <td>b8e75fc949a6cd8225b455648a951712</td>\n",
              "      <td>2016-06-01 05:44:33</td>\n",
              "      <td>BRAND NEW GUT RENOVATED TRUE 2 BEDROOMFind you...</td>\n",
              "      <td>East 44th</td>\n",
              "      <td>[Doorman, Elevator, LaundryinBuilding, Dishwas...</td>\n",
              "      <td>40.7513</td>\n",
              "      <td>7092344</td>\n",
              "      <td>-73.9722</td>\n",
              "      <td>...</td>\n",
              "      <td>0.0</td>\n",
              "      <td>0.0</td>\n",
              "      <td>0.0</td>\n",
              "      <td>0.0</td>\n",
              "      <td>0.0</td>\n",
              "      <td>0.0</td>\n",
              "      <td>0.0</td>\n",
              "      <td>0.0</td>\n",
              "      <td>0.0</td>\n",
              "      <td>0.0</td>\n",
              "    </tr>\n",
              "    <tr>\n",
              "      <th>2</th>\n",
              "      <td>1.0</td>\n",
              "      <td>2</td>\n",
              "      <td>cd759a988b8f23924b5a2058d5ab2b49</td>\n",
              "      <td>2016-06-14 15:19:59</td>\n",
              "      <td>**FLEX 2 BEDROOM WITH FULL PRESSURIZED WALL**L...</td>\n",
              "      <td>East 56th Street</td>\n",
              "      <td>[Doorman, Elevator, LaundryinBuilding, Laundry...</td>\n",
              "      <td>40.7575</td>\n",
              "      <td>7158677</td>\n",
              "      <td>-73.9625</td>\n",
              "      <td>...</td>\n",
              "      <td>1.0</td>\n",
              "      <td>0.0</td>\n",
              "      <td>0.0</td>\n",
              "      <td>0.0</td>\n",
              "      <td>0.0</td>\n",
              "      <td>0.0</td>\n",
              "      <td>0.0</td>\n",
              "      <td>0.0</td>\n",
              "      <td>0.0</td>\n",
              "      <td>0.0</td>\n",
              "    </tr>\n",
              "    <tr>\n",
              "      <th>3</th>\n",
              "      <td>1.5</td>\n",
              "      <td>3</td>\n",
              "      <td>53a5b119ba8f7b61d4e010512e0dfc85</td>\n",
              "      <td>2016-06-24 07:54:24</td>\n",
              "      <td>A Brand New 3 Bedroom 1.5 bath ApartmentEnjoy ...</td>\n",
              "      <td>Metropolitan Avenue</td>\n",
              "      <td>[]</td>\n",
              "      <td>40.7145</td>\n",
              "      <td>7211212</td>\n",
              "      <td>-73.9425</td>\n",
              "      <td>...</td>\n",
              "      <td>0.0</td>\n",
              "      <td>0.0</td>\n",
              "      <td>0.0</td>\n",
              "      <td>0.0</td>\n",
              "      <td>0.0</td>\n",
              "      <td>0.0</td>\n",
              "      <td>0.0</td>\n",
              "      <td>0.0</td>\n",
              "      <td>0.0</td>\n",
              "      <td>0.0</td>\n",
              "    </tr>\n",
              "    <tr>\n",
              "      <th>4</th>\n",
              "      <td>1.0</td>\n",
              "      <td>0</td>\n",
              "      <td>bfb9405149bfff42a92980b594c28234</td>\n",
              "      <td>2016-06-28 03:50:23</td>\n",
              "      <td>Over-sized Studio w abundant closets. Availabl...</td>\n",
              "      <td>East 34th Street</td>\n",
              "      <td>[Doorman, Elevator, FitnessCenter, LaundryinBu...</td>\n",
              "      <td>40.7439</td>\n",
              "      <td>7225292</td>\n",
              "      <td>-73.9743</td>\n",
              "      <td>...</td>\n",
              "      <td>0.0</td>\n",
              "      <td>0.0</td>\n",
              "      <td>0.0</td>\n",
              "      <td>0.0</td>\n",
              "      <td>0.0</td>\n",
              "      <td>0.0</td>\n",
              "      <td>0.0</td>\n",
              "      <td>0.0</td>\n",
              "      <td>0.0</td>\n",
              "      <td>0.0</td>\n",
              "    </tr>\n",
              "  </tbody>\n",
              "</table>\n",
              "<p>5 rows × 35 columns</p>\n",
              "</div>\n",
              "    <div class=\"colab-df-buttons\">\n",
              "\n",
              "  <div class=\"colab-df-container\">\n",
              "    <button class=\"colab-df-convert\" onclick=\"convertToInteractive('df-f5554ec9-8871-449c-8d4d-f22e2b13337b')\"\n",
              "            title=\"Convert this dataframe to an interactive table.\"\n",
              "            style=\"display:none;\">\n",
              "\n",
              "  <svg xmlns=\"http://www.w3.org/2000/svg\" height=\"24px\" viewBox=\"0 -960 960 960\">\n",
              "    <path d=\"M120-120v-720h720v720H120Zm60-500h600v-160H180v160Zm220 220h160v-160H400v160Zm0 220h160v-160H400v160ZM180-400h160v-160H180v160Zm440 0h160v-160H620v160ZM180-180h160v-160H180v160Zm440 0h160v-160H620v160Z\"/>\n",
              "  </svg>\n",
              "    </button>\n",
              "\n",
              "  <style>\n",
              "    .colab-df-container {\n",
              "      display:flex;\n",
              "      gap: 12px;\n",
              "    }\n",
              "\n",
              "    .colab-df-convert {\n",
              "      background-color: #E8F0FE;\n",
              "      border: none;\n",
              "      border-radius: 50%;\n",
              "      cursor: pointer;\n",
              "      display: none;\n",
              "      fill: #1967D2;\n",
              "      height: 32px;\n",
              "      padding: 0 0 0 0;\n",
              "      width: 32px;\n",
              "    }\n",
              "\n",
              "    .colab-df-convert:hover {\n",
              "      background-color: #E2EBFA;\n",
              "      box-shadow: 0px 1px 2px rgba(60, 64, 67, 0.3), 0px 1px 3px 1px rgba(60, 64, 67, 0.15);\n",
              "      fill: #174EA6;\n",
              "    }\n",
              "\n",
              "    .colab-df-buttons div {\n",
              "      margin-bottom: 4px;\n",
              "    }\n",
              "\n",
              "    [theme=dark] .colab-df-convert {\n",
              "      background-color: #3B4455;\n",
              "      fill: #D2E3FC;\n",
              "    }\n",
              "\n",
              "    [theme=dark] .colab-df-convert:hover {\n",
              "      background-color: #434B5C;\n",
              "      box-shadow: 0px 1px 3px 1px rgba(0, 0, 0, 0.15);\n",
              "      filter: drop-shadow(0px 1px 2px rgba(0, 0, 0, 0.3));\n",
              "      fill: #FFFFFF;\n",
              "    }\n",
              "  </style>\n",
              "\n",
              "    <script>\n",
              "      const buttonEl =\n",
              "        document.querySelector('#df-f5554ec9-8871-449c-8d4d-f22e2b13337b button.colab-df-convert');\n",
              "      buttonEl.style.display =\n",
              "        google.colab.kernel.accessAllowed ? 'block' : 'none';\n",
              "\n",
              "      async function convertToInteractive(key) {\n",
              "        const element = document.querySelector('#df-f5554ec9-8871-449c-8d4d-f22e2b13337b');\n",
              "        const dataTable =\n",
              "          await google.colab.kernel.invokeFunction('convertToInteractive',\n",
              "                                                    [key], {});\n",
              "        if (!dataTable) return;\n",
              "\n",
              "        const docLinkHtml = 'Like what you see? Visit the ' +\n",
              "          '<a target=\"_blank\" href=https://colab.research.google.com/notebooks/data_table.ipynb>data table notebook</a>'\n",
              "          + ' to learn more about interactive tables.';\n",
              "        element.innerHTML = '';\n",
              "        dataTable['output_type'] = 'display_data';\n",
              "        await google.colab.output.renderOutput(dataTable, element);\n",
              "        const docLink = document.createElement('div');\n",
              "        docLink.innerHTML = docLinkHtml;\n",
              "        element.appendChild(docLink);\n",
              "      }\n",
              "    </script>\n",
              "  </div>\n",
              "\n",
              "\n",
              "<div id=\"df-3d4d81f5-8b5c-4703-b8e5-534cc5df9983\">\n",
              "  <button class=\"colab-df-quickchart\" onclick=\"quickchart('df-3d4d81f5-8b5c-4703-b8e5-534cc5df9983')\"\n",
              "            title=\"Suggest charts\"\n",
              "            style=\"display:none;\">\n",
              "\n",
              "<svg xmlns=\"http://www.w3.org/2000/svg\" height=\"24px\"viewBox=\"0 0 24 24\"\n",
              "     width=\"24px\">\n",
              "    <g>\n",
              "        <path d=\"M19 3H5c-1.1 0-2 .9-2 2v14c0 1.1.9 2 2 2h14c1.1 0 2-.9 2-2V5c0-1.1-.9-2-2-2zM9 17H7v-7h2v7zm4 0h-2V7h2v10zm4 0h-2v-4h2v4z\"/>\n",
              "    </g>\n",
              "</svg>\n",
              "  </button>\n",
              "\n",
              "<style>\n",
              "  .colab-df-quickchart {\n",
              "      --bg-color: #E8F0FE;\n",
              "      --fill-color: #1967D2;\n",
              "      --hover-bg-color: #E2EBFA;\n",
              "      --hover-fill-color: #174EA6;\n",
              "      --disabled-fill-color: #AAA;\n",
              "      --disabled-bg-color: #DDD;\n",
              "  }\n",
              "\n",
              "  [theme=dark] .colab-df-quickchart {\n",
              "      --bg-color: #3B4455;\n",
              "      --fill-color: #D2E3FC;\n",
              "      --hover-bg-color: #434B5C;\n",
              "      --hover-fill-color: #FFFFFF;\n",
              "      --disabled-bg-color: #3B4455;\n",
              "      --disabled-fill-color: #666;\n",
              "  }\n",
              "\n",
              "  .colab-df-quickchart {\n",
              "    background-color: var(--bg-color);\n",
              "    border: none;\n",
              "    border-radius: 50%;\n",
              "    cursor: pointer;\n",
              "    display: none;\n",
              "    fill: var(--fill-color);\n",
              "    height: 32px;\n",
              "    padding: 0;\n",
              "    width: 32px;\n",
              "  }\n",
              "\n",
              "  .colab-df-quickchart:hover {\n",
              "    background-color: var(--hover-bg-color);\n",
              "    box-shadow: 0 1px 2px rgba(60, 64, 67, 0.3), 0 1px 3px 1px rgba(60, 64, 67, 0.15);\n",
              "    fill: var(--button-hover-fill-color);\n",
              "  }\n",
              "\n",
              "  .colab-df-quickchart-complete:disabled,\n",
              "  .colab-df-quickchart-complete:disabled:hover {\n",
              "    background-color: var(--disabled-bg-color);\n",
              "    fill: var(--disabled-fill-color);\n",
              "    box-shadow: none;\n",
              "  }\n",
              "\n",
              "  .colab-df-spinner {\n",
              "    border: 2px solid var(--fill-color);\n",
              "    border-color: transparent;\n",
              "    border-bottom-color: var(--fill-color);\n",
              "    animation:\n",
              "      spin 1s steps(1) infinite;\n",
              "  }\n",
              "\n",
              "  @keyframes spin {\n",
              "    0% {\n",
              "      border-color: transparent;\n",
              "      border-bottom-color: var(--fill-color);\n",
              "      border-left-color: var(--fill-color);\n",
              "    }\n",
              "    20% {\n",
              "      border-color: transparent;\n",
              "      border-left-color: var(--fill-color);\n",
              "      border-top-color: var(--fill-color);\n",
              "    }\n",
              "    30% {\n",
              "      border-color: transparent;\n",
              "      border-left-color: var(--fill-color);\n",
              "      border-top-color: var(--fill-color);\n",
              "      border-right-color: var(--fill-color);\n",
              "    }\n",
              "    40% {\n",
              "      border-color: transparent;\n",
              "      border-right-color: var(--fill-color);\n",
              "      border-top-color: var(--fill-color);\n",
              "    }\n",
              "    60% {\n",
              "      border-color: transparent;\n",
              "      border-right-color: var(--fill-color);\n",
              "    }\n",
              "    80% {\n",
              "      border-color: transparent;\n",
              "      border-right-color: var(--fill-color);\n",
              "      border-bottom-color: var(--fill-color);\n",
              "    }\n",
              "    90% {\n",
              "      border-color: transparent;\n",
              "      border-bottom-color: var(--fill-color);\n",
              "    }\n",
              "  }\n",
              "</style>\n",
              "\n",
              "  <script>\n",
              "    async function quickchart(key) {\n",
              "      const quickchartButtonEl =\n",
              "        document.querySelector('#' + key + ' button');\n",
              "      quickchartButtonEl.disabled = true;  // To prevent multiple clicks.\n",
              "      quickchartButtonEl.classList.add('colab-df-spinner');\n",
              "      try {\n",
              "        const charts = await google.colab.kernel.invokeFunction(\n",
              "            'suggestCharts', [key], {});\n",
              "      } catch (error) {\n",
              "        console.error('Error during call to suggestCharts:', error);\n",
              "      }\n",
              "      quickchartButtonEl.classList.remove('colab-df-spinner');\n",
              "      quickchartButtonEl.classList.add('colab-df-quickchart-complete');\n",
              "    }\n",
              "    (() => {\n",
              "      let quickchartButtonEl =\n",
              "        document.querySelector('#df-3d4d81f5-8b5c-4703-b8e5-534cc5df9983 button');\n",
              "      quickchartButtonEl.style.display =\n",
              "        google.colab.kernel.accessAllowed ? 'block' : 'none';\n",
              "    })();\n",
              "  </script>\n",
              "</div>\n",
              "    </div>\n",
              "  </div>\n"
            ],
            "text/plain": [
              "   bathrooms  bedrooms                       building_id              created  \\\n",
              "0        1.0         1  8579a0b0d54db803821a35a4a615e97a  2016-06-16 05:55:27   \n",
              "1        1.0         2  b8e75fc949a6cd8225b455648a951712  2016-06-01 05:44:33   \n",
              "2        1.0         2  cd759a988b8f23924b5a2058d5ab2b49  2016-06-14 15:19:59   \n",
              "3        1.5         3  53a5b119ba8f7b61d4e010512e0dfc85  2016-06-24 07:54:24   \n",
              "4        1.0         0  bfb9405149bfff42a92980b594c28234  2016-06-28 03:50:23   \n",
              "\n",
              "                                         description      display_address  \\\n",
              "0  Spacious 1 Bedroom 1 Bathroom in Williamsburg!...  145 Borinquen Place   \n",
              "1  BRAND NEW GUT RENOVATED TRUE 2 BEDROOMFind you...            East 44th   \n",
              "2  **FLEX 2 BEDROOM WITH FULL PRESSURIZED WALL**L...     East 56th Street   \n",
              "3  A Brand New 3 Bedroom 1.5 bath ApartmentEnjoy ...  Metropolitan Avenue   \n",
              "4  Over-sized Studio w abundant closets. Availabl...     East 34th Street   \n",
              "\n",
              "                                            features  latitude  listing_id  \\\n",
              "0  [DiningRoom, Pre-War, LaundryinBuilding, Dishw...   40.7108     7170325   \n",
              "1  [Doorman, Elevator, LaundryinBuilding, Dishwas...   40.7513     7092344   \n",
              "2  [Doorman, Elevator, LaundryinBuilding, Laundry...   40.7575     7158677   \n",
              "3                                                 []   40.7145     7211212   \n",
              "4  [Doorman, Elevator, FitnessCenter, LaundryinBu...   40.7439     7225292   \n",
              "\n",
              "   longitude  ... LaundryinUnit RoofDeck  OutdoorSpace DiningRoom  \\\n",
              "0   -73.9539  ...           0.0      0.0           0.0        1.0   \n",
              "1   -73.9722  ...           0.0      0.0           0.0        0.0   \n",
              "2   -73.9625  ...           1.0      0.0           0.0        0.0   \n",
              "3   -73.9425  ...           0.0      0.0           0.0        0.0   \n",
              "4   -73.9743  ...           0.0      0.0           0.0        0.0   \n",
              "\n",
              "   HighSpeedInternet  Balcony  SwimmingPool  LaundryInBuilding  \\\n",
              "0                0.0      0.0           0.0                0.0   \n",
              "1                0.0      0.0           0.0                0.0   \n",
              "2                0.0      0.0           0.0                0.0   \n",
              "3                0.0      0.0           0.0                0.0   \n",
              "4                0.0      0.0           0.0                0.0   \n",
              "\n",
              "   NewConstruction  Terrace  \n",
              "0              0.0      0.0  \n",
              "1              0.0      0.0  \n",
              "2              0.0      0.0  \n",
              "3              0.0      0.0  \n",
              "4              0.0      0.0  \n",
              "\n",
              "[5 rows x 35 columns]"
            ]
          },
          "execution_count": 328,
          "metadata": {},
          "output_type": "execute_result"
        }
      ],
      "source": [
        "df_enriched = pd.concat([df.reset_index(), df_encoded.reset_index()], axis=1).drop(['index'], axis=1)\n",
        "df_enriched.head(5)"
      ]
    },
    {
      "cell_type": "code",
      "execution_count": 329,
      "metadata": {
        "colab": {
          "base_uri": "https://localhost:8080/"
        },
        "id": "PVDsPBmjG1s4",
        "outputId": "8f537851-f84e-4958-914b-655e7466bb16"
      },
      "outputs": [
        {
          "data": {
            "text/plain": [
              "Index(['bathrooms', 'bedrooms', 'building_id', 'created', 'description',\n",
              "       'display_address', 'features', 'latitude', 'listing_id', 'longitude',\n",
              "       'manager_id', 'photos', 'price', 'street_address', 'interest_level',\n",
              "       'Elevator', 'HardwoodFloors', 'CatsAllowed', 'DogsAllowed', 'Doorman',\n",
              "       'Dishwasher', 'NoFee', 'LaundryinBuilding', 'FitnessCenter', 'Pre-War',\n",
              "       'LaundryinUnit', 'RoofDeck', 'OutdoorSpace', 'DiningRoom',\n",
              "       'HighSpeedInternet', 'Balcony', 'SwimmingPool', 'LaundryInBuilding',\n",
              "       'NewConstruction', 'Terrace'],\n",
              "      dtype='object')"
            ]
          },
          "execution_count": 329,
          "metadata": {},
          "output_type": "execute_result"
        }
      ],
      "source": [
        "df_enriched.columns"
      ]
    },
    {
      "cell_type": "code",
      "execution_count": 330,
      "metadata": {
        "id": "8MXqLZ4SJKdo"
      },
      "outputs": [],
      "source": [
        "df_enriched = df_enriched.drop(['building_id',\n",
        "                                'description',\n",
        "                                'display_address',\n",
        "                                'listing_id',\n",
        "                                'manager_id',\n",
        "                                'photos',\n",
        "                                'street_address',\n",
        "                                'features',\n",
        "                                'latitude',\n",
        "                                'longitude'], axis=1)"
      ]
    },
    {
      "cell_type": "code",
      "execution_count": 331,
      "metadata": {
        "colab": {
          "base_uri": "https://localhost:8080/"
        },
        "id": "ukcCzfd8JvaE",
        "outputId": "200e85ca-073c-472f-a497-75cff58d7b89"
      },
      "outputs": [
        {
          "name": "stdout",
          "output_type": "stream",
          "text": [
            "<class 'pandas.core.frame.DataFrame'>\n",
            "RangeIndex: 49352 entries, 0 to 49351\n",
            "Data columns (total 25 columns):\n",
            " #   Column             Non-Null Count  Dtype  \n",
            "---  ------             --------------  -----  \n",
            " 0   bathrooms          49352 non-null  float64\n",
            " 1   bedrooms           49352 non-null  int64  \n",
            " 2   created            49352 non-null  object \n",
            " 3   price              49352 non-null  int64  \n",
            " 4   interest_level     49352 non-null  int8   \n",
            " 5   Elevator           49352 non-null  float64\n",
            " 6   HardwoodFloors     49352 non-null  float64\n",
            " 7   CatsAllowed        49352 non-null  float64\n",
            " 8   DogsAllowed        49352 non-null  float64\n",
            " 9   Doorman            49352 non-null  float64\n",
            " 10  Dishwasher         49352 non-null  float64\n",
            " 11  NoFee              49352 non-null  float64\n",
            " 12  LaundryinBuilding  49352 non-null  float64\n",
            " 13  FitnessCenter      49352 non-null  float64\n",
            " 14  Pre-War            49352 non-null  float64\n",
            " 15  LaundryinUnit      49352 non-null  float64\n",
            " 16  RoofDeck           49352 non-null  float64\n",
            " 17  OutdoorSpace       49352 non-null  float64\n",
            " 18  DiningRoom         49352 non-null  float64\n",
            " 19  HighSpeedInternet  49352 non-null  float64\n",
            " 20  Balcony            49352 non-null  float64\n",
            " 21  SwimmingPool       49352 non-null  float64\n",
            " 22  LaundryInBuilding  49352 non-null  float64\n",
            " 23  NewConstruction    49352 non-null  float64\n",
            " 24  Terrace            49352 non-null  float64\n",
            "dtypes: float64(21), int64(2), int8(1), object(1)\n",
            "memory usage: 9.1+ MB\n"
          ]
        }
      ],
      "source": [
        "df_enriched.info()"
      ]
    },
    {
      "cell_type": "markdown",
      "metadata": {
        "id": "LMrIr69q414z"
      },
      "source": [
        "# 3. Implement next methods:"
      ]
    },
    {
      "cell_type": "markdown",
      "metadata": {
        "id": "AWdbFS1r414z"
      },
      "source": [
        "## 3.1 Split data into 2 parts randomly with parameter test_size (ratio from 0 to 1), return train and test samples"
      ]
    },
    {
      "cell_type": "code",
      "execution_count": 332,
      "metadata": {
        "id": "8_61EmrJ414z"
      },
      "outputs": [],
      "source": [
        "def train_test_split_2(df, test_size):\n",
        "    assert test_size < 1 and test_size > 0\n",
        "    df_shuffled = df.sample(frac=1).reset_index(drop=True)\n",
        "    n = math.ceil(df.shape[0]*test_size)\n",
        "    return df_shuffled.iloc[n:,:], df_shuffled.iloc[:n,:]"
      ]
    },
    {
      "cell_type": "code",
      "execution_count": 333,
      "metadata": {
        "colab": {
          "base_uri": "https://localhost:8080/"
        },
        "id": "SCK1G-3P414z",
        "outputId": "72ae7c8a-0533-40dc-ca9c-54b1e6fc1d08"
      },
      "outputs": [
        {
          "name": "stdout",
          "output_type": "stream",
          "text": [
            "ORIGIN shape:(49352, 25) \n",
            " TRAIN shape:(39481, 25) \n",
            "  TEST shape:(9871, 25)\n"
          ]
        }
      ],
      "source": [
        "train, test = train_test_split_2(df_enriched, test_size=0.2)\n",
        "print(f'ORIGIN shape:{df_enriched.shape} \\n TRAIN shape:{train.shape} \\n  TEST shape:{test.shape}')"
      ]
    },
    {
      "cell_type": "code",
      "execution_count": 334,
      "metadata": {
        "colab": {
          "base_uri": "https://localhost:8080/"
        },
        "id": "T_ftqnNm414z",
        "outputId": "26884a32-9ae3-4d8f-9289-d6215e55a665"
      },
      "outputs": [
        {
          "name": "stdout",
          "output_type": "stream",
          "text": [
            "ORIGIN shape:(49352, 25) \n",
            " TRAIN shape:(39481, 25) \n",
            "  TEST shape:(9871, 25)\n"
          ]
        }
      ],
      "source": [
        "train, test = train_test_split(df_enriched, test_size=0.2)\n",
        "print(f'ORIGIN shape:{df_enriched.shape} \\n TRAIN shape:{train.shape} \\n  TEST shape:{test.shape}')"
      ]
    },
    {
      "cell_type": "markdown",
      "metadata": {
        "id": "MJ2P4G5W414z"
      },
      "source": [
        "## 3.2 Split data into 3 parts randomly with parameters validation_size and  test_size, return train, validation and test samples"
      ]
    },
    {
      "cell_type": "code",
      "execution_count": 335,
      "metadata": {
        "id": "MW1aQNZy4140"
      },
      "outputs": [],
      "source": [
        "def train_validation_test_split(df, validation_size, test_size):\n",
        "    assert test_size < 1 and test_size > 0 and validation_size < 1 and validation_size > 0\n",
        "    df_shuffled = df.sample(frac=1).reset_index(drop=True)\n",
        "    n_v = math.ceil(df.shape[0]*validation_size)\n",
        "    n = n_v + math.ceil(df.shape[0]*test_size)\n",
        "    return df_shuffled.iloc[n:,:], df_shuffled.iloc[:n_v,:], df_shuffled.iloc[n_v:n,:]"
      ]
    },
    {
      "cell_type": "code",
      "execution_count": 336,
      "metadata": {
        "colab": {
          "base_uri": "https://localhost:8080/"
        },
        "id": "5eChF7PV4140",
        "outputId": "1e3c8a56-220e-42f5-e5e6-d1cc2abef47c"
      },
      "outputs": [
        {
          "name": "stdout",
          "output_type": "stream",
          "text": [
            "    ORIGIN shape:(49352, 25) \n",
            "     TRAIN shape:(24675, 25)\n",
            "VALIDATION shape:(14806, 25) \n",
            "      TEST shape:(9871, 25)\n"
          ]
        }
      ],
      "source": [
        "train, validation, test = train_validation_test_split(df_enriched, validation_size=0.3, test_size=0.2)\n",
        "print(f'    ORIGIN shape:{df_enriched.shape} \\n     TRAIN shape:{train.shape}\\nVALIDATION shape:{validation.shape} \\n      TEST shape:{test.shape}')"
      ]
    },
    {
      "cell_type": "markdown",
      "metadata": {
        "id": "-swLOaMk4140"
      },
      "source": [
        "## 3.3 Split data into 2 parts with parameter date_split, return train and test samples splitted by date_split param"
      ]
    },
    {
      "cell_type": "code",
      "execution_count": 337,
      "metadata": {
        "id": "Ti8jotnl4140"
      },
      "outputs": [],
      "source": [
        "def train_test_split_date(df: pd.DataFrame, date_col: str, date_split: str):\n",
        "    return df[df[date_col] < date_split], df[df[date_col] >= date_split]"
      ]
    },
    {
      "cell_type": "code",
      "execution_count": 338,
      "metadata": {
        "id": "gpPYuyQ04140"
      },
      "outputs": [],
      "source": [
        "train, test = train_test_split_date(df_enriched, 'created', '2016-04-29')"
      ]
    },
    {
      "cell_type": "code",
      "execution_count": 339,
      "metadata": {
        "colab": {
          "base_uri": "https://localhost:8080/",
          "height": 35
        },
        "id": "44yG6LCH4140",
        "outputId": "e74adfd4-b9bd-4dbb-ad69-b11cb12a1e09"
      },
      "outputs": [
        {
          "data": {
            "application/vnd.google.colaboratory.intrinsic+json": {
              "type": "string"
            },
            "text/plain": [
              "'2016-04-28 23:41:55'"
            ]
          },
          "execution_count": 339,
          "metadata": {},
          "output_type": "execute_result"
        }
      ],
      "source": [
        "train.created.max()"
      ]
    },
    {
      "cell_type": "code",
      "execution_count": 340,
      "metadata": {
        "colab": {
          "base_uri": "https://localhost:8080/",
          "height": 35
        },
        "id": "sJCwSc7y4140",
        "outputId": "dc41940c-71c6-457f-e44a-68ab3dec0c49"
      },
      "outputs": [
        {
          "data": {
            "application/vnd.google.colaboratory.intrinsic+json": {
              "type": "string"
            },
            "text/plain": [
              "'2016-04-29 00:48:39'"
            ]
          },
          "execution_count": 340,
          "metadata": {},
          "output_type": "execute_result"
        }
      ],
      "source": [
        "test.created.min()"
      ]
    },
    {
      "cell_type": "markdown",
      "metadata": {
        "id": "z8368BlU4141"
      },
      "source": [
        "## 3.4 Split data into 3 parts with parameters validation_date and  test_date, return train, validation and test samples  splitted by input params"
      ]
    },
    {
      "cell_type": "code",
      "execution_count": 341,
      "metadata": {
        "id": "_M4Sw5Jn4141"
      },
      "outputs": [],
      "source": [
        "def train_validation_test_split_date(df: pd.DataFrame, date_col: str, validation_date: str, test_date: str):\n",
        "    return df[df[date_col] < validation_date], df[(df[date_col] >= validation_date) & (df[date_col] < test_date)], df[df[date_col] >= test_date]"
      ]
    },
    {
      "cell_type": "code",
      "execution_count": 342,
      "metadata": {
        "id": "4BNOVWl04141"
      },
      "outputs": [],
      "source": [
        "train, validation, test = train_validation_test_split_date(df_enriched, 'created', '2016-04-29', '2016-05-29')"
      ]
    },
    {
      "cell_type": "code",
      "execution_count": 343,
      "metadata": {
        "colab": {
          "base_uri": "https://localhost:8080/",
          "height": 35
        },
        "id": "VSNck9nn4141",
        "outputId": "3b1e9ec2-253c-490b-c6f7-d18a0526037a"
      },
      "outputs": [
        {
          "data": {
            "application/vnd.google.colaboratory.intrinsic+json": {
              "type": "string"
            },
            "text/plain": [
              "'2016-04-28 23:41:55'"
            ]
          },
          "execution_count": 343,
          "metadata": {},
          "output_type": "execute_result"
        }
      ],
      "source": [
        "train.created.max()"
      ]
    },
    {
      "cell_type": "code",
      "execution_count": 344,
      "metadata": {
        "colab": {
          "base_uri": "https://localhost:8080/",
          "height": 35
        },
        "id": "qeDfBvHU4142",
        "outputId": "466c0305-7acd-4661-ae39-093cd575d982"
      },
      "outputs": [
        {
          "data": {
            "application/vnd.google.colaboratory.intrinsic+json": {
              "type": "string"
            },
            "text/plain": [
              "'2016-05-28 20:52:19'"
            ]
          },
          "execution_count": 344,
          "metadata": {},
          "output_type": "execute_result"
        }
      ],
      "source": [
        "validation.created.max()"
      ]
    },
    {
      "cell_type": "code",
      "execution_count": 345,
      "metadata": {
        "colab": {
          "base_uri": "https://localhost:8080/",
          "height": 35
        },
        "id": "VftRIfIK4142",
        "outputId": "28870d89-4da2-4f59-ccec-c614d097ced9"
      },
      "outputs": [
        {
          "data": {
            "application/vnd.google.colaboratory.intrinsic+json": {
              "type": "string"
            },
            "text/plain": [
              "'2016-06-29 21:41:47'"
            ]
          },
          "execution_count": 345,
          "metadata": {},
          "output_type": "execute_result"
        }
      ],
      "source": [
        "test.created.max()"
      ]
    },
    {
      "cell_type": "markdown",
      "metadata": {
        "id": "MXzH7Gj64142"
      },
      "source": [
        "# 4. Implement next cross validation methods:"
      ]
    },
    {
      "cell_type": "markdown",
      "metadata": {
        "id": "jlzFoUeF4143"
      },
      "source": [
        "## 4.1 K-fold, where k is input parameter, return list of train and test indexes"
      ]
    },
    {
      "cell_type": "code",
      "execution_count": 346,
      "metadata": {
        "id": "rkVEc3ya4145"
      },
      "outputs": [],
      "source": [
        "def kfold(df, k=2):\n",
        "    assert k > 1\n",
        "    size = math.ceil(df.shape[0]/k)\n",
        "    res_list = [i for i in range(0, df.shape[0], size)]\n",
        "    res_list.append(df.shape[0])\n",
        "    result_arrays =[]\n",
        "    # print(res_list)\n",
        "    for i in range(len(res_list)-1):\n",
        "        result_arrays.append(np.array([i for i in range(0, res_list[i])]\n",
        "                                      + [i for i in range(res_list[i+1], res_list[len(res_list)-1])])) # train\n",
        "        result_arrays.append(np.arange(res_list[i], res_list[i+1]))  # test\n",
        "    return result_arrays"
      ]
    },
    {
      "cell_type": "markdown",
      "metadata": {
        "id": "9Nls8DxOQ2NT"
      },
      "source": [
        "## 4.2 Grouped K-fold, where k and group_field are input parameter, return list of train and test indexes"
      ]
    },
    {
      "cell_type": "markdown",
      "metadata": {
        "id": "YQnnIGhZTEo8"
      },
      "source": [
        "сплитов максимум столько сколько групп, меньше чем групп может быть"
      ]
    },
    {
      "cell_type": "code",
      "execution_count": 347,
      "metadata": {
        "id": "iu2FSAEUS7sF"
      },
      "outputs": [],
      "source": [
        "def grouped_kfold(df, group_field, k=2):\n",
        "    assert k > 1 and k <= df[group_field].nunique()\n",
        "    df.sort_values(by=[group_field])\n",
        "    group_list = []\n",
        "    sum=0\n",
        "    for i in df[group_field].value_counts():\n",
        "        group_list.append(sum+i-1)\n",
        "        sum += i\n",
        "    # print(\"group_list: \", group_list)\n",
        "    res_list = [0]\n",
        "    if k < df[group_field].nunique():\n",
        "        size = math.ceil(df.shape[0]/k)\n",
        "        size_list = [i for i in range(0, df.shape[0], size)]\n",
        "        size_list.remove(0)\n",
        "        # print(\"size_list: \", size_list)\n",
        "        for i in range(0, k-1):\n",
        "            closest_value = min(group_list, key=lambda x: abs(x - size_list[i]))\n",
        "            res_list.append(closest_value)\n",
        "            group_list.remove(closest_value)\n",
        "        res_list.append(df.shape[0])\n",
        "    else:\n",
        "        res_list += group_list\n",
        "    # print(\"res_list: \", res_list)\n",
        "\n",
        "    result_arrays =[]\n",
        "    for i in range(len(res_list)-1):\n",
        "        result_arrays.append(np.array([i for i in range(0, res_list[i])]\n",
        "                                      + [i for i in range(res_list[i+1], res_list[len(res_list)-1])])) # train\n",
        "        result_arrays.append(np.arange(res_list[i], res_list[i+1]))  # test\n",
        "    return result_arrays"
      ]
    },
    {
      "cell_type": "markdown",
      "metadata": {
        "id": "JLVkzG2rKKKy"
      },
      "source": [
        "## 4.3 Stratified K-fold, where k and stratify_field are input parameter, return list of train and test indexes"
      ]
    },
    {
      "cell_type": "code",
      "execution_count": 348,
      "metadata": {
        "id": "fFYI6zVAvCq0"
      },
      "outputs": [],
      "source": [
        "import itertools\n",
        "\n",
        "def stratified_kfold(df, strata, k=2):\n",
        "    assert k > 1\n",
        "    dict_idxes = {}\n",
        "    dict_sizes = {}\n",
        "    for i in strata.unique():\n",
        "        dict_idxes[i] = df.index[df['interest_level'] == i].tolist()\n",
        "        dict_sizes[i] = round(df.index[df['interest_level'] == i].size/k)\n",
        "    size = round(df.shape[0]/k)\n",
        "    result_arrays =[]\n",
        "    # print(res_list)\n",
        "    for j in range(k):\n",
        "        arr_train = (list([dict_idxes[i][:j*dict_sizes[i]] for i in dict_idxes.keys()]) +\n",
        "                    list([dict_idxes[i][(j+1)*dict_sizes[i]:] for i in dict_idxes.keys()]))\n",
        "        arr_train = list(itertools.chain(*arr_train))\n",
        "        result_arrays.append(np.array(arr_train)) # train\n",
        "        arr_test = list([dict_idxes[i][j*dict_sizes[i]:(j+1)*dict_sizes[i]] for i in dict_idxes.keys()])\n",
        "        arr_test = list(itertools.chain(*arr_test))\n",
        "        result_arrays.append(np.array(arr_test))  # test\n",
        "    return result_arrays"
      ]
    },
    {
      "cell_type": "markdown",
      "metadata": {
        "id": "oQSoMrfMp9Dq"
      },
      "source": [
        "## 4.4 Time series split, where k and date_field are input parameter, return list of train and test indexes"
      ]
    },
    {
      "cell_type": "code",
      "execution_count": 349,
      "metadata": {
        "id": "kEQRMPc_qA-a"
      },
      "outputs": [],
      "source": [
        "def time_series_split(df, date_field=None, k=2):\n",
        "    assert k > 1\n",
        "    if date_field != None:\n",
        "        df_sorted = df.sort_values(by=[date_field])\n",
        "    else:\n",
        "        df_sorted = df\n",
        "    size = math.ceil(df.shape[0]/(k+1))\n",
        "    result_arrays =[]\n",
        "    sup = k\n",
        "    for i in range(k):\n",
        "        result_arrays.append(np.array(df_sorted.index[:(i+1)*size].tolist())) # train\n",
        "        result_arrays.append(np.array(df_sorted.index[(i+1)*size:(i+2)*size].tolist()))  # test\n",
        "    return result_arrays"
      ]
    },
    {
      "cell_type": "markdown",
      "metadata": {
        "id": "I572XWcFAwn2"
      },
      "source": [
        "# 5. Cross-validation comparison"
      ]
    },
    {
      "cell_type": "markdown",
      "metadata": {
        "id": "zHvwyEQxA1Sa"
      },
      "source": [
        "## 5.1 Apply all implemented validation methods from above to our dataset."
      ]
    },
    {
      "cell_type": "markdown",
      "metadata": {
        "id": "ulrTkqwgA-b1"
      },
      "source": [
        "## 5.2 Apply the corresponding methods from sklearn."
      ]
    },
    {
      "cell_type": "markdown",
      "metadata": {
        "id": "Aqt3GTpXBFgl"
      },
      "source": [
        "## 5.3 Compare the resulting distributions of features for the training part of the dataset between sklearn and your own implementation."
      ]
    },
    {
      "cell_type": "code",
      "execution_count": 350,
      "metadata": {
        "colab": {
          "base_uri": "https://localhost:8080/"
        },
        "id": "h_2gl0Gh76U7",
        "outputId": "eecbd331-f77e-43c7-fa85-8e41d909f2f0"
      },
      "outputs": [
        {
          "name": "stdout",
          "output_type": "stream",
          "text": [
            "[16451 16452 16453 ... 49349 49350 49351] 32901\n",
            "[    0     1     2 ... 16448 16449 16450] 16451\n",
            "[    0     1     2 ... 49349 49350 49351] 32901\n",
            "[16451 16452 16453 ... 32899 32900 32901] 16451\n",
            "[    0     1     2 ... 32899 32900 32901] 32902\n",
            "[32902 32903 32904 ... 49349 49350 49351] 16450\n"
          ]
        }
      ],
      "source": [
        "for i in kfold(df_enriched, 3):\n",
        "    print(i, len(i))"
      ]
    },
    {
      "cell_type": "code",
      "execution_count": 351,
      "metadata": {
        "colab": {
          "base_uri": "https://localhost:8080/"
        },
        "id": "x-9zPpqU4143",
        "outputId": "60001615-8d17-4b89-a194-e5d9d2ed9bf0"
      },
      "outputs": [
        {
          "name": "stdout",
          "output_type": "stream",
          "text": [
            "[16451 16452 16453 ... 49349 49350 49351] 32901\n",
            "[    0     1     2 ... 16448 16449 16450] 16451\n",
            "[    0     1     2 ... 49349 49350 49351] 32901\n",
            "[16451 16452 16453 ... 32899 32900 32901] 16451\n",
            "[    0     1     2 ... 32899 32900 32901] 32902\n",
            "[32902 32903 32904 ... 49349 49350 49351] 16450\n"
          ]
        }
      ],
      "source": [
        "from sklearn.model_selection import KFold\n",
        "kf = KFold(n_splits=3)\n",
        "for train, test in kf.split(df_enriched):\n",
        "    print(\"%s %s\\n%s %s\" % (train, len(train), test, len(test)))"
      ]
    },
    {
      "cell_type": "code",
      "execution_count": 352,
      "metadata": {
        "colab": {
          "base_uri": "https://localhost:8080/"
        },
        "id": "B5s3yF9ip--f",
        "outputId": "71bf82d1-d78a-4fb0-8687-0720d4eaf718"
      },
      "outputs": [
        {
          "name": "stdout",
          "output_type": "stream",
          "text": [
            "[34283 34284 34285 ... 49348 49349 49350] 15068\n",
            "[    0     1     2 ... 34280 34281 34282] 34283\n",
            "[    0     1     2 ... 49348 49349 49350] 38122\n",
            "[34283 34284 34285 ... 45509 45510 45511] 11229\n",
            "[    0     1     2 ... 45509 45510 45511] 45512\n",
            "[45512 45513 45514 ... 49348 49349 49350] 3839\n"
          ]
        }
      ],
      "source": [
        "for i in grouped_kfold(df_enriched, 'interest_level', 3):\n",
        "    print(i, len(i))"
      ]
    },
    {
      "cell_type": "code",
      "execution_count": 353,
      "metadata": {
        "colab": {
          "base_uri": "https://localhost:8080/"
        },
        "id": "4vlfpZOS8G9F",
        "outputId": "2a14a3cc-db4d-44d8-a1be-a257f84b0dba"
      },
      "outputs": [
        {
          "name": "stdout",
          "output_type": "stream",
          "text": [
            "[    0     2     3 ... 49349 49350 49351] 15068\n",
            "[    1     4     5 ... 49345 49346 49347] 34284\n",
            "[    1     4     5 ... 49346 49347 49351] 38123\n",
            "[    0     2     3 ... 49348 49349 49350] 11229\n",
            "[    0     1     2 ... 49348 49349 49350] 45513\n",
            "[    7    17    31 ... 49312 49341 49351] 3839\n"
          ]
        }
      ],
      "source": [
        "\n",
        "from sklearn.model_selection import GroupKFold\n",
        "\n",
        "gkf = GroupKFold(n_splits=3)\n",
        "\n",
        "for train, test in gkf.split(df_enriched, groups=df_enriched.interest_level):\n",
        "    print(\"%s %s\\n%s %s\" % (train, len(train), test, len(test)))"
      ]
    },
    {
      "cell_type": "code",
      "execution_count": 354,
      "metadata": {
        "colab": {
          "base_uri": "https://localhost:8080/"
        },
        "id": "Pf0kNGm-6USr",
        "outputId": "9785592a-4574-4016-90bb-617d4d02b5a0"
      },
      "outputs": [
        {
          "name": "stdout",
          "output_type": "stream",
          "text": [
            "[12493 12494 12503 ... 49312 49341 49351] 37014\n",
            "[    0     2     3 ... 12333 12344 12347] 12338\n",
            "[    0     2     3 ... 49312 49341 49351] 37014\n",
            "[12493 12494 12503 ... 24446 24448 24454] 12338\n",
            "[    0     2     3 ... 49312 49341 49351] 37014\n",
            "[24899 24903 24904 ... 36540 36558 36560] 12338\n",
            "[    0     2     3 ... 36558 36560 49350] 37015\n",
            "[37136 37137 37140 ... 49312 49341 49351] 12337\n"
          ]
        }
      ],
      "source": [
        "for i in stratified_kfold(df_enriched,df_enriched['interest_level'], 4):\n",
        "    print(i, len(i))"
      ]
    },
    {
      "cell_type": "code",
      "execution_count": 355,
      "metadata": {
        "colab": {
          "base_uri": "https://localhost:8080/"
        },
        "id": "D6NN_om-o1JS",
        "outputId": "35dd0645-7e5e-439a-a365-582c360da500"
      },
      "outputs": [
        {
          "name": "stdout",
          "output_type": "stream",
          "text": [
            "[    0     1     2 ... 49348 49349 49350] 45513\n",
            "[    7    17    31 ... 49312 49341 49351] 3839\n",
            "[    0     1     2 ... 49348 49349 49350] 45513\n",
            "[    7    17    31 ... 49312 49341 49351] 3839\n",
            "[    0     1     2 ... 49348 49349 49350] 45513\n",
            "[    7    17    31 ... 49312 49341 49351] 3839\n",
            "[    0     1     2 ... 49348 49349 49350] 45513\n",
            "[    7    17    31 ... 49312 49341 49351] 3839\n"
          ]
        }
      ],
      "source": [
        "from sklearn.model_selection import StratifiedKFold\n",
        "skf = StratifiedKFold(n_splits=4) # 2 и более\n",
        "\n",
        "for train_index, test_index in skf.split(df_enriched.drop(['interest_level'], axis=1), df_enriched['interest_level']):\n",
        "    print(\"%s %s\\n%s %s\" % (train, len(train), test, len(test)))"
      ]
    },
    {
      "cell_type": "code",
      "execution_count": 356,
      "metadata": {
        "colab": {
          "base_uri": "https://localhost:8080/"
        },
        "id": "s9oNs6Yu5o5w",
        "outputId": "3a6d3d25-15cb-4aed-bf73-058865efb78d"
      },
      "outputs": [
        {
          "name": "stdout",
          "output_type": "stream",
          "text": [
            "[44454 46931 45569 ... 33984 42832 38871] 12338\n",
            "[48900 46458 43079 ... 25422 20458 22549] 12338\n",
            "[44454 46931 45569 ... 25422 20458 22549] 24676\n",
            "[25023 21022 17813 ... 11600  2810 16820] 12338\n",
            "[44454 46931 45569 ... 11600  2810 16820] 37014\n",
            "[ 3072 12873  6226 ...   247 13840 11297] 12338\n"
          ]
        }
      ],
      "source": [
        "for i in time_series_split(df_enriched, 'created', 3):\n",
        "    print(i, len(i))"
      ]
    },
    {
      "cell_type": "code",
      "execution_count": 357,
      "metadata": {
        "colab": {
          "base_uri": "https://localhost:8080/"
        },
        "id": "46M-0tjoqBCZ",
        "outputId": "3aa74c98-4f73-4989-ea2e-29884c9cfa5e"
      },
      "outputs": [
        {
          "name": "stdout",
          "output_type": "stream",
          "text": [
            "[    0     1     2 ... 12335 12336 12337] 12338\n",
            "[12338 12339 12340 ... 24673 24674 24675] 12338\n",
            "[    0     1     2 ... 24673 24674 24675] 24676\n",
            "[24676 24677 24678 ... 37011 37012 37013] 12338\n",
            "[    0     1     2 ... 37011 37012 37013] 37014\n",
            "[37014 37015 37016 ... 49349 49350 49351] 12338\n"
          ]
        }
      ],
      "source": [
        "from sklearn.model_selection import TimeSeriesSplit\n",
        "tscv = TimeSeriesSplit(n_splits=3)\n",
        "for train, test in tscv.split(df_enriched):\n",
        "    print(\"%s %s\\n%s %s\" % (train, len(train), test, len(test)))"
      ]
    },
    {
      "cell_type": "markdown",
      "metadata": {
        "id": "pAGYr6vJBMCQ"
      },
      "source": [
        "## 5.4 Compare all validation schemes. Choose the best one. Explain your choice."
      ]
    },
    {
      "cell_type": "markdown",
      "metadata": {
        "id": "xM8ZoWKVBRLu"
      },
      "source": [
        "ответ зависит от ситуации:\n",
        "1. При рандомном датасете лучше обычный сплит\n",
        "2. Если известно что есть группы и хотим присуствие каждой в трейн и тест, то лучше стратифицированный сплит\n",
        "3. Если хотим чтобы группы были отдельно в трейн и тест, то лучше кфолд сплит\n",
        "4. Если известно что временной ряд присуствует то лучше тайм сплит"
      ]
    },
    {
      "cell_type": "markdown",
      "metadata": {
        "id": "bVrgrrNFGG__"
      },
      "source": [
        "# 6. Feature selection"
      ]
    },
    {
      "cell_type": "markdown",
      "metadata": {
        "id": "zaB0TrPSGN2U"
      },
      "source": [
        "## 6.1 Fit lasso regression model with normalized features. Use your method for split samples into 3 parts by field created with ratio 60/20/20 – train/validation/test."
      ]
    },
    {
      "cell_type": "markdown",
      "metadata": {
        "id": "hGn2bp3kWBQb"
      },
      "source": [
        "Normalization"
      ]
    },
    {
      "cell_type": "code",
      "execution_count": 358,
      "metadata": {
        "id": "JsJEBNTLXiw-"
      },
      "outputs": [],
      "source": [
        "selected_columns = ['bathrooms', 'bedrooms']\n",
        "\n",
        "X_selected = df_enriched[selected_columns]\n",
        "\n",
        "scaler = StandardScaler()\n",
        "X_normalized = scaler.fit_transform(X_selected)\n",
        "\n",
        "df_enriched[selected_columns] = X_normalized"
      ]
    },
    {
      "cell_type": "markdown",
      "metadata": {
        "id": "o6uEEQQsIvsR"
      },
      "source": [
        "Split"
      ]
    },
    {
      "cell_type": "code",
      "execution_count": 359,
      "metadata": {
        "colab": {
          "base_uri": "https://localhost:8080/"
        },
        "id": "de3AR42bHFB2",
        "outputId": "257c4ec2-c97b-4413-fe55-ed1195df1e07"
      },
      "outputs": [
        {
          "name": "stdout",
          "output_type": "stream",
          "text": [
            "0.5999756848759928 0.1917855406062571 0.20823877451775005\n"
          ]
        }
      ],
      "source": [
        "train, validation, test = train_validation_test_split_date(df_enriched, 'created', '2016-05-25', '2016-06-12')\n",
        "size = df_enriched.shape[0]\n",
        "print(len(train)/size, len(validation)/size, len(test)/size)"
      ]
    },
    {
      "cell_type": "code",
      "execution_count": 360,
      "metadata": {
        "id": "JQ8lUGdJBQKh"
      },
      "outputs": [],
      "source": [
        "X_train = train.drop([\"price\", \"created\"], axis=1)\n",
        "y_train = train['price']\n",
        "\n",
        "X_val = validation.drop([\"price\", \"created\"], axis=1)\n",
        "y_val = validation['price']\n",
        "\n",
        "X_test = test.drop([\"price\", \"created\"], axis=1)\n",
        "y_test = test['price']"
      ]
    },
    {
      "cell_type": "code",
      "execution_count": 361,
      "metadata": {
        "colab": {
          "base_uri": "https://localhost:8080/"
        },
        "id": "4miTDX6dK4CP",
        "outputId": "7fd7274a-e250-4b4a-c6ae-e1122ed9fd90"
      },
      "outputs": [
        {
          "name": "stdout",
          "output_type": "stream",
          "text": [
            "MAE:  914.67\n",
            "RMSE: 1983.11\n",
            "R2:   0.44546\n",
            "CPU times: user 86.3 ms, sys: 52.5 ms, total: 139 ms\n",
            "Wall time: 222 ms\n"
          ]
        }
      ],
      "source": [
        "%%time\n",
        "lasso = Lasso()\n",
        "lasso.fit(X_train, y_train)\n",
        "\n",
        "y_pred = lasso.predict(X_val)\n",
        "rmse = np.sqrt(mean_squared_error(y_val, y_pred))\n",
        "r2 = r2_score(y_val, y_pred)\n",
        "mae = mean_absolute_error(y_val, y_pred)\n",
        "print(f\"MAE:  {(mae):.2f}\")\n",
        "print(f\"RMSE: {(rmse):.2f}\")\n",
        "print(f\"R2:   {(r2):.5f}\")"
      ]
    },
    {
      "cell_type": "markdown",
      "metadata": {
        "id": "huGyE4Juu3Bq"
      },
      "source": [
        "To save the result"
      ]
    },
    {
      "cell_type": "code",
      "execution_count": 362,
      "metadata": {
        "id": "BQZwMSm_u2f6"
      },
      "outputs": [],
      "source": [
        "result_MAE = pd.DataFrame({'model': [], 'validation': [], 'test': []})\n",
        "result_RMSE = pd.DataFrame({'model': [], 'validation': [], 'test': []})\n",
        "result_R2 = pd.DataFrame({'model': [], 'validation': [], 'test': []})"
      ]
    },
    {
      "cell_type": "code",
      "execution_count": 363,
      "metadata": {
        "id": "v6UlxXl_vLel"
      },
      "outputs": [],
      "source": [
        "result_MAE.loc[len(result_MAE)] = ['lasso_default', mae, mean_absolute_error(y_test, lasso.predict(X_test))]\n",
        "result_RMSE.loc[len(result_RMSE)] = ['lasso_default', rmse, np.sqrt(mean_squared_error(y_test, lasso.predict(X_test)))]\n",
        "result_R2.loc[len(result_R2)] = ['lasso_default', r2, r2_score(y_test, lasso.predict(X_test))]"
      ]
    },
    {
      "cell_type": "markdown",
      "metadata": {
        "id": "GUJstXQYKOfZ"
      },
      "source": [
        "## 6.2 Sort features by weight coefficients from model, refit model on top 10 features and compare quality."
      ]
    },
    {
      "cell_type": "code",
      "execution_count": 364,
      "metadata": {
        "colab": {
          "base_uri": "https://localhost:8080/"
        },
        "id": "yM9-12fzI7Jt",
        "outputId": "db681a6a-9005-41ae-d653-94691feb27c5"
      },
      "outputs": [
        {
          "name": "stdout",
          "output_type": "stream",
          "text": [
            "MAE:  912.26\n",
            "RMSE: 1992.85\n",
            "R2:   0.44000\n",
            "CPU times: user 30.9 ms, sys: 36.8 ms, total: 67.7 ms\n",
            "Wall time: 50.4 ms\n"
          ]
        }
      ],
      "source": [
        "%%time\n",
        "sorted_indices = np.argsort(lasso.coef_)\n",
        "top_10_indices = sorted_indices[-10:]\n",
        "\n",
        "X_train_top_10 = X_train.iloc[:, top_10_indices]\n",
        "X_val_top_10 = X_val.iloc[:, top_10_indices]\n",
        "X_test_top_10 = X_test.iloc[:, top_10_indices]\n",
        "\n",
        "lasso_top_10 = Lasso()\n",
        "lasso_top_10.fit(X_train_top_10, y_train)\n",
        "\n",
        "val_r2_top10 = r2_score(y_val, lasso_top_10.predict(X_val_top_10))\n",
        "val_rmse_top10 = np.sqrt(mean_squared_error(y_val, lasso_top_10.predict(X_val_top_10)))\n",
        "val_mae_top10 = mean_absolute_error(y_val, lasso_top_10.predict(X_val_top_10))\n",
        "\n",
        "print(f\"MAE:  {(val_mae_top10):.2f}\")\n",
        "print(f\"RMSE: {(val_rmse_top10):.2f}\")\n",
        "print(f\"R2:   {(val_r2_top10):.5f}\")"
      ]
    },
    {
      "cell_type": "markdown",
      "metadata": {
        "id": "n3KlJ8eWOcPU"
      },
      "source": [
        "т.е. если взять только топ10 по весу то модель становится чуть хуже"
      ]
    },
    {
      "cell_type": "code",
      "execution_count": 365,
      "metadata": {
        "id": "yTxp9VxVvnm3"
      },
      "outputs": [],
      "source": [
        "result_MAE.loc[len(result_MAE)] = ['lasso_weight_top10',\n",
        "                                   val_mae_top10,\n",
        "                                 mean_absolute_error(y_test, lasso_top_10.predict(X_test_top_10))]\n",
        "result_RMSE.loc[len(result_RMSE)] = ['lasso_weight_top10',\n",
        "                                     val_rmse_top10,\n",
        "                                   np.sqrt(mean_squared_error(y_test, lasso_top_10.predict(X_test_top_10)))]\n",
        "result_R2.loc[len(result_R2)] = ['lasso_weight_top10',\n",
        "                                 val_r2_top10,\n",
        "                                     r2_score(y_test, lasso_top_10.predict(X_test_top_10))]"
      ]
    },
    {
      "cell_type": "markdown",
      "metadata": {
        "id": "6LGgD8_R1cLu"
      },
      "source": [
        "## 6.3 Implement method for simple feature selection by nan ration in feature and correlation. Apply this method for the feature set and take top 10 features, refit model and measure quality."
      ]
    },
    {
      "cell_type": "code",
      "execution_count": 366,
      "metadata": {
        "id": "cWLhX7mbRV4p"
      },
      "outputs": [],
      "source": [
        "def select_by_correlation(df, amount_to_take):\n",
        "    correlation_matrix = df.corr()\n",
        "    sorted_correlation = correlation_matrix.abs().sum().sort_values()\n",
        "    selected_features = sorted_correlation[:amount_to_take].index\n",
        "    return selected_features"
      ]
    },
    {
      "cell_type": "code",
      "execution_count": 367,
      "metadata": {
        "colab": {
          "base_uri": "https://localhost:8080/"
        },
        "id": "0sZjT2VYR6bT",
        "outputId": "fc0b4daa-573d-4341-87ea-88bc5f027d74"
      },
      "outputs": [
        {
          "name": "stdout",
          "output_type": "stream",
          "text": [
            "MAE:  959.26\n",
            "RMSE: 2028.74\n",
            "R2:   0.41965\n",
            "CPU times: user 129 ms, sys: 45.2 ms, total: 174 ms\n",
            "Wall time: 175 ms\n"
          ]
        }
      ],
      "source": [
        "%%time\n",
        "selected_features = select_by_correlation(X_train, 10)\n",
        "\n",
        "X_train_selected = X_train[selected_features]\n",
        "X_val_selected = X_val[selected_features]\n",
        "X_test_selected = X_test[selected_features]\n",
        "\n",
        "lasso_corr = Lasso()\n",
        "lasso_corr.fit(X_train_selected, y_train)\n",
        "\n",
        "val_r2_top10 = r2_score(y_val, lasso_corr.predict(X_val_selected))\n",
        "val_rmse_top10 = np.sqrt(mean_squared_error(y_val, lasso_corr.predict(X_val_selected)))\n",
        "val_mae_top10 = mean_absolute_error(y_val, lasso_corr.predict(X_val_selected))\n",
        "\n",
        "print(f\"MAE:  {(val_mae_top10):.2f}\")\n",
        "print(f\"RMSE: {(val_rmse_top10):.2f}\")\n",
        "print(f\"R2:   {(val_r2_top10):.5f}\")"
      ]
    },
    {
      "cell_type": "markdown",
      "metadata": {
        "id": "NpY0um6hVoz0"
      },
      "source": [
        "показатели тоже хуже стали"
      ]
    },
    {
      "cell_type": "code",
      "execution_count": 368,
      "metadata": {
        "id": "nCufGCuSvy3g"
      },
      "outputs": [],
      "source": [
        "result_MAE.loc[len(result_MAE)] = ['lasso_corr_top10', val_mae_top10,\n",
        "                                 mean_absolute_error(y_test, lasso_corr.predict(X_test_selected))]\n",
        "result_RMSE.loc[len(result_RMSE)] = ['lasso_corr_top10', val_rmse_top10,\n",
        "                                   np.sqrt(mean_squared_error(y_test, lasso_corr.predict(X_test_selected)))]\n",
        "result_R2.loc[len(result_R2)] = ['lasso_corr_top10', val_r2_top10,\n",
        "                                     r2_score(y_test, lasso_corr.predict(X_test_selected))]"
      ]
    },
    {
      "cell_type": "markdown",
      "metadata": {
        "id": "kQb0vuweFggH"
      },
      "source": [
        "## 6.4 Implement permutation importance method and take top 10 features, refit model and measure quality."
      ]
    },
    {
      "cell_type": "code",
      "execution_count": 369,
      "metadata": {
        "id": "dftHz4WkFuQ6"
      },
      "outputs": [],
      "source": [
        "def my_permutation_importance(model, X_test, y_test):\n",
        "    n_features = X_test.shape[1]\n",
        "    importances = np.zeros(n_features)\n",
        "\n",
        "    for i in range(n_features):\n",
        "        X_test_permuted = X_test.copy()\n",
        "        X_test_permuted.iloc[:, i] = np.random.permutation(X_test_permuted.iloc[:, i])\n",
        "\n",
        "        score_orig = model.score(X_test, y_test)\n",
        "        score_permuted = model.score(X_test_permuted, y_test)\n",
        "\n",
        "        importances[i] = score_orig - score_permuted\n",
        "    return importances"
      ]
    },
    {
      "cell_type": "code",
      "execution_count": 370,
      "metadata": {
        "colab": {
          "base_uri": "https://localhost:8080/"
        },
        "id": "ZOeRAIaqHVER",
        "outputId": "83366391-0272-41b5-9535-b54af410581b"
      },
      "outputs": [
        {
          "name": "stdout",
          "output_type": "stream",
          "text": [
            "MAE:  906.82\n",
            "RMSE: 1981.13\n",
            "R2:   0.44657\n",
            "CPU times: user 384 ms, sys: 292 ms, total: 675 ms\n",
            "Wall time: 678 ms\n"
          ]
        }
      ],
      "source": [
        "%%time\n",
        "importances = my_permutation_importance(Lasso().fit(X_train, y_train), X_val, y_val)\n",
        "top_10_indices = np.argsort(importances)[-10:]\n",
        "X_train_top_10 = X_train.iloc[:, top_10_indices]\n",
        "X_val_top_10 = X_val.iloc[:, top_10_indices]\n",
        "X_test_top_10 = X_test.iloc[:, top_10_indices]\n",
        "\n",
        "model_top_10 = Lasso().fit(X_train_top_10, y_train)\n",
        "\n",
        "val_r2_top10 = r2_score(y_val, model_top_10.predict(X_val_top_10))\n",
        "val_rmse_top10 = np.sqrt(mean_squared_error(y_val, model_top_10.predict(X_val_top_10)))\n",
        "val_mae_top10 = mean_absolute_error(y_val, model_top_10.predict(X_val_top_10))\n",
        "\n",
        "print(f\"MAE:  {(val_mae_top10):.2f}\")\n",
        "print(f\"RMSE: {(val_rmse_top10):.2f}\")\n",
        "print(f\"R2:   {(val_r2_top10):.5f}\")"
      ]
    },
    {
      "cell_type": "markdown",
      "metadata": {
        "id": "P138i69HsWiG"
      },
      "source": [
        "стало получше"
      ]
    },
    {
      "cell_type": "code",
      "execution_count": 371,
      "metadata": {
        "id": "1cA-e8RFv-_B"
      },
      "outputs": [],
      "source": [
        "result_MAE.loc[len(result_MAE)] = ['lasso_permutation_top10', val_mae_top10,\n",
        "                                 mean_absolute_error(y_test, model_top_10.predict(X_test_top_10))]\n",
        "result_RMSE.loc[len(result_RMSE)] = ['lasso_permutation_top10', val_rmse_top10,\n",
        "                                   np.sqrt(mean_squared_error(y_test, model_top_10.predict(X_test_top_10)))]\n",
        "result_R2.loc[len(result_R2)] = ['lasso_permutation_top10', val_r2_top10,\n",
        "                                     r2_score(y_test, model_top_10.predict(X_test_top_10))]"
      ]
    },
    {
      "cell_type": "markdown",
      "metadata": {
        "id": "l_jmp1e0LBnw"
      },
      "source": [
        "## 6.4 Import shap and also refit model on top 10 features"
      ]
    },
    {
      "cell_type": "code",
      "execution_count": 372,
      "metadata": {
        "colab": {
          "base_uri": "https://localhost:8080/",
          "height": 138,
          "referenced_widgets": [
            "7cf3c7f0cd14467b808ae0e9a861ceee",
            "5f14f4a0e2df413aa476659d0c12257e",
            "34e42e25759347fe8783cd97c6c37798",
            "57bc5595c33f43948f4705ea52760cab",
            "80572772a8a24ad4bb17cd1be0ab36da",
            "1447acc7e1694c39ab7c2f497a42d7af",
            "89b08b6da8894135a8a5ae73a806a964",
            "e7aaf9b682bb4ebfa78783ed97d36662",
            "33af1f357d9d4fbdad868950435cdd50",
            "06499df1f02543999a29d5a55075860b",
            "3187809060154669b680390116db6468"
          ]
        },
        "id": "9g3QDHm-L-sf",
        "outputId": "6c0bee5d-f8e1-440a-b462-dc034e00f334"
      },
      "outputs": [
        {
          "data": {
            "application/vnd.jupyter.widget-view+json": {
              "model_id": "7cf3c7f0cd14467b808ae0e9a861ceee",
              "version_major": 2,
              "version_minor": 0
            },
            "text/plain": [
              "  0%|          | 0/1 [00:00<?, ?it/s]"
            ]
          },
          "metadata": {},
          "output_type": "display_data"
        },
        {
          "name": "stdout",
          "output_type": "stream",
          "text": [
            "MAE:  1069.72\n",
            "RMSE: 2286.68\n",
            "R2:   0.26269\n",
            "CPU times: user 101 ms, sys: 35.2 ms, total: 136 ms\n",
            "Wall time: 166 ms\n"
          ]
        }
      ],
      "source": [
        "%%time\n",
        "\n",
        "background_data = X_train.iloc[0, :].values.reshape(1, -1)\n",
        "explainer = shap.KernelExplainer(model=lasso.predict, data=background_data, link=\"identity\")\n",
        "\n",
        "instance = X_train.iloc[0, :].values.reshape(1, -1)\n",
        "shap_values = explainer.shap_values(instance)\n",
        "\n",
        "feature_importances = np.mean(np.abs(shap_values), axis=0)\n",
        "\n",
        "top_10_indices = np.argsort(feature_importances)[-10:]\n",
        "X_top_10 = X_train.iloc[:, top_10_indices]\n",
        "X_top_10_val = X_val.iloc[:, top_10_indices]\n",
        "X_top_10_test = X_test.iloc[:, top_10_indices]\n",
        "\n",
        "lasso_top_10 = Lasso()\n",
        "lasso_top_10.fit(X_top_10, y_train)\n",
        "val_r2_top10 = r2_score(y_val, lasso_top_10.predict(X_top_10_val))\n",
        "val_rmse_top10 = np.sqrt(mean_squared_error(y_val, lasso_top_10.predict(X_top_10_val)))\n",
        "val_mae_top10 = mean_absolute_error(y_val, lasso_top_10.predict(X_top_10_val))\n",
        "\n",
        "print(f\"MAE:  {(val_mae_top10):.2f}\")\n",
        "print(f\"RMSE: {(val_rmse_top10):.2f}\")\n",
        "print(f\"R2:   {(val_r2_top10):.5f}\")"
      ]
    },
    {
      "cell_type": "code",
      "execution_count": 373,
      "metadata": {
        "colab": {
          "base_uri": "https://localhost:8080/",
          "height": 957
        },
        "id": "UebgKujosiEl",
        "outputId": "7777db71-d245-4a83-b729-161b5c0c75f9"
      },
      "outputs": [
        {
          "data": {
            "image/png": "[encoded data removed]",
            "text/plain": [
              "<Figure size 800x950 with 2 Axes>"
            ]
          },
          "metadata": {},
          "output_type": "display_data"
        }
      ],
      "source": [
        "shap.summary_plot(shap_values, instance, feature_names=X_train.columns)"
      ]
    },
    {
      "cell_type": "markdown",
      "metadata": {
        "id": "FJPbXjebs4Cc"
      },
      "source": [
        "стало хуже"
      ]
    },
    {
      "cell_type": "code",
      "execution_count": 374,
      "metadata": {
        "id": "dvWN-nx5wKmJ"
      },
      "outputs": [],
      "source": [
        "result_MAE.loc[len(result_MAE)] = ['lasso_shap_top10', val_mae_top10,\n",
        "                                 mean_absolute_error(y_test, lasso_top_10.predict(X_top_10_test))]\n",
        "result_RMSE.loc[len(result_RMSE)] = ['lasso_shap_top10', val_rmse_top10,\n",
        "                                   np.sqrt(mean_squared_error(y_test, lasso_top_10.predict(X_top_10_test)))]\n",
        "result_R2.loc[len(result_R2)] = ['lasso_shap_top10', val_r2_top10,\n",
        "                                     r2_score(y_test, lasso_top_10.predict(X_top_10_test))]"
      ]
    },
    {
      "cell_type": "markdown",
      "metadata": {
        "id": "uxPzJZ0UMF9P"
      },
      "source": [
        "## 6.5 Compare the quality of these methods for different sides – speed, metrics and stability."
      ]
    },
    {
      "cell_type": "code",
      "execution_count": 375,
      "metadata": {
        "colab": {
          "base_uri": "https://localhost:8080/",
          "height": 206
        },
        "id": "WYoj16NbMH5V",
        "outputId": "8575681b-3442-4b28-f1c1-f5ed64412843"
      },
      "outputs": [
        {
          "data": {
            "application/vnd.google.colaboratory.intrinsic+json": {
              "summary": "{\n  \"name\": \"result_MAE\",\n  \"rows\": 5,\n  \"fields\": [\n    {\n      \"column\": \"model\",\n      \"properties\": {\n        \"dtype\": \"string\",\n        \"num_unique_values\": 5,\n        \"samples\": [\n          \"lasso_weight_top10\",\n          \"lasso_shap_top10\",\n          \"lasso_corr_top10\"\n        ],\n        \"semantic_type\": \"\",\n        \"description\": \"\"\n      }\n    },\n    {\n      \"column\": \"validation\",\n      \"properties\": {\n        \"dtype\": \"number\",\n        \"std\": 68.77896571389597,\n        \"min\": 906.8180751949875,\n        \"max\": 1069.7152488563415,\n        \"num_unique_values\": 5,\n        \"samples\": [\n          912.2602584030759,\n          1069.7152488563415,\n          959.2583975227094\n        ],\n        \"semantic_type\": \"\",\n        \"description\": \"\"\n      }\n    },\n    {\n      \"column\": \"test\",\n      \"properties\": {\n        \"dtype\": \"number\",\n        \"std\": 69.42788622262624,\n        \"min\": 1429.9627328755048,\n        \"max\": 1596.299359314616,\n        \"num_unique_values\": 5,\n        \"samples\": [\n          1429.9627328755048,\n          1596.299359314616,\n          1472.2732934122682\n        ],\n        \"semantic_type\": \"\",\n        \"description\": \"\"\n      }\n    }\n  ]\n}",
              "type": "dataframe",
              "variable_name": "result_MAE"
            },
            "text/html": [
              "\n",
              "  <div id=\"df-9c9fdf1f-2271-4aa2-86b1-167dca68263b\" class=\"colab-df-container\">\n",
              "    <div>\n",
              "<style scoped>\n",
              "    .dataframe tbody tr th:only-of-type {\n",
              "        vertical-align: middle;\n",
              "    }\n",
              "\n",
              "    .dataframe tbody tr th {\n",
              "        vertical-align: top;\n",
              "    }\n",
              "\n",
              "    .dataframe thead th {\n",
              "        text-align: right;\n",
              "    }\n",
              "</style>\n",
              "<table border=\"1\" class=\"dataframe\">\n",
              "  <thead>\n",
              "    <tr style=\"text-align: right;\">\n",
              "      <th></th>\n",
              "      <th>model</th>\n",
              "      <th>validation</th>\n",
              "      <th>test</th>\n",
              "    </tr>\n",
              "  </thead>\n",
              "  <tbody>\n",
              "    <tr>\n",
              "      <th>0</th>\n",
              "      <td>lasso_default</td>\n",
              "      <td>914.671058</td>\n",
              "      <td>1442.160323</td>\n",
              "    </tr>\n",
              "    <tr>\n",
              "      <th>1</th>\n",
              "      <td>lasso_weight_top10</td>\n",
              "      <td>912.260258</td>\n",
              "      <td>1429.962733</td>\n",
              "    </tr>\n",
              "    <tr>\n",
              "      <th>2</th>\n",
              "      <td>lasso_corr_top10</td>\n",
              "      <td>959.258398</td>\n",
              "      <td>1472.273293</td>\n",
              "    </tr>\n",
              "    <tr>\n",
              "      <th>3</th>\n",
              "      <td>lasso_permutation_top10</td>\n",
              "      <td>906.818075</td>\n",
              "      <td>1436.862549</td>\n",
              "    </tr>\n",
              "    <tr>\n",
              "      <th>4</th>\n",
              "      <td>lasso_shap_top10</td>\n",
              "      <td>1069.715249</td>\n",
              "      <td>1596.299359</td>\n",
              "    </tr>\n",
              "  </tbody>\n",
              "</table>\n",
              "</div>\n",
              "    <div class=\"colab-df-buttons\">\n",
              "\n",
              "  <div class=\"colab-df-container\">\n",
              "    <button class=\"colab-df-convert\" onclick=\"convertToInteractive('df-9c9fdf1f-2271-4aa2-86b1-167dca68263b')\"\n",
              "            title=\"Convert this dataframe to an interactive table.\"\n",
              "            style=\"display:none;\">\n",
              "\n",
              "  <svg xmlns=\"http://www.w3.org/2000/svg\" height=\"24px\" viewBox=\"0 -960 960 960\">\n",
              "    <path d=\"M120-120v-720h720v720H120Zm60-500h600v-160H180v160Zm220 220h160v-160H400v160Zm0 220h160v-160H400v160ZM180-400h160v-160H180v160Zm440 0h160v-160H620v160ZM180-180h160v-160H180v160Zm440 0h160v-160H620v160Z\"/>\n",
              "  </svg>\n",
              "    </button>\n",
              "\n",
              "  <style>\n",
              "    .colab-df-container {\n",
              "      display:flex;\n",
              "      gap: 12px;\n",
              "    }\n",
              "\n",
              "    .colab-df-convert {\n",
              "      background-color: #E8F0FE;\n",
              "      border: none;\n",
              "      border-radius: 50%;\n",
              "      cursor: pointer;\n",
              "      display: none;\n",
              "      fill: #1967D2;\n",
              "      height: 32px;\n",
              "      padding: 0 0 0 0;\n",
              "      width: 32px;\n",
              "    }\n",
              "\n",
              "    .colab-df-convert:hover {\n",
              "      background-color: #E2EBFA;\n",
              "      box-shadow: 0px 1px 2px rgba(60, 64, 67, 0.3), 0px 1px 3px 1px rgba(60, 64, 67, 0.15);\n",
              "      fill: #174EA6;\n",
              "    }\n",
              "\n",
              "    .colab-df-buttons div {\n",
              "      margin-bottom: 4px;\n",
              "    }\n",
              "\n",
              "    [theme=dark] .colab-df-convert {\n",
              "      background-color: #3B4455;\n",
              "      fill: #D2E3FC;\n",
              "    }\n",
              "\n",
              "    [theme=dark] .colab-df-convert:hover {\n",
              "      background-color: #434B5C;\n",
              "      box-shadow: 0px 1px 3px 1px rgba(0, 0, 0, 0.15);\n",
              "      filter: drop-shadow(0px 1px 2px rgba(0, 0, 0, 0.3));\n",
              "      fill: #FFFFFF;\n",
              "    }\n",
              "  </style>\n",
              "\n",
              "    <script>\n",
              "      const buttonEl =\n",
              "        document.querySelector('#df-9c9fdf1f-2271-4aa2-86b1-167dca68263b button.colab-df-convert');\n",
              "      buttonEl.style.display =\n",
              "        google.colab.kernel.accessAllowed ? 'block' : 'none';\n",
              "\n",
              "      async function convertToInteractive(key) {\n",
              "        const element = document.querySelector('#df-9c9fdf1f-2271-4aa2-86b1-167dca68263b');\n",
              "        const dataTable =\n",
              "          await google.colab.kernel.invokeFunction('convertToInteractive',\n",
              "                                                    [key], {});\n",
              "        if (!dataTable) return;\n",
              "\n",
              "        const docLinkHtml = 'Like what you see? Visit the ' +\n",
              "          '<a target=\"_blank\" href=https://colab.research.google.com/notebooks/data_table.ipynb>data table notebook</a>'\n",
              "          + ' to learn more about interactive tables.';\n",
              "        element.innerHTML = '';\n",
              "        dataTable['output_type'] = 'display_data';\n",
              "        await google.colab.output.renderOutput(dataTable, element);\n",
              "        const docLink = document.createElement('div');\n",
              "        docLink.innerHTML = docLinkHtml;\n",
              "        element.appendChild(docLink);\n",
              "      }\n",
              "    </script>\n",
              "  </div>\n",
              "\n",
              "\n",
              "<div id=\"df-3b47da76-0437-4703-b5ee-8cf3430207f0\">\n",
              "  <button class=\"colab-df-quickchart\" onclick=\"quickchart('df-3b47da76-0437-4703-b5ee-8cf3430207f0')\"\n",
              "            title=\"Suggest charts\"\n",
              "            style=\"display:none;\">\n",
              "\n",
              "<svg xmlns=\"http://www.w3.org/2000/svg\" height=\"24px\"viewBox=\"0 0 24 24\"\n",
              "     width=\"24px\">\n",
              "    <g>\n",
              "        <path d=\"M19 3H5c-1.1 0-2 .9-2 2v14c0 1.1.9 2 2 2h14c1.1 0 2-.9 2-2V5c0-1.1-.9-2-2-2zM9 17H7v-7h2v7zm4 0h-2V7h2v10zm4 0h-2v-4h2v4z\"/>\n",
              "    </g>\n",
              "</svg>\n",
              "  </button>\n",
              "\n",
              "<style>\n",
              "  .colab-df-quickchart {\n",
              "      --bg-color: #E8F0FE;\n",
              "      --fill-color: #1967D2;\n",
              "      --hover-bg-color: #E2EBFA;\n",
              "      --hover-fill-color: #174EA6;\n",
              "      --disabled-fill-color: #AAA;\n",
              "      --disabled-bg-color: #DDD;\n",
              "  }\n",
              "\n",
              "  [theme=dark] .colab-df-quickchart {\n",
              "      --bg-color: #3B4455;\n",
              "      --fill-color: #D2E3FC;\n",
              "      --hover-bg-color: #434B5C;\n",
              "      --hover-fill-color: #FFFFFF;\n",
              "      --disabled-bg-color: #3B4455;\n",
              "      --disabled-fill-color: #666;\n",
              "  }\n",
              "\n",
              "  .colab-df-quickchart {\n",
              "    background-color: var(--bg-color);\n",
              "    border: none;\n",
              "    border-radius: 50%;\n",
              "    cursor: pointer;\n",
              "    display: none;\n",
              "    fill: var(--fill-color);\n",
              "    height: 32px;\n",
              "    padding: 0;\n",
              "    width: 32px;\n",
              "  }\n",
              "\n",
              "  .colab-df-quickchart:hover {\n",
              "    background-color: var(--hover-bg-color);\n",
              "    box-shadow: 0 1px 2px rgba(60, 64, 67, 0.3), 0 1px 3px 1px rgba(60, 64, 67, 0.15);\n",
              "    fill: var(--button-hover-fill-color);\n",
              "  }\n",
              "\n",
              "  .colab-df-quickchart-complete:disabled,\n",
              "  .colab-df-quickchart-complete:disabled:hover {\n",
              "    background-color: var(--disabled-bg-color);\n",
              "    fill: var(--disabled-fill-color);\n",
              "    box-shadow: none;\n",
              "  }\n",
              "\n",
              "  .colab-df-spinner {\n",
              "    border: 2px solid var(--fill-color);\n",
              "    border-color: transparent;\n",
              "    border-bottom-color: var(--fill-color);\n",
              "    animation:\n",
              "      spin 1s steps(1) infinite;\n",
              "  }\n",
              "\n",
              "  @keyframes spin {\n",
              "    0% {\n",
              "      border-color: transparent;\n",
              "      border-bottom-color: var(--fill-color);\n",
              "      border-left-color: var(--fill-color);\n",
              "    }\n",
              "    20% {\n",
              "      border-color: transparent;\n",
              "      border-left-color: var(--fill-color);\n",
              "      border-top-color: var(--fill-color);\n",
              "    }\n",
              "    30% {\n",
              "      border-color: transparent;\n",
              "      border-left-color: var(--fill-color);\n",
              "      border-top-color: var(--fill-color);\n",
              "      border-right-color: var(--fill-color);\n",
              "    }\n",
              "    40% {\n",
              "      border-color: transparent;\n",
              "      border-right-color: var(--fill-color);\n",
              "      border-top-color: var(--fill-color);\n",
              "    }\n",
              "    60% {\n",
              "      border-color: transparent;\n",
              "      border-right-color: var(--fill-color);\n",
              "    }\n",
              "    80% {\n",
              "      border-color: transparent;\n",
              "      border-right-color: var(--fill-color);\n",
              "      border-bottom-color: var(--fill-color);\n",
              "    }\n",
              "    90% {\n",
              "      border-color: transparent;\n",
              "      border-bottom-color: var(--fill-color);\n",
              "    }\n",
              "  }\n",
              "</style>\n",
              "\n",
              "  <script>\n",
              "    async function quickchart(key) {\n",
              "      const quickchartButtonEl =\n",
              "        document.querySelector('#' + key + ' button');\n",
              "      quickchartButtonEl.disabled = true;  // To prevent multiple clicks.\n",
              "      quickchartButtonEl.classList.add('colab-df-spinner');\n",
              "      try {\n",
              "        const charts = await google.colab.kernel.invokeFunction(\n",
              "            'suggestCharts', [key], {});\n",
              "      } catch (error) {\n",
              "        console.error('Error during call to suggestCharts:', error);\n",
              "      }\n",
              "      quickchartButtonEl.classList.remove('colab-df-spinner');\n",
              "      quickchartButtonEl.classList.add('colab-df-quickchart-complete');\n",
              "    }\n",
              "    (() => {\n",
              "      let quickchartButtonEl =\n",
              "        document.querySelector('#df-3b47da76-0437-4703-b5ee-8cf3430207f0 button');\n",
              "      quickchartButtonEl.style.display =\n",
              "        google.colab.kernel.accessAllowed ? 'block' : 'none';\n",
              "    })();\n",
              "  </script>\n",
              "</div>\n",
              "    </div>\n",
              "  </div>\n"
            ],
            "text/plain": [
              "                     model   validation         test\n",
              "0            lasso_default   914.671058  1442.160323\n",
              "1       lasso_weight_top10   912.260258  1429.962733\n",
              "2         lasso_corr_top10   959.258398  1472.273293\n",
              "3  lasso_permutation_top10   906.818075  1436.862549\n",
              "4         lasso_shap_top10  1069.715249  1596.299359"
            ]
          },
          "execution_count": 375,
          "metadata": {},
          "output_type": "execute_result"
        }
      ],
      "source": [
        "result_MAE"
      ]
    },
    {
      "cell_type": "code",
      "execution_count": 376,
      "metadata": {
        "colab": {
          "base_uri": "https://localhost:8080/",
          "height": 206
        },
        "id": "mmwJQfKuwTQL",
        "outputId": "4b25c0ef-c3bf-4da1-b659-fe463e59d5d6"
      },
      "outputs": [
        {
          "data": {
            "application/vnd.google.colaboratory.intrinsic+json": {
              "summary": "{\n  \"name\": \"result_RMSE\",\n  \"rows\": 5,\n  \"fields\": [\n    {\n      \"column\": \"model\",\n      \"properties\": {\n        \"dtype\": \"string\",\n        \"num_unique_values\": 5,\n        \"samples\": [\n          \"lasso_weight_top10\",\n          \"lasso_shap_top10\",\n          \"lasso_corr_top10\"\n        ],\n        \"semantic_type\": \"\",\n        \"description\": \"\"\n      }\n    },\n    {\n      \"column\": \"validation\",\n      \"properties\": {\n        \"dtype\": \"number\",\n        \"std\": 131.19874924282252,\n        \"min\": 1981.1308736126132,\n        \"max\": 2286.6807759035933,\n        \"num_unique_values\": 5,\n        \"samples\": [\n          1992.8510151780822,\n          2286.6807759035933,\n          2028.7353486062907\n        ],\n        \"semantic_type\": \"\",\n        \"description\": \"\"\n      }\n    },\n    {\n      \"column\": \"test\",\n      \"properties\": {\n        \"dtype\": \"number\",\n        \"std\": 5.68238270629559,\n        \"min\": 45693.95595644751,\n        \"max\": 45708.19138466862,\n        \"num_unique_values\": 5,\n        \"samples\": [\n          45701.59066232025,\n          45696.715928338424,\n          45708.19138466862\n        ],\n        \"semantic_type\": \"\",\n        \"description\": \"\"\n      }\n    }\n  ]\n}",
              "type": "dataframe",
              "variable_name": "result_RMSE"
            },
            "text/html": [
              "\n",
              "  <div id=\"df-3c147c64-d424-4ab7-8a74-ec2fc31d21f3\" class=\"colab-df-container\">\n",
              "    <div>\n",
              "<style scoped>\n",
              "    .dataframe tbody tr th:only-of-type {\n",
              "        vertical-align: middle;\n",
              "    }\n",
              "\n",
              "    .dataframe tbody tr th {\n",
              "        vertical-align: top;\n",
              "    }\n",
              "\n",
              "    .dataframe thead th {\n",
              "        text-align: right;\n",
              "    }\n",
              "</style>\n",
              "<table border=\"1\" class=\"dataframe\">\n",
              "  <thead>\n",
              "    <tr style=\"text-align: right;\">\n",
              "      <th></th>\n",
              "      <th>model</th>\n",
              "      <th>validation</th>\n",
              "      <th>test</th>\n",
              "    </tr>\n",
              "  </thead>\n",
              "  <tbody>\n",
              "    <tr>\n",
              "      <th>0</th>\n",
              "      <td>lasso_default</td>\n",
              "      <td>1983.106084</td>\n",
              "      <td>45693.955956</td>\n",
              "    </tr>\n",
              "    <tr>\n",
              "      <th>1</th>\n",
              "      <td>lasso_weight_top10</td>\n",
              "      <td>1992.851015</td>\n",
              "      <td>45701.590662</td>\n",
              "    </tr>\n",
              "    <tr>\n",
              "      <th>2</th>\n",
              "      <td>lasso_corr_top10</td>\n",
              "      <td>2028.735349</td>\n",
              "      <td>45708.191385</td>\n",
              "    </tr>\n",
              "    <tr>\n",
              "      <th>3</th>\n",
              "      <td>lasso_permutation_top10</td>\n",
              "      <td>1981.130874</td>\n",
              "      <td>45696.197996</td>\n",
              "    </tr>\n",
              "    <tr>\n",
              "      <th>4</th>\n",
              "      <td>lasso_shap_top10</td>\n",
              "      <td>2286.680776</td>\n",
              "      <td>45696.715928</td>\n",
              "    </tr>\n",
              "  </tbody>\n",
              "</table>\n",
              "</div>\n",
              "    <div class=\"colab-df-buttons\">\n",
              "\n",
              "  <div class=\"colab-df-container\">\n",
              "    <button class=\"colab-df-convert\" onclick=\"convertToInteractive('df-3c147c64-d424-4ab7-8a74-ec2fc31d21f3')\"\n",
              "            title=\"Convert this dataframe to an interactive table.\"\n",
              "            style=\"display:none;\">\n",
              "\n",
              "  <svg xmlns=\"http://www.w3.org/2000/svg\" height=\"24px\" viewBox=\"0 -960 960 960\">\n",
              "    <path d=\"M120-120v-720h720v720H120Zm60-500h600v-160H180v160Zm220 220h160v-160H400v160Zm0 220h160v-160H400v160ZM180-400h160v-160H180v160Zm440 0h160v-160H620v160ZM180-180h160v-160H180v160Zm440 0h160v-160H620v160Z\"/>\n",
              "  </svg>\n",
              "    </button>\n",
              "\n",
              "  <style>\n",
              "    .colab-df-container {\n",
              "      display:flex;\n",
              "      gap: 12px;\n",
              "    }\n",
              "\n",
              "    .colab-df-convert {\n",
              "      background-color: #E8F0FE;\n",
              "      border: none;\n",
              "      border-radius: 50%;\n",
              "      cursor: pointer;\n",
              "      display: none;\n",
              "      fill: #1967D2;\n",
              "      height: 32px;\n",
              "      padding: 0 0 0 0;\n",
              "      width: 32px;\n",
              "    }\n",
              "\n",
              "    .colab-df-convert:hover {\n",
              "      background-color: #E2EBFA;\n",
              "      box-shadow: 0px 1px 2px rgba(60, 64, 67, 0.3), 0px 1px 3px 1px rgba(60, 64, 67, 0.15);\n",
              "      fill: #174EA6;\n",
              "    }\n",
              "\n",
              "    .colab-df-buttons div {\n",
              "      margin-bottom: 4px;\n",
              "    }\n",
              "\n",
              "    [theme=dark] .colab-df-convert {\n",
              "      background-color: #3B4455;\n",
              "      fill: #D2E3FC;\n",
              "    }\n",
              "\n",
              "    [theme=dark] .colab-df-convert:hover {\n",
              "      background-color: #434B5C;\n",
              "      box-shadow: 0px 1px 3px 1px rgba(0, 0, 0, 0.15);\n",
              "      filter: drop-shadow(0px 1px 2px rgba(0, 0, 0, 0.3));\n",
              "      fill: #FFFFFF;\n",
              "    }\n",
              "  </style>\n",
              "\n",
              "    <script>\n",
              "      const buttonEl =\n",
              "        document.querySelector('#df-3c147c64-d424-4ab7-8a74-ec2fc31d21f3 button.colab-df-convert');\n",
              "      buttonEl.style.display =\n",
              "        google.colab.kernel.accessAllowed ? 'block' : 'none';\n",
              "\n",
              "      async function convertToInteractive(key) {\n",
              "        const element = document.querySelector('#df-3c147c64-d424-4ab7-8a74-ec2fc31d21f3');\n",
              "        const dataTable =\n",
              "          await google.colab.kernel.invokeFunction('convertToInteractive',\n",
              "                                                    [key], {});\n",
              "        if (!dataTable) return;\n",
              "\n",
              "        const docLinkHtml = 'Like what you see? Visit the ' +\n",
              "          '<a target=\"_blank\" href=https://colab.research.google.com/notebooks/data_table.ipynb>data table notebook</a>'\n",
              "          + ' to learn more about interactive tables.';\n",
              "        element.innerHTML = '';\n",
              "        dataTable['output_type'] = 'display_data';\n",
              "        await google.colab.output.renderOutput(dataTable, element);\n",
              "        const docLink = document.createElement('div');\n",
              "        docLink.innerHTML = docLinkHtml;\n",
              "        element.appendChild(docLink);\n",
              "      }\n",
              "    </script>\n",
              "  </div>\n",
              "\n",
              "\n",
              "<div id=\"df-9c95423b-cd5f-4bab-b83e-0b243daffc03\">\n",
              "  <button class=\"colab-df-quickchart\" onclick=\"quickchart('df-9c95423b-cd5f-4bab-b83e-0b243daffc03')\"\n",
              "            title=\"Suggest charts\"\n",
              "            style=\"display:none;\">\n",
              "\n",
              "<svg xmlns=\"http://www.w3.org/2000/svg\" height=\"24px\"viewBox=\"0 0 24 24\"\n",
              "     width=\"24px\">\n",
              "    <g>\n",
              "        <path d=\"M19 3H5c-1.1 0-2 .9-2 2v14c0 1.1.9 2 2 2h14c1.1 0 2-.9 2-2V5c0-1.1-.9-2-2-2zM9 17H7v-7h2v7zm4 0h-2V7h2v10zm4 0h-2v-4h2v4z\"/>\n",
              "    </g>\n",
              "</svg>\n",
              "  </button>\n",
              "\n",
              "<style>\n",
              "  .colab-df-quickchart {\n",
              "      --bg-color: #E8F0FE;\n",
              "      --fill-color: #1967D2;\n",
              "      --hover-bg-color: #E2EBFA;\n",
              "      --hover-fill-color: #174EA6;\n",
              "      --disabled-fill-color: #AAA;\n",
              "      --disabled-bg-color: #DDD;\n",
              "  }\n",
              "\n",
              "  [theme=dark] .colab-df-quickchart {\n",
              "      --bg-color: #3B4455;\n",
              "      --fill-color: #D2E3FC;\n",
              "      --hover-bg-color: #434B5C;\n",
              "      --hover-fill-color: #FFFFFF;\n",
              "      --disabled-bg-color: #3B4455;\n",
              "      --disabled-fill-color: #666;\n",
              "  }\n",
              "\n",
              "  .colab-df-quickchart {\n",
              "    background-color: var(--bg-color);\n",
              "    border: none;\n",
              "    border-radius: 50%;\n",
              "    cursor: pointer;\n",
              "    display: none;\n",
              "    fill: var(--fill-color);\n",
              "    height: 32px;\n",
              "    padding: 0;\n",
              "    width: 32px;\n",
              "  }\n",
              "\n",
              "  .colab-df-quickchart:hover {\n",
              "    background-color: var(--hover-bg-color);\n",
              "    box-shadow: 0 1px 2px rgba(60, 64, 67, 0.3), 0 1px 3px 1px rgba(60, 64, 67, 0.15);\n",
              "    fill: var(--button-hover-fill-color);\n",
              "  }\n",
              "\n",
              "  .colab-df-quickchart-complete:disabled,\n",
              "  .colab-df-quickchart-complete:disabled:hover {\n",
              "    background-color: var(--disabled-bg-color);\n",
              "    fill: var(--disabled-fill-color);\n",
              "    box-shadow: none;\n",
              "  }\n",
              "\n",
              "  .colab-df-spinner {\n",
              "    border: 2px solid var(--fill-color);\n",
              "    border-color: transparent;\n",
              "    border-bottom-color: var(--fill-color);\n",
              "    animation:\n",
              "      spin 1s steps(1) infinite;\n",
              "  }\n",
              "\n",
              "  @keyframes spin {\n",
              "    0% {\n",
              "      border-color: transparent;\n",
              "      border-bottom-color: var(--fill-color);\n",
              "      border-left-color: var(--fill-color);\n",
              "    }\n",
              "    20% {\n",
              "      border-color: transparent;\n",
              "      border-left-color: var(--fill-color);\n",
              "      border-top-color: var(--fill-color);\n",
              "    }\n",
              "    30% {\n",
              "      border-color: transparent;\n",
              "      border-left-color: var(--fill-color);\n",
              "      border-top-color: var(--fill-color);\n",
              "      border-right-color: var(--fill-color);\n",
              "    }\n",
              "    40% {\n",
              "      border-color: transparent;\n",
              "      border-right-color: var(--fill-color);\n",
              "      border-top-color: var(--fill-color);\n",
              "    }\n",
              "    60% {\n",
              "      border-color: transparent;\n",
              "      border-right-color: var(--fill-color);\n",
              "    }\n",
              "    80% {\n",
              "      border-color: transparent;\n",
              "      border-right-color: var(--fill-color);\n",
              "      border-bottom-color: var(--fill-color);\n",
              "    }\n",
              "    90% {\n",
              "      border-color: transparent;\n",
              "      border-bottom-color: var(--fill-color);\n",
              "    }\n",
              "  }\n",
              "</style>\n",
              "\n",
              "  <script>\n",
              "    async function quickchart(key) {\n",
              "      const quickchartButtonEl =\n",
              "        document.querySelector('#' + key + ' button');\n",
              "      quickchartButtonEl.disabled = true;  // To prevent multiple clicks.\n",
              "      quickchartButtonEl.classList.add('colab-df-spinner');\n",
              "      try {\n",
              "        const charts = await google.colab.kernel.invokeFunction(\n",
              "            'suggestCharts', [key], {});\n",
              "      } catch (error) {\n",
              "        console.error('Error during call to suggestCharts:', error);\n",
              "      }\n",
              "      quickchartButtonEl.classList.remove('colab-df-spinner');\n",
              "      quickchartButtonEl.classList.add('colab-df-quickchart-complete');\n",
              "    }\n",
              "    (() => {\n",
              "      let quickchartButtonEl =\n",
              "        document.querySelector('#df-9c95423b-cd5f-4bab-b83e-0b243daffc03 button');\n",
              "      quickchartButtonEl.style.display =\n",
              "        google.colab.kernel.accessAllowed ? 'block' : 'none';\n",
              "    })();\n",
              "  </script>\n",
              "</div>\n",
              "    </div>\n",
              "  </div>\n"
            ],
            "text/plain": [
              "                     model   validation          test\n",
              "0            lasso_default  1983.106084  45693.955956\n",
              "1       lasso_weight_top10  1992.851015  45701.590662\n",
              "2         lasso_corr_top10  2028.735349  45708.191385\n",
              "3  lasso_permutation_top10  1981.130874  45696.197996\n",
              "4         lasso_shap_top10  2286.680776  45696.715928"
            ]
          },
          "execution_count": 376,
          "metadata": {},
          "output_type": "execute_result"
        }
      ],
      "source": [
        "result_RMSE"
      ]
    },
    {
      "cell_type": "code",
      "execution_count": 377,
      "metadata": {
        "colab": {
          "base_uri": "https://localhost:8080/",
          "height": 206
        },
        "id": "AP_CnSjhwUsx",
        "outputId": "ea5a0a7e-ef48-4e33-fb39-ac22eb548258"
      },
      "outputs": [
        {
          "data": {
            "application/vnd.google.colaboratory.intrinsic+json": {
              "summary": "{\n  \"name\": \"result_R2\",\n  \"rows\": 5,\n  \"fields\": [\n    {\n      \"column\": \"model\",\n      \"properties\": {\n        \"dtype\": \"string\",\n        \"num_unique_values\": 5,\n        \"samples\": [\n          \"lasso_weight_top10\",\n          \"lasso_shap_top10\",\n          \"lasso_corr_top10\"\n        ],\n        \"semantic_type\": \"\",\n        \"description\": \"\"\n      }\n    },\n    {\n      \"column\": \"validation\",\n      \"properties\": {\n        \"dtype\": \"number\",\n        \"std\": 0.07911090707184296,\n        \"min\": 0.2626892335073603,\n        \"max\": 0.44656601272901875,\n        \"num_unique_values\": 5,\n        \"samples\": [\n          0.439998540646639,\n          0.2626892335073603,\n          0.41964960129750317\n        ],\n        \"semantic_type\": \"\",\n        \"description\": \"\"\n      }\n    },\n    {\n      \"column\": \"test\",\n      \"properties\": {\n        \"dtype\": \"number\",\n        \"std\": 0.0002483414958236188,\n        \"min\": 0.0010390004055064184,\n        \"max\": 0.0016611393581209555,\n        \"num_unique_values\": 5,\n        \"samples\": [\n          0.0013274995950518509,\n          0.0015405338929249668,\n          0.0010390004055064184\n        ],\n        \"semantic_type\": \"\",\n        \"description\": \"\"\n      }\n    }\n  ]\n}",
              "type": "dataframe",
              "variable_name": "result_R2"
            },
            "text/html": [
              "\n",
              "  <div id=\"df-bd216fbc-c054-4e02-8f70-3cec1b1446e1\" class=\"colab-df-container\">\n",
              "    <div>\n",
              "<style scoped>\n",
              "    .dataframe tbody tr th:only-of-type {\n",
              "        vertical-align: middle;\n",
              "    }\n",
              "\n",
              "    .dataframe tbody tr th {\n",
              "        vertical-align: top;\n",
              "    }\n",
              "\n",
              "    .dataframe thead th {\n",
              "        text-align: right;\n",
              "    }\n",
              "</style>\n",
              "<table border=\"1\" class=\"dataframe\">\n",
              "  <thead>\n",
              "    <tr style=\"text-align: right;\">\n",
              "      <th></th>\n",
              "      <th>model</th>\n",
              "      <th>validation</th>\n",
              "      <th>test</th>\n",
              "    </tr>\n",
              "  </thead>\n",
              "  <tbody>\n",
              "    <tr>\n",
              "      <th>0</th>\n",
              "      <td>lasso_default</td>\n",
              "      <td>0.445462</td>\n",
              "      <td>0.001661</td>\n",
              "    </tr>\n",
              "    <tr>\n",
              "      <th>1</th>\n",
              "      <td>lasso_weight_top10</td>\n",
              "      <td>0.439999</td>\n",
              "      <td>0.001327</td>\n",
              "    </tr>\n",
              "    <tr>\n",
              "      <th>2</th>\n",
              "      <td>lasso_corr_top10</td>\n",
              "      <td>0.419650</td>\n",
              "      <td>0.001039</td>\n",
              "    </tr>\n",
              "    <tr>\n",
              "      <th>3</th>\n",
              "      <td>lasso_permutation_top10</td>\n",
              "      <td>0.446566</td>\n",
              "      <td>0.001563</td>\n",
              "    </tr>\n",
              "    <tr>\n",
              "      <th>4</th>\n",
              "      <td>lasso_shap_top10</td>\n",
              "      <td>0.262689</td>\n",
              "      <td>0.001541</td>\n",
              "    </tr>\n",
              "  </tbody>\n",
              "</table>\n",
              "</div>\n",
              "    <div class=\"colab-df-buttons\">\n",
              "\n",
              "  <div class=\"colab-df-container\">\n",
              "    <button class=\"colab-df-convert\" onclick=\"convertToInteractive('df-bd216fbc-c054-4e02-8f70-3cec1b1446e1')\"\n",
              "            title=\"Convert this dataframe to an interactive table.\"\n",
              "            style=\"display:none;\">\n",
              "\n",
              "  <svg xmlns=\"http://www.w3.org/2000/svg\" height=\"24px\" viewBox=\"0 -960 960 960\">\n",
              "    <path d=\"M120-120v-720h720v720H120Zm60-500h600v-160H180v160Zm220 220h160v-160H400v160Zm0 220h160v-160H400v160ZM180-400h160v-160H180v160Zm440 0h160v-160H620v160ZM180-180h160v-160H180v160Zm440 0h160v-160H620v160Z\"/>\n",
              "  </svg>\n",
              "    </button>\n",
              "\n",
              "  <style>\n",
              "    .colab-df-container {\n",
              "      display:flex;\n",
              "      gap: 12px;\n",
              "    }\n",
              "\n",
              "    .colab-df-convert {\n",
              "      background-color: #E8F0FE;\n",
              "      border: none;\n",
              "      border-radius: 50%;\n",
              "      cursor: pointer;\n",
              "      display: none;\n",
              "      fill: #1967D2;\n",
              "      height: 32px;\n",
              "      padding: 0 0 0 0;\n",
              "      width: 32px;\n",
              "    }\n",
              "\n",
              "    .colab-df-convert:hover {\n",
              "      background-color: #E2EBFA;\n",
              "      box-shadow: 0px 1px 2px rgba(60, 64, 67, 0.3), 0px 1px 3px 1px rgba(60, 64, 67, 0.15);\n",
              "      fill: #174EA6;\n",
              "    }\n",
              "\n",
              "    .colab-df-buttons div {\n",
              "      margin-bottom: 4px;\n",
              "    }\n",
              "\n",
              "    [theme=dark] .colab-df-convert {\n",
              "      background-color: #3B4455;\n",
              "      fill: #D2E3FC;\n",
              "    }\n",
              "\n",
              "    [theme=dark] .colab-df-convert:hover {\n",
              "      background-color: #434B5C;\n",
              "      box-shadow: 0px 1px 3px 1px rgba(0, 0, 0, 0.15);\n",
              "      filter: drop-shadow(0px 1px 2px rgba(0, 0, 0, 0.3));\n",
              "      fill: #FFFFFF;\n",
              "    }\n",
              "  </style>\n",
              "\n",
              "    <script>\n",
              "      const buttonEl =\n",
              "        document.querySelector('#df-bd216fbc-c054-4e02-8f70-3cec1b1446e1 button.colab-df-convert');\n",
              "      buttonEl.style.display =\n",
              "        google.colab.kernel.accessAllowed ? 'block' : 'none';\n",
              "\n",
              "      async function convertToInteractive(key) {\n",
              "        const element = document.querySelector('#df-bd216fbc-c054-4e02-8f70-3cec1b1446e1');\n",
              "        const dataTable =\n",
              "          await google.colab.kernel.invokeFunction('convertToInteractive',\n",
              "                                                    [key], {});\n",
              "        if (!dataTable) return;\n",
              "\n",
              "        const docLinkHtml = 'Like what you see? Visit the ' +\n",
              "          '<a target=\"_blank\" href=https://colab.research.google.com/notebooks/data_table.ipynb>data table notebook</a>'\n",
              "          + ' to learn more about interactive tables.';\n",
              "        element.innerHTML = '';\n",
              "        dataTable['output_type'] = 'display_data';\n",
              "        await google.colab.output.renderOutput(dataTable, element);\n",
              "        const docLink = document.createElement('div');\n",
              "        docLink.innerHTML = docLinkHtml;\n",
              "        element.appendChild(docLink);\n",
              "      }\n",
              "    </script>\n",
              "  </div>\n",
              "\n",
              "\n",
              "<div id=\"df-886df1d1-dc40-4226-aa4e-39b82f0e93e0\">\n",
              "  <button class=\"colab-df-quickchart\" onclick=\"quickchart('df-886df1d1-dc40-4226-aa4e-39b82f0e93e0')\"\n",
              "            title=\"Suggest charts\"\n",
              "            style=\"display:none;\">\n",
              "\n",
              "<svg xmlns=\"http://www.w3.org/2000/svg\" height=\"24px\"viewBox=\"0 0 24 24\"\n",
              "     width=\"24px\">\n",
              "    <g>\n",
              "        <path d=\"M19 3H5c-1.1 0-2 .9-2 2v14c0 1.1.9 2 2 2h14c1.1 0 2-.9 2-2V5c0-1.1-.9-2-2-2zM9 17H7v-7h2v7zm4 0h-2V7h2v10zm4 0h-2v-4h2v4z\"/>\n",
              "    </g>\n",
              "</svg>\n",
              "  </button>\n",
              "\n",
              "<style>\n",
              "  .colab-df-quickchart {\n",
              "      --bg-color: #E8F0FE;\n",
              "      --fill-color: #1967D2;\n",
              "      --hover-bg-color: #E2EBFA;\n",
              "      --hover-fill-color: #174EA6;\n",
              "      --disabled-fill-color: #AAA;\n",
              "      --disabled-bg-color: #DDD;\n",
              "  }\n",
              "\n",
              "  [theme=dark] .colab-df-quickchart {\n",
              "      --bg-color: #3B4455;\n",
              "      --fill-color: #D2E3FC;\n",
              "      --hover-bg-color: #434B5C;\n",
              "      --hover-fill-color: #FFFFFF;\n",
              "      --disabled-bg-color: #3B4455;\n",
              "      --disabled-fill-color: #666;\n",
              "  }\n",
              "\n",
              "  .colab-df-quickchart {\n",
              "    background-color: var(--bg-color);\n",
              "    border: none;\n",
              "    border-radius: 50%;\n",
              "    cursor: pointer;\n",
              "    display: none;\n",
              "    fill: var(--fill-color);\n",
              "    height: 32px;\n",
              "    padding: 0;\n",
              "    width: 32px;\n",
              "  }\n",
              "\n",
              "  .colab-df-quickchart:hover {\n",
              "    background-color: var(--hover-bg-color);\n",
              "    box-shadow: 0 1px 2px rgba(60, 64, 67, 0.3), 0 1px 3px 1px rgba(60, 64, 67, 0.15);\n",
              "    fill: var(--button-hover-fill-color);\n",
              "  }\n",
              "\n",
              "  .colab-df-quickchart-complete:disabled,\n",
              "  .colab-df-quickchart-complete:disabled:hover {\n",
              "    background-color: var(--disabled-bg-color);\n",
              "    fill: var(--disabled-fill-color);\n",
              "    box-shadow: none;\n",
              "  }\n",
              "\n",
              "  .colab-df-spinner {\n",
              "    border: 2px solid var(--fill-color);\n",
              "    border-color: transparent;\n",
              "    border-bottom-color: var(--fill-color);\n",
              "    animation:\n",
              "      spin 1s steps(1) infinite;\n",
              "  }\n",
              "\n",
              "  @keyframes spin {\n",
              "    0% {\n",
              "      border-color: transparent;\n",
              "      border-bottom-color: var(--fill-color);\n",
              "      border-left-color: var(--fill-color);\n",
              "    }\n",
              "    20% {\n",
              "      border-color: transparent;\n",
              "      border-left-color: var(--fill-color);\n",
              "      border-top-color: var(--fill-color);\n",
              "    }\n",
              "    30% {\n",
              "      border-color: transparent;\n",
              "      border-left-color: var(--fill-color);\n",
              "      border-top-color: var(--fill-color);\n",
              "      border-right-color: var(--fill-color);\n",
              "    }\n",
              "    40% {\n",
              "      border-color: transparent;\n",
              "      border-right-color: var(--fill-color);\n",
              "      border-top-color: var(--fill-color);\n",
              "    }\n",
              "    60% {\n",
              "      border-color: transparent;\n",
              "      border-right-color: var(--fill-color);\n",
              "    }\n",
              "    80% {\n",
              "      border-color: transparent;\n",
              "      border-right-color: var(--fill-color);\n",
              "      border-bottom-color: var(--fill-color);\n",
              "    }\n",
              "    90% {\n",
              "      border-color: transparent;\n",
              "      border-bottom-color: var(--fill-color);\n",
              "    }\n",
              "  }\n",
              "</style>\n",
              "\n",
              "  <script>\n",
              "    async function quickchart(key) {\n",
              "      const quickchartButtonEl =\n",
              "        document.querySelector('#' + key + ' button');\n",
              "      quickchartButtonEl.disabled = true;  // To prevent multiple clicks.\n",
              "      quickchartButtonEl.classList.add('colab-df-spinner');\n",
              "      try {\n",
              "        const charts = await google.colab.kernel.invokeFunction(\n",
              "            'suggestCharts', [key], {});\n",
              "      } catch (error) {\n",
              "        console.error('Error during call to suggestCharts:', error);\n",
              "      }\n",
              "      quickchartButtonEl.classList.remove('colab-df-spinner');\n",
              "      quickchartButtonEl.classList.add('colab-df-quickchart-complete');\n",
              "    }\n",
              "    (() => {\n",
              "      let quickchartButtonEl =\n",
              "        document.querySelector('#df-886df1d1-dc40-4226-aa4e-39b82f0e93e0 button');\n",
              "      quickchartButtonEl.style.display =\n",
              "        google.colab.kernel.accessAllowed ? 'block' : 'none';\n",
              "    })();\n",
              "  </script>\n",
              "</div>\n",
              "    </div>\n",
              "  </div>\n"
            ],
            "text/plain": [
              "                     model  validation      test\n",
              "0            lasso_default    0.445462  0.001661\n",
              "1       lasso_weight_top10    0.439999  0.001327\n",
              "2         lasso_corr_top10    0.419650  0.001039\n",
              "3  lasso_permutation_top10    0.446566  0.001563\n",
              "4         lasso_shap_top10    0.262689  0.001541"
            ]
          },
          "execution_count": 377,
          "metadata": {},
          "output_type": "execute_result"
        }
      ],
      "source": [
        "result_R2"
      ]
    },
    {
      "cell_type": "markdown",
      "metadata": {
        "id": "QX1ybEGHwdg5"
      },
      "source": [
        "Best models:  \n",
        "    - MAE: lasso_permutation_top10  \n",
        "    - RMSE: lasso_permutation_top10  \n",
        "    - R2 : lasso_permutation_top10  \n",
        "    - execution time: lasso_weight_top10"
      ]
    },
    {
      "cell_type": "markdown",
      "metadata": {
        "id": "n5YN0_rbML7o"
      },
      "source": [
        "# 7. Hyperparameters optimization"
      ]
    },
    {
      "cell_type": "markdown",
      "metadata": {
        "id": "qUGmRm4oAwcN"
      },
      "source": [
        "## 7.1 Implement grid search and random search methods for alpha and l1_ratio for ElasticNet model from sklearn.\n",
        "## 7.2 Find the best combination for the model hyperparameters."
      ]
    },
    {
      "cell_type": "code",
      "execution_count": 380,
      "metadata": {
        "colab": {
          "base_uri": "https://localhost:8080/",
          "height": 153
        },
        "id": "KfHAK763MN74",
        "outputId": "ac7aa977-eba0-4976-a67f-6690de9cf939"
      },
      "outputs": [
        {
          "name": "stdout",
          "output_type": "stream",
          "text": [
            "CPU times: user 2.04 s, sys: 2.24 s, total: 4.28 s\n",
            "Wall time: 3.38 s\n"
          ]
        },
        {
          "data": {
            "text/html": [
              "<style>#sk-container-id-4 {color: black;background-color: white;}#sk-container-id-4 pre{padding: 0;}#sk-container-id-4 div.sk-toggleable {background-color: white;}#sk-container-id-4 label.sk-toggleable__label {cursor: pointer;display: block;width: 100%;margin-bottom: 0;padding: 0.3em;box-sizing: border-box;text-align: center;}#sk-container-id-4 label.sk-toggleable__label-arrow:before {content: \"▸\";float: left;margin-right: 0.25em;color: #696969;}#sk-container-id-4 label.sk-toggleable__label-arrow:hover:before {color: black;}#sk-container-id-4 div.sk-estimator:hover label.sk-toggleable__label-arrow:before {color: black;}#sk-container-id-4 div.sk-toggleable__content {max-height: 0;max-width: 0;overflow: hidden;text-align: left;background-color: #f0f8ff;}#sk-container-id-4 div.sk-toggleable__content pre {margin: 0.2em;color: black;border-radius: 0.25em;background-color: #f0f8ff;}#sk-container-id-4 input.sk-toggleable__control:checked~div.sk-toggleable__content {max-height: 200px;max-width: 100%;overflow: auto;}#sk-container-id-4 input.sk-toggleable__control:checked~label.sk-toggleable__label-arrow:before {content: \"▾\";}#sk-container-id-4 div.sk-estimator input.sk-toggleable__control:checked~label.sk-toggleable__label {background-color: #d4ebff;}#sk-container-id-4 div.sk-label input.sk-toggleable__control:checked~label.sk-toggleable__label {background-color: #d4ebff;}#sk-container-id-4 input.sk-hidden--visually {border: 0;clip: rect(1px 1px 1px 1px);clip: rect(1px, 1px, 1px, 1px);height: 1px;margin: -1px;overflow: hidden;padding: 0;position: absolute;width: 1px;}#sk-container-id-4 div.sk-estimator {font-family: monospace;background-color: #f0f8ff;border: 1px dotted black;border-radius: 0.25em;box-sizing: border-box;margin-bottom: 0.5em;}#sk-container-id-4 div.sk-estimator:hover {background-color: #d4ebff;}#sk-container-id-4 div.sk-parallel-item::after {content: \"\";width: 100%;border-bottom: 1px solid gray;flex-grow: 1;}#sk-container-id-4 div.sk-label:hover label.sk-toggleable__label {background-color: #d4ebff;}#sk-container-id-4 div.sk-serial::before {content: \"\";position: absolute;border-left: 1px solid gray;box-sizing: border-box;top: 0;bottom: 0;left: 50%;z-index: 0;}#sk-container-id-4 div.sk-serial {display: flex;flex-direction: column;align-items: center;background-color: white;padding-right: 0.2em;padding-left: 0.2em;position: relative;}#sk-container-id-4 div.sk-item {position: relative;z-index: 1;}#sk-container-id-4 div.sk-parallel {display: flex;align-items: stretch;justify-content: center;background-color: white;position: relative;}#sk-container-id-4 div.sk-item::before, #sk-container-id-4 div.sk-parallel-item::before {content: \"\";position: absolute;border-left: 1px solid gray;box-sizing: border-box;top: 0;bottom: 0;left: 50%;z-index: -1;}#sk-container-id-4 div.sk-parallel-item {display: flex;flex-direction: column;z-index: 1;position: relative;background-color: white;}#sk-container-id-4 div.sk-parallel-item:first-child::after {align-self: flex-end;width: 50%;}#sk-container-id-4 div.sk-parallel-item:last-child::after {align-self: flex-start;width: 50%;}#sk-container-id-4 div.sk-parallel-item:only-child::after {width: 0;}#sk-container-id-4 div.sk-dashed-wrapped {border: 1px dashed gray;margin: 0 0.4em 0.5em 0.4em;box-sizing: border-box;padding-bottom: 0.4em;background-color: white;}#sk-container-id-4 div.sk-label label {font-family: monospace;font-weight: bold;display: inline-block;line-height: 1.2em;}#sk-container-id-4 div.sk-label-container {text-align: center;}#sk-container-id-4 div.sk-container {/* jupyter's `normalize.less` sets `[hidden] { display: none; }` but bootstrap.min.css set `[hidden] { display: none !important; }` so we also need the `!important` here to be able to override the default hidden behavior on the sphinx rendered scikit-learn.org. See: https://github.com/scikit-learn/scikit-learn/issues/21755 */display: inline-block !important;position: relative;}#sk-container-id-4 div.sk-text-repr-fallback {display: none;}</style><div id=\"sk-container-id-4\" class=\"sk-top-container\"><div class=\"sk-text-repr-fallback\"><pre>GridSearchCV(cv=5, estimator=ElasticNet(),\n",
              "             param_grid={&#x27;alpha&#x27;: [0.1, 0.5, 1.0],\n",
              "                         &#x27;l1_ratio&#x27;: [0.25, 0.5, 0.75]})</pre><b>In a Jupyter environment, please rerun this cell to show the HTML representation or trust the notebook. <br />On GitHub, the HTML representation is unable to render, please try loading this page with nbviewer.org.</b></div><div class=\"sk-container\" hidden><div class=\"sk-item sk-dashed-wrapped\"><div class=\"sk-label-container\"><div class=\"sk-label sk-toggleable\"><input class=\"sk-toggleable__control sk-hidden--visually\" id=\"sk-estimator-id-6\" type=\"checkbox\" ><label for=\"sk-estimator-id-6\" class=\"sk-toggleable__label sk-toggleable__label-arrow\">GridSearchCV</label><div class=\"sk-toggleable__content\"><pre>GridSearchCV(cv=5, estimator=ElasticNet(),\n",
              "             param_grid={&#x27;alpha&#x27;: [0.1, 0.5, 1.0],\n",
              "                         &#x27;l1_ratio&#x27;: [0.25, 0.5, 0.75]})</pre></div></div></div><div class=\"sk-parallel\"><div class=\"sk-parallel-item\"><div class=\"sk-item\"><div class=\"sk-label-container\"><div class=\"sk-label sk-toggleable\"><input class=\"sk-toggleable__control sk-hidden--visually\" id=\"sk-estimator-id-7\" type=\"checkbox\" ><label for=\"sk-estimator-id-7\" class=\"sk-toggleable__label sk-toggleable__label-arrow\">estimator: ElasticNet</label><div class=\"sk-toggleable__content\"><pre>ElasticNet()</pre></div></div></div><div class=\"sk-serial\"><div class=\"sk-item\"><div class=\"sk-estimator sk-toggleable\"><input class=\"sk-toggleable__control sk-hidden--visually\" id=\"sk-estimator-id-8\" type=\"checkbox\" ><label for=\"sk-estimator-id-8\" class=\"sk-toggleable__label sk-toggleable__label-arrow\">ElasticNet</label><div class=\"sk-toggleable__content\"><pre>ElasticNet()</pre></div></div></div></div></div></div></div></div></div></div>"
            ],
            "text/plain": [
              "GridSearchCV(cv=5, estimator=ElasticNet(),\n",
              "             param_grid={'alpha': [0.1, 0.5, 1.0],\n",
              "                         'l1_ratio': [0.25, 0.5, 0.75]})"
            ]
          },
          "execution_count": 380,
          "metadata": {},
          "output_type": "execute_result"
        }
      ],
      "source": [
        "%%time\n",
        "elastic_net = ElasticNet()\n",
        "\n",
        "param_grid = {\n",
        "    'alpha': [0.1, 0.5, 1.0],\n",
        "    'l1_ratio': [0.25, 0.5, 0.75]\n",
        "}\n",
        "\n",
        "grid_search = GridSearchCV(estimator=elastic_net, param_grid=param_grid, cv=5)\n",
        "grid_search.fit(X_train, y_train)"
      ]
    },
    {
      "cell_type": "code",
      "execution_count": 381,
      "metadata": {
        "colab": {
          "base_uri": "https://localhost:8080/"
        },
        "id": "8ElWsYjnBy82",
        "outputId": "da0e55f3-f919-43af-e2a3-bd127ffc2873"
      },
      "outputs": [
        {
          "name": "stdout",
          "output_type": "stream",
          "text": [
            "Best Hyperparameters: {'alpha': 0.1, 'l1_ratio': 0.5}\n",
            "Best Cross-Validation Score: 0.3507167528489009\n"
          ]
        }
      ],
      "source": [
        "print(\"Best Hyperparameters:\", grid_search.best_params_)"
      ]
    },
    {
      "cell_type": "code",
      "execution_count": 384,
      "metadata": {
        "colab": {
          "base_uri": "https://localhost:8080/",
          "height": 118
        },
        "id": "EGLs1ygNC4WR",
        "outputId": "92bbbcc0-e10c-4467-dd4a-ad71f9b69600"
      },
      "outputs": [
        {
          "data": {
            "text/html": [
              "<style>#sk-container-id-5 {color: black;background-color: white;}#sk-container-id-5 pre{padding: 0;}#sk-container-id-5 div.sk-toggleable {background-color: white;}#sk-container-id-5 label.sk-toggleable__label {cursor: pointer;display: block;width: 100%;margin-bottom: 0;padding: 0.3em;box-sizing: border-box;text-align: center;}#sk-container-id-5 label.sk-toggleable__label-arrow:before {content: \"▸\";float: left;margin-right: 0.25em;color: #696969;}#sk-container-id-5 label.sk-toggleable__label-arrow:hover:before {color: black;}#sk-container-id-5 div.sk-estimator:hover label.sk-toggleable__label-arrow:before {color: black;}#sk-container-id-5 div.sk-toggleable__content {max-height: 0;max-width: 0;overflow: hidden;text-align: left;background-color: #f0f8ff;}#sk-container-id-5 div.sk-toggleable__content pre {margin: 0.2em;color: black;border-radius: 0.25em;background-color: #f0f8ff;}#sk-container-id-5 input.sk-toggleable__control:checked~div.sk-toggleable__content {max-height: 200px;max-width: 100%;overflow: auto;}#sk-container-id-5 input.sk-toggleable__control:checked~label.sk-toggleable__label-arrow:before {content: \"▾\";}#sk-container-id-5 div.sk-estimator input.sk-toggleable__control:checked~label.sk-toggleable__label {background-color: #d4ebff;}#sk-container-id-5 div.sk-label input.sk-toggleable__control:checked~label.sk-toggleable__label {background-color: #d4ebff;}#sk-container-id-5 input.sk-hidden--visually {border: 0;clip: rect(1px 1px 1px 1px);clip: rect(1px, 1px, 1px, 1px);height: 1px;margin: -1px;overflow: hidden;padding: 0;position: absolute;width: 1px;}#sk-container-id-5 div.sk-estimator {font-family: monospace;background-color: #f0f8ff;border: 1px dotted black;border-radius: 0.25em;box-sizing: border-box;margin-bottom: 0.5em;}#sk-container-id-5 div.sk-estimator:hover {background-color: #d4ebff;}#sk-container-id-5 div.sk-parallel-item::after {content: \"\";width: 100%;border-bottom: 1px solid gray;flex-grow: 1;}#sk-container-id-5 div.sk-label:hover label.sk-toggleable__label {background-color: #d4ebff;}#sk-container-id-5 div.sk-serial::before {content: \"\";position: absolute;border-left: 1px solid gray;box-sizing: border-box;top: 0;bottom: 0;left: 50%;z-index: 0;}#sk-container-id-5 div.sk-serial {display: flex;flex-direction: column;align-items: center;background-color: white;padding-right: 0.2em;padding-left: 0.2em;position: relative;}#sk-container-id-5 div.sk-item {position: relative;z-index: 1;}#sk-container-id-5 div.sk-parallel {display: flex;align-items: stretch;justify-content: center;background-color: white;position: relative;}#sk-container-id-5 div.sk-item::before, #sk-container-id-5 div.sk-parallel-item::before {content: \"\";position: absolute;border-left: 1px solid gray;box-sizing: border-box;top: 0;bottom: 0;left: 50%;z-index: -1;}#sk-container-id-5 div.sk-parallel-item {display: flex;flex-direction: column;z-index: 1;position: relative;background-color: white;}#sk-container-id-5 div.sk-parallel-item:first-child::after {align-self: flex-end;width: 50%;}#sk-container-id-5 div.sk-parallel-item:last-child::after {align-self: flex-start;width: 50%;}#sk-container-id-5 div.sk-parallel-item:only-child::after {width: 0;}#sk-container-id-5 div.sk-dashed-wrapped {border: 1px dashed gray;margin: 0 0.4em 0.5em 0.4em;box-sizing: border-box;padding-bottom: 0.4em;background-color: white;}#sk-container-id-5 div.sk-label label {font-family: monospace;font-weight: bold;display: inline-block;line-height: 1.2em;}#sk-container-id-5 div.sk-label-container {text-align: center;}#sk-container-id-5 div.sk-container {/* jupyter's `normalize.less` sets `[hidden] { display: none; }` but bootstrap.min.css set `[hidden] { display: none !important; }` so we also need the `!important` here to be able to override the default hidden behavior on the sphinx rendered scikit-learn.org. See: https://github.com/scikit-learn/scikit-learn/issues/21755 */display: inline-block !important;position: relative;}#sk-container-id-5 div.sk-text-repr-fallback {display: none;}</style><div id=\"sk-container-id-5\" class=\"sk-top-container\"><div class=\"sk-text-repr-fallback\"><pre>RandomizedSearchCV(cv=5, estimator=ElasticNet(), n_iter=5,\n",
              "                   param_distributions={&#x27;alpha&#x27;: [0.1, 0.5, 1.0],\n",
              "                                        &#x27;l1_ratio&#x27;: [0.25, 0.5, 0.75]})</pre><b>In a Jupyter environment, please rerun this cell to show the HTML representation or trust the notebook. <br />On GitHub, the HTML representation is unable to render, please try loading this page with nbviewer.org.</b></div><div class=\"sk-container\" hidden><div class=\"sk-item sk-dashed-wrapped\"><div class=\"sk-label-container\"><div class=\"sk-label sk-toggleable\"><input class=\"sk-toggleable__control sk-hidden--visually\" id=\"sk-estimator-id-9\" type=\"checkbox\" ><label for=\"sk-estimator-id-9\" class=\"sk-toggleable__label sk-toggleable__label-arrow\">RandomizedSearchCV</label><div class=\"sk-toggleable__content\"><pre>RandomizedSearchCV(cv=5, estimator=ElasticNet(), n_iter=5,\n",
              "                   param_distributions={&#x27;alpha&#x27;: [0.1, 0.5, 1.0],\n",
              "                                        &#x27;l1_ratio&#x27;: [0.25, 0.5, 0.75]})</pre></div></div></div><div class=\"sk-parallel\"><div class=\"sk-parallel-item\"><div class=\"sk-item\"><div class=\"sk-label-container\"><div class=\"sk-label sk-toggleable\"><input class=\"sk-toggleable__control sk-hidden--visually\" id=\"sk-estimator-id-10\" type=\"checkbox\" ><label for=\"sk-estimator-id-10\" class=\"sk-toggleable__label sk-toggleable__label-arrow\">estimator: ElasticNet</label><div class=\"sk-toggleable__content\"><pre>ElasticNet()</pre></div></div></div><div class=\"sk-serial\"><div class=\"sk-item\"><div class=\"sk-estimator sk-toggleable\"><input class=\"sk-toggleable__control sk-hidden--visually\" id=\"sk-estimator-id-11\" type=\"checkbox\" ><label for=\"sk-estimator-id-11\" class=\"sk-toggleable__label sk-toggleable__label-arrow\">ElasticNet</label><div class=\"sk-toggleable__content\"><pre>ElasticNet()</pre></div></div></div></div></div></div></div></div></div></div>"
            ],
            "text/plain": [
              "RandomizedSearchCV(cv=5, estimator=ElasticNet(), n_iter=5,\n",
              "                   param_distributions={'alpha': [0.1, 0.5, 1.0],\n",
              "                                        'l1_ratio': [0.25, 0.5, 0.75]})"
            ]
          },
          "execution_count": 384,
          "metadata": {},
          "output_type": "execute_result"
        }
      ],
      "source": [
        "param_dist = {\n",
        "    'alpha': [0.1, 0.5, 1.0],\n",
        "    'l1_ratio': [0.25, 0.5, 0.75]\n",
        "}\n",
        "\n",
        "random_search = RandomizedSearchCV(estimator=elastic_net, param_distributions=param_dist, n_iter=5, cv=5)\n",
        "random_search.fit(X_train, y_train)"
      ]
    },
    {
      "cell_type": "code",
      "execution_count": 385,
      "metadata": {
        "colab": {
          "base_uri": "https://localhost:8080/"
        },
        "id": "JbvGiiZHC-qR",
        "outputId": "8b112e30-47c0-4bc7-b6eb-e2e3c9f1a616"
      },
      "outputs": [
        {
          "name": "stdout",
          "output_type": "stream",
          "text": [
            "Best Hyperparameters: {'l1_ratio': 0.5, 'alpha': 0.1}\n",
            "Best Cross-Validation Score: 0.3507167528489009\n"
          ]
        }
      ],
      "source": [
        "# Вывод наилучших гиперпараметров и оценки\n",
        "print(\"Best Hyperparameters:\", random_search.best_params_)"
      ]
    },
    {
      "cell_type": "markdown",
      "metadata": {
        "id": "Vxh0znIPEdHB"
      },
      "source": [
        "## 7.3 Fit resulted model."
      ]
    },
    {
      "cell_type": "code",
      "execution_count": 386,
      "metadata": {
        "colab": {
          "base_uri": "https://localhost:8080/",
          "height": 75
        },
        "id": "4YdW8nH2Ecuh",
        "outputId": "fbeb137d-7735-49ae-c6ea-0e180b3013d5"
      },
      "outputs": [
        {
          "data": {
            "text/html": [
              "<style>#sk-container-id-6 {color: black;background-color: white;}#sk-container-id-6 pre{padding: 0;}#sk-container-id-6 div.sk-toggleable {background-color: white;}#sk-container-id-6 label.sk-toggleable__label {cursor: pointer;display: block;width: 100%;margin-bottom: 0;padding: 0.3em;box-sizing: border-box;text-align: center;}#sk-container-id-6 label.sk-toggleable__label-arrow:before {content: \"▸\";float: left;margin-right: 0.25em;color: #696969;}#sk-container-id-6 label.sk-toggleable__label-arrow:hover:before {color: black;}#sk-container-id-6 div.sk-estimator:hover label.sk-toggleable__label-arrow:before {color: black;}#sk-container-id-6 div.sk-toggleable__content {max-height: 0;max-width: 0;overflow: hidden;text-align: left;background-color: #f0f8ff;}#sk-container-id-6 div.sk-toggleable__content pre {margin: 0.2em;color: black;border-radius: 0.25em;background-color: #f0f8ff;}#sk-container-id-6 input.sk-toggleable__control:checked~div.sk-toggleable__content {max-height: 200px;max-width: 100%;overflow: auto;}#sk-container-id-6 input.sk-toggleable__control:checked~label.sk-toggleable__label-arrow:before {content: \"▾\";}#sk-container-id-6 div.sk-estimator input.sk-toggleable__control:checked~label.sk-toggleable__label {background-color: #d4ebff;}#sk-container-id-6 div.sk-label input.sk-toggleable__control:checked~label.sk-toggleable__label {background-color: #d4ebff;}#sk-container-id-6 input.sk-hidden--visually {border: 0;clip: rect(1px 1px 1px 1px);clip: rect(1px, 1px, 1px, 1px);height: 1px;margin: -1px;overflow: hidden;padding: 0;position: absolute;width: 1px;}#sk-container-id-6 div.sk-estimator {font-family: monospace;background-color: #f0f8ff;border: 1px dotted black;border-radius: 0.25em;box-sizing: border-box;margin-bottom: 0.5em;}#sk-container-id-6 div.sk-estimator:hover {background-color: #d4ebff;}#sk-container-id-6 div.sk-parallel-item::after {content: \"\";width: 100%;border-bottom: 1px solid gray;flex-grow: 1;}#sk-container-id-6 div.sk-label:hover label.sk-toggleable__label {background-color: #d4ebff;}#sk-container-id-6 div.sk-serial::before {content: \"\";position: absolute;border-left: 1px solid gray;box-sizing: border-box;top: 0;bottom: 0;left: 50%;z-index: 0;}#sk-container-id-6 div.sk-serial {display: flex;flex-direction: column;align-items: center;background-color: white;padding-right: 0.2em;padding-left: 0.2em;position: relative;}#sk-container-id-6 div.sk-item {position: relative;z-index: 1;}#sk-container-id-6 div.sk-parallel {display: flex;align-items: stretch;justify-content: center;background-color: white;position: relative;}#sk-container-id-6 div.sk-item::before, #sk-container-id-6 div.sk-parallel-item::before {content: \"\";position: absolute;border-left: 1px solid gray;box-sizing: border-box;top: 0;bottom: 0;left: 50%;z-index: -1;}#sk-container-id-6 div.sk-parallel-item {display: flex;flex-direction: column;z-index: 1;position: relative;background-color: white;}#sk-container-id-6 div.sk-parallel-item:first-child::after {align-self: flex-end;width: 50%;}#sk-container-id-6 div.sk-parallel-item:last-child::after {align-self: flex-start;width: 50%;}#sk-container-id-6 div.sk-parallel-item:only-child::after {width: 0;}#sk-container-id-6 div.sk-dashed-wrapped {border: 1px dashed gray;margin: 0 0.4em 0.5em 0.4em;box-sizing: border-box;padding-bottom: 0.4em;background-color: white;}#sk-container-id-6 div.sk-label label {font-family: monospace;font-weight: bold;display: inline-block;line-height: 1.2em;}#sk-container-id-6 div.sk-label-container {text-align: center;}#sk-container-id-6 div.sk-container {/* jupyter's `normalize.less` sets `[hidden] { display: none; }` but bootstrap.min.css set `[hidden] { display: none !important; }` so we also need the `!important` here to be able to override the default hidden behavior on the sphinx rendered scikit-learn.org. See: https://github.com/scikit-learn/scikit-learn/issues/21755 */display: inline-block !important;position: relative;}#sk-container-id-6 div.sk-text-repr-fallback {display: none;}</style><div id=\"sk-container-id-6\" class=\"sk-top-container\"><div class=\"sk-text-repr-fallback\"><pre>ElasticNet(alpha=0.1)</pre><b>In a Jupyter environment, please rerun this cell to show the HTML representation or trust the notebook. <br />On GitHub, the HTML representation is unable to render, please try loading this page with nbviewer.org.</b></div><div class=\"sk-container\" hidden><div class=\"sk-item\"><div class=\"sk-estimator sk-toggleable\"><input class=\"sk-toggleable__control sk-hidden--visually\" id=\"sk-estimator-id-12\" type=\"checkbox\" checked><label for=\"sk-estimator-id-12\" class=\"sk-toggleable__label sk-toggleable__label-arrow\">ElasticNet</label><div class=\"sk-toggleable__content\"><pre>ElasticNet(alpha=0.1)</pre></div></div></div></div></div>"
            ],
            "text/plain": [
              "ElasticNet(alpha=0.1)"
            ]
          },
          "execution_count": 386,
          "metadata": {},
          "output_type": "execute_result"
        }
      ],
      "source": [
        "elastic_net_final = ElasticNet(alpha=0.1, l1_ratio=0.5)\n",
        "elastic_net_final.fit(X_train, y_train)"
      ]
    },
    {
      "cell_type": "markdown",
      "metadata": {
        "id": "jAQs6-nOE6Xe"
      },
      "source": [
        "## 7.4 Import optuna and configure the same experiment with ElasticNet."
      ]
    },
    {
      "cell_type": "code",
      "execution_count": 396,
      "metadata": {
        "id": "byt2Y0mPE8wF"
      },
      "outputs": [],
      "source": [
        "def objective(trial):\n",
        "    alpha = trial.suggest_float('alpha', 0.001, 1.0, log=True)\n",
        "    l1_ratio = trial.suggest_float('l1_ratio', 0.0, 1.0)\n",
        "\n",
        "    model = ElasticNet(alpha=alpha, l1_ratio=l1_ratio)\n",
        "    model.fit(X_train, y_train)\n",
        "    y_pred = model.predict(X_val)\n",
        "\n",
        "    mse = mean_squared_error(y_val, y_pred)\n",
        "    return mse"
      ]
    },
    {
      "cell_type": "markdown",
      "metadata": {
        "id": "e9WCFrycKKrL"
      },
      "source": [
        "## 7.5 Estimate metrics and compare these approaches."
      ]
    },
    {
      "cell_type": "code",
      "execution_count": 397,
      "metadata": {
        "colab": {
          "base_uri": "https://localhost:8080/"
        },
        "id": "AmVRxISBGftq",
        "outputId": "8661268e-86ff-4c64-d834-599044d2e953"
      },
      "outputs": [
        {
          "name": "stderr",
          "output_type": "stream",
          "text": [
            "[I 2024-03-07 13:38:06,191] A new study created in memory with name: no-name-a2318d6a-765c-4cf5-9e38-d57b4068124f\n",
            "[I 2024-03-07 13:38:06,235] Trial 0 finished with value: 3925218.217511233 and parameters: {'alpha': 0.18887116113138988, 'l1_ratio': 0.713527558087834}. Best is trial 0 with value: 3925218.217511233.\n",
            "[I 2024-03-07 13:38:06,384] Trial 1 finished with value: 3922486.193149342 and parameters: {'alpha': 0.012102784054485416, 'l1_ratio': 0.021593212393785755}. Best is trial 1 with value: 3922486.193149342.\n",
            "[I 2024-03-07 13:38:06,444] Trial 2 finished with value: 3945038.8852415816 and parameters: {'alpha': 0.9743410928213357, 'l1_ratio': 0.9103845849220173}. Best is trial 1 with value: 3922486.193149342.\n",
            "[I 2024-03-07 13:38:06,614] Trial 3 finished with value: 3929807.249952797 and parameters: {'alpha': 0.015456218683886443, 'l1_ratio': 0.7280450676870613}. Best is trial 1 with value: 3922486.193149342.\n",
            "[I 2024-03-07 13:38:06,746] Trial 4 finished with value: 3922690.453202607 and parameters: {'alpha': 0.015097555373276573, 'l1_ratio': 0.23655833778934243}. Best is trial 1 with value: 3922486.193149342.\n",
            "[I 2024-03-07 13:38:06,789] Trial 5 finished with value: 4226032.640189192 and parameters: {'alpha': 0.6276690276406856, 'l1_ratio': 0.29070604968789904}. Best is trial 1 with value: 3922486.193149342.\n",
            "[I 2024-03-07 13:38:06,839] Trial 6 finished with value: 4028304.582894387 and parameters: {'alpha': 0.44519546250198627, 'l1_ratio': 0.5523881798495447}. Best is trial 1 with value: 3922486.193149342.\n",
            "[I 2024-03-07 13:38:06,909] Trial 7 finished with value: 3926290.017608809 and parameters: {'alpha': 0.25260802188915116, 'l1_ratio': 0.7771305324151776}. Best is trial 1 with value: 3922486.193149342.\n",
            "[I 2024-03-07 13:38:07,085] Trial 8 finished with value: 3934725.321659107 and parameters: {'alpha': 0.002557523415578004, 'l1_ratio': 0.5806426046270449}. Best is trial 1 with value: 3922486.193149342.\n",
            "[I 2024-03-07 13:38:07,232] Trial 9 finished with value: 3929848.882488601 and parameters: {'alpha': 0.007168123118946455, 'l1_ratio': 0.41533045908674127}. Best is trial 1 with value: 3922486.193149342.\n",
            "[I 2024-03-07 13:38:07,342] Trial 10 finished with value: 3936138.078771356 and parameters: {'alpha': 0.07503621664265282, 'l1_ratio': 0.00017204787101463698}. Best is trial 1 with value: 3922486.193149342.\n",
            "[I 2024-03-07 13:38:07,442] Trial 11 finished with value: 3918760.9671454597 and parameters: {'alpha': 0.036180067772434224, 'l1_ratio': 0.05023792866306682}. Best is trial 11 with value: 3918760.9671454597.\n",
            "[I 2024-03-07 13:38:07,542] Trial 12 finished with value: 3924230.1642455105 and parameters: {'alpha': 0.05305707250853092, 'l1_ratio': 0.018731703383924693}. Best is trial 11 with value: 3918760.9671454597.\n",
            "[I 2024-03-07 13:38:07,735] Trial 13 finished with value: 3934501.450126668 and parameters: {'alpha': 0.0014451817522277022, 'l1_ratio': 0.16982406108557968}. Best is trial 11 with value: 3918760.9671454597.\n",
            "[I 2024-03-07 13:38:07,901] Trial 14 finished with value: 3929053.842503726 and parameters: {'alpha': 0.005565670534838077, 'l1_ratio': 0.13678147470373178}. Best is trial 11 with value: 3918760.9671454597.\n",
            "[I 2024-03-07 13:38:08,048] Trial 15 finished with value: 3920862.5851553627 and parameters: {'alpha': 0.02358270317794753, 'l1_ratio': 0.3777770047983342}. Best is trial 11 with value: 3918760.9671454597.\n",
            "[I 2024-03-07 13:38:08,174] Trial 16 finished with value: 3918427.8007036364 and parameters: {'alpha': 0.03738312647658259, 'l1_ratio': 0.38894218920640555}. Best is trial 16 with value: 3918427.8007036364.\n",
            "[I 2024-03-07 13:38:08,234] Trial 17 finished with value: 3921644.5669715 and parameters: {'alpha': 0.07842333955066884, 'l1_ratio': 0.4221305582492182}. Best is trial 16 with value: 3918427.8007036364.\n",
            "[I 2024-03-07 13:38:08,309] Trial 18 finished with value: 3918156.313126256 and parameters: {'alpha': 0.03820312081784185, 'l1_ratio': 0.31608386528103505}. Best is trial 18 with value: 3918156.313126256.\n",
            "[I 2024-03-07 13:38:08,366] Trial 19 finished with value: 3945615.406083833 and parameters: {'alpha': 0.12998233754152252, 'l1_ratio': 0.30734368644815235}. Best is trial 18 with value: 3918156.313126256.\n",
            "[I 2024-03-07 13:38:08,460] Trial 20 finished with value: 3919534.3364148783 and parameters: {'alpha': 0.03858442317200146, 'l1_ratio': 0.5352956262429738}. Best is trial 18 with value: 3918156.313126256.\n",
            "[I 2024-03-07 13:38:08,565] Trial 21 finished with value: 3918188.3372618346 and parameters: {'alpha': 0.03289689947793608, 'l1_ratio': 0.11488941925467086}. Best is trial 18 with value: 3918156.313126256.\n",
            "[I 2024-03-07 13:38:08,696] Trial 22 finished with value: 3948566.042189858 and parameters: {'alpha': 0.11285780605085474, 'l1_ratio': 0.1625257083071277}. Best is trial 18 with value: 3918156.313126256.\n",
            "[I 2024-03-07 13:38:08,839] Trial 23 finished with value: 3919481.9822643925 and parameters: {'alpha': 0.024610302254608068, 'l1_ratio': 0.2629180485713125}. Best is trial 18 with value: 3918156.313126256.\n",
            "[I 2024-03-07 13:38:08,999] Trial 24 finished with value: 3928289.3815655387 and parameters: {'alpha': 0.00839319356396853, 'l1_ratio': 0.3544321708423595}. Best is trial 18 with value: 3918156.313126256.\n",
            "[I 2024-03-07 13:38:09,083] Trial 25 finished with value: 3918130.048642026 and parameters: {'alpha': 0.05183181895640024, 'l1_ratio': 0.4843515485268546}. Best is trial 25 with value: 3918130.048642026.\n",
            "[I 2024-03-07 13:38:09,183] Trial 26 finished with value: 3918758.643780466 and parameters: {'alpha': 0.06510756572664583, 'l1_ratio': 0.4728750443794061}. Best is trial 25 with value: 3918130.048642026.\n",
            "[I 2024-03-07 13:38:09,280] Trial 27 finished with value: 3938426.358132371 and parameters: {'alpha': 0.2066444907277868, 'l1_ratio': 0.6198943742148649}. Best is trial 25 with value: 3918130.048642026.\n",
            "[I 2024-03-07 13:38:09,414] Trial 28 finished with value: 3919260.8387032277 and parameters: {'alpha': 0.023887013165486633, 'l1_ratio': 0.20972475310485306}. Best is trial 25 with value: 3918130.048642026.\n",
            "[I 2024-03-07 13:38:09,578] Trial 29 finished with value: 3930164.8518371386 and parameters: {'alpha': 0.004475750232616477, 'l1_ratio': 0.1143557892894199}. Best is trial 25 with value: 3918130.048642026.\n",
            "[I 2024-03-07 13:38:09,652] Trial 30 finished with value: 3932939.6241819775 and parameters: {'alpha': 0.1322844922826019, 'l1_ratio': 0.47563484803120615}. Best is trial 25 with value: 3918130.048642026.\n",
            "[I 2024-03-07 13:38:09,775] Trial 31 finished with value: 3920420.4658197537 and parameters: {'alpha': 0.04131081301737928, 'l1_ratio': 0.6227892748167297}. Best is trial 25 with value: 3918130.048642026.\n",
            "[I 2024-03-07 13:38:09,942] Trial 32 finished with value: 3924999.7979293945 and parameters: {'alpha': 0.012741179335961543, 'l1_ratio': 0.32708592673811315}. Best is trial 25 with value: 3918130.048642026.\n",
            "[I 2024-03-07 13:38:10,080] Trial 33 finished with value: 3921500.7645587176 and parameters: {'alpha': 0.023357723176428386, 'l1_ratio': 0.42439568129924565}. Best is trial 25 with value: 3918130.048642026.\n",
            "[I 2024-03-07 13:38:10,225] Trial 34 finished with value: 3935193.5558068664 and parameters: {'alpha': 0.046707937382139686, 'l1_ratio': 0.9845278851285716}. Best is trial 25 with value: 3918130.048642026.\n",
            "[I 2024-03-07 13:38:10,315] Trial 35 finished with value: 3944085.224654038 and parameters: {'alpha': 0.09559957770838944, 'l1_ratio': 0.08200128950330914}. Best is trial 25 with value: 3918130.048642026.\n",
            "[I 2024-03-07 13:38:10,471] Trial 36 finished with value: 3922196.8892439054 and parameters: {'alpha': 0.015579167303745287, 'l1_ratio': 0.2114824527614984}. Best is trial 25 with value: 3918130.048642026.\n",
            "[I 2024-03-07 13:38:10,610] Trial 37 finished with value: 3923151.4921634165 and parameters: {'alpha': 0.055450911708145506, 'l1_ratio': 0.8059418553674895}. Best is trial 25 with value: 3918130.048642026.\n",
            "[I 2024-03-07 13:38:10,756] Trial 38 finished with value: 3927168.47622767 and parameters: {'alpha': 0.01900660131626877, 'l1_ratio': 0.6647349220143991}. Best is trial 25 with value: 3918130.048642026.\n",
            "[I 2024-03-07 13:38:10,810] Trial 39 finished with value: 3998542.5409948262 and parameters: {'alpha': 0.33943058960764777, 'l1_ratio': 0.5232192324849182}. Best is trial 25 with value: 3918130.048642026.\n",
            "[I 2024-03-07 13:38:10,954] Trial 40 finished with value: 3926611.2557323505 and parameters: {'alpha': 0.009463726500734813, 'l1_ratio': 0.2692150966386703}. Best is trial 25 with value: 3918130.048642026.\n",
            "[I 2024-03-07 13:38:11,215] Trial 41 finished with value: 3920131.9184169667 and parameters: {'alpha': 0.029622998360332956, 'l1_ratio': 0.4494723996675276}. Best is trial 25 with value: 3918130.048642026.\n",
            "[I 2024-03-07 13:38:11,405] Trial 42 finished with value: 3918976.7878142246 and parameters: {'alpha': 0.06968421705817163, 'l1_ratio': 0.4899920687650813}. Best is trial 25 with value: 3918130.048642026.\n",
            "[I 2024-03-07 13:38:11,555] Trial 43 finished with value: 3955900.0020697303 and parameters: {'alpha': 0.16661440287823703, 'l1_ratio': 0.3692537632301969}. Best is trial 25 with value: 3918130.048642026.\n",
            "[I 2024-03-07 13:38:11,718] Trial 44 finished with value: 3918953.0443180227 and parameters: {'alpha': 0.0576822676218577, 'l1_ratio': 0.38583840384296714}. Best is trial 25 with value: 3918130.048642026.\n",
            "[I 2024-03-07 13:38:11,892] Trial 45 finished with value: 3922418.0152390823 and parameters: {'alpha': 0.08937966360884107, 'l1_ratio': 0.4690457207289785}. Best is trial 25 with value: 3918130.048642026.\n",
            "[I 2024-03-07 13:38:12,202] Trial 46 finished with value: 3921597.434242499 and parameters: {'alpha': 0.03049459694264268, 'l1_ratio': 0.5654228149057242}. Best is trial 25 with value: 3918130.048642026.\n",
            "[I 2024-03-07 13:38:12,372] Trial 47 finished with value: 3929274.266971105 and parameters: {'alpha': 0.017789171878706357, 'l1_ratio': 0.7411849360043185}. Best is trial 25 with value: 3918130.048642026.\n",
            "[I 2024-03-07 13:38:12,477] Trial 48 finished with value: 3920298.0143651334 and parameters: {'alpha': 0.06095959375254272, 'l1_ratio': 0.32614252037277813}. Best is trial 25 with value: 3918130.048642026.\n",
            "[I 2024-03-07 13:38:12,660] Trial 49 finished with value: 3921513.4500985616 and parameters: {'alpha': 0.03426905339963345, 'l1_ratio': 0.6092158926966371}. Best is trial 25 with value: 3918130.048642026.\n",
            "[I 2024-03-07 13:38:12,800] Trial 50 finished with value: 4284125.153284335 and parameters: {'alpha': 0.678562841137757, 'l1_ratio': 0.23455115566725712}. Best is trial 25 with value: 3918130.048642026.\n",
            "[I 2024-03-07 13:38:12,997] Trial 51 finished with value: 3920547.7477740073 and parameters: {'alpha': 0.04409538446792169, 'l1_ratio': 0.04842207683930125}. Best is trial 25 with value: 3918130.048642026.\n",
            "[I 2024-03-07 13:38:13,199] Trial 52 finished with value: 3918407.7407372845 and parameters: {'alpha': 0.03395896919947461, 'l1_ratio': 0.06259171984683923}. Best is trial 25 with value: 3918130.048642026.\n",
            "[I 2024-03-07 13:38:13,523] Trial 53 finished with value: 3923736.447235246 and parameters: {'alpha': 0.011199277396592718, 'l1_ratio': 0.09886511222267144}. Best is trial 25 with value: 3918130.048642026.\n",
            "[I 2024-03-07 13:38:13,730] Trial 54 finished with value: 3920818.905784672 and parameters: {'alpha': 0.030227719063631735, 'l1_ratio': 0.5122010953006402}. Best is trial 25 with value: 3918130.048642026.\n",
            "[I 2024-03-07 13:38:13,888] Trial 55 finished with value: 3927754.564649475 and parameters: {'alpha': 0.07285998335102041, 'l1_ratio': 0.18074438899521167}. Best is trial 25 with value: 3918130.048642026.\n",
            "[I 2024-03-07 13:38:14,024] Trial 56 finished with value: 3952183.8924644603 and parameters: {'alpha': 0.10425323393908054, 'l1_ratio': 0.04209198481996457}. Best is trial 25 with value: 3918130.048642026.\n",
            "[I 2024-03-07 13:38:14,196] Trial 57 finished with value: 3918137.102540775 and parameters: {'alpha': 0.04732705323901112, 'l1_ratio': 0.40926115592002765}. Best is trial 25 with value: 3918130.048642026.\n",
            "[I 2024-03-07 13:38:14,381] Trial 58 finished with value: 3922147.2540527415 and parameters: {'alpha': 0.02072239000074289, 'l1_ratio': 0.40400927309249723}. Best is trial 25 with value: 3918130.048642026.\n",
            "[I 2024-03-07 13:38:14,529] Trial 59 finished with value: 3918418.4980806755 and parameters: {'alpha': 0.043700691395766655, 'l1_ratio': 0.26956541414564683}. Best is trial 25 with value: 3918130.048642026.\n",
            "[I 2024-03-07 13:38:14,697] Trial 60 finished with value: 3918238.861375162 and parameters: {'alpha': 0.028599386482297835, 'l1_ratio': 0.1361743888116018}. Best is trial 25 with value: 3918130.048642026.\n",
            "[I 2024-03-07 13:38:14,926] Trial 61 finished with value: 3920305.094875633 and parameters: {'alpha': 0.04793510829959946, 'l1_ratio': 0.14214841447111226}. Best is trial 25 with value: 3918130.048642026.\n",
            "[I 2024-03-07 13:38:15,101] Trial 62 finished with value: 3918162.395534655 and parameters: {'alpha': 0.030660473333595277, 'l1_ratio': 0.07060744370243675}. Best is trial 25 with value: 3918130.048642026.\n",
            "[I 2024-03-07 13:38:15,347] Trial 63 finished with value: 3918154.0344094876 and parameters: {'alpha': 0.02653991952318544, 'l1_ratio': 0.0024456867315159475}. Best is trial 25 with value: 3918130.048642026.\n",
            "[I 2024-03-07 13:38:15,648] Trial 64 finished with value: 3920752.1163245128 and parameters: {'alpha': 0.015011098379706347, 'l1_ratio': 0.005452974060786247}. Best is trial 25 with value: 3918130.048642026.\n",
            "[I 2024-03-07 13:38:15,851] Trial 65 finished with value: 3918143.158815101 and parameters: {'alpha': 0.0301544930386877, 'l1_ratio': 0.10242589770097077}. Best is trial 25 with value: 3918130.048642026.\n",
            "[I 2024-03-07 13:38:16,004] Trial 66 finished with value: 3918458.4946534275 and parameters: {'alpha': 0.02333176685824686, 'l1_ratio': 0.02752639364114587}. Best is trial 25 with value: 3918130.048642026.\n",
            "[I 2024-03-07 13:38:16,219] Trial 67 finished with value: 3928036.8037068048 and parameters: {'alpha': 0.006167132734642263, 'l1_ratio': 0.08603605012616167}. Best is trial 25 with value: 3918130.048642026.\n",
            "[I 2024-03-07 13:38:16,362] Trial 68 finished with value: 3921243.758535547 and parameters: {'alpha': 0.017153004958713133, 'l1_ratio': 0.18743362136864755}. Best is trial 25 with value: 3918130.048642026.\n",
            "[I 2024-03-07 13:38:16,563] Trial 69 finished with value: 3935058.6531819976 and parameters: {'alpha': 0.0010167035495420819, 'l1_ratio': 0.12199520809334852}. Best is trial 25 with value: 3918130.048642026.\n",
            "[I 2024-03-07 13:38:16,735] Trial 70 finished with value: 3922079.788457728 and parameters: {'alpha': 0.012505520093341231, 'l1_ratio': 0.0018988142144022227}. Best is trial 25 with value: 3918130.048642026.\n",
            "[I 2024-03-07 13:38:16,876] Trial 71 finished with value: 3918453.6258867024 and parameters: {'alpha': 0.026175974186499733, 'l1_ratio': 0.1323972455167422}. Best is trial 25 with value: 3918130.048642026.\n",
            "[I 2024-03-07 13:38:16,990] Trial 72 finished with value: 3918831.6394447377 and parameters: {'alpha': 0.03766013020714043, 'l1_ratio': 0.07656272621926821}. Best is trial 25 with value: 3918130.048642026.\n",
            "[I 2024-03-07 13:38:17,114] Trial 73 finished with value: 3918379.1011540205 and parameters: {'alpha': 0.02768297512952785, 'l1_ratio': 0.15925383882438307}. Best is trial 25 with value: 3918130.048642026.\n",
            "[I 2024-03-07 13:38:17,217] Trial 74 finished with value: 3921719.8191709756 and parameters: {'alpha': 0.05111857408859011, 'l1_ratio': 0.10839763510626778}. Best is trial 25 with value: 3918130.048642026.\n",
            "[I 2024-03-07 13:38:17,354] Trial 75 finished with value: 3920337.1841008784 and parameters: {'alpha': 0.020861643632152874, 'l1_ratio': 0.2408335192308415}. Best is trial 25 with value: 3918130.048642026.\n",
            "[I 2024-03-07 13:38:17,464] Trial 76 finished with value: 3918925.5710426536 and parameters: {'alpha': 0.03607215413185737, 'l1_ratio': 0.4420225089093408}. Best is trial 25 with value: 3918130.048642026.\n",
            "[I 2024-03-07 13:38:17,566] Trial 77 finished with value: 3919106.3700966113 and parameters: {'alpha': 0.05526272140595682, 'l1_ratio': 0.3446675331395077}. Best is trial 25 with value: 3918130.048642026.\n",
            "[I 2024-03-07 13:38:17,680] Trial 78 finished with value: 3926516.08629092 and parameters: {'alpha': 0.08200937505950914, 'l1_ratio': 0.3036685917511106}. Best is trial 25 with value: 3918130.048642026.\n",
            "[I 2024-03-07 13:38:17,777] Trial 79 finished with value: 3956312.4301186097 and parameters: {'alpha': 0.1330803324947149, 'l1_ratio': 0.20534395851877943}. Best is trial 25 with value: 3918130.048642026.\n",
            "[I 2024-03-07 13:38:17,914] Trial 80 finished with value: 3921448.4165495858 and parameters: {'alpha': 0.014420673249236541, 'l1_ratio': 0.05936602068331226}. Best is trial 25 with value: 3918130.048642026.\n",
            "[I 2024-03-07 13:38:18,026] Trial 81 finished with value: 3918145.6802730192 and parameters: {'alpha': 0.02787177359400922, 'l1_ratio': 0.033232941579144595}. Best is trial 25 with value: 3918130.048642026.\n",
            "[I 2024-03-07 13:38:18,163] Trial 82 finished with value: 3918152.7335284282 and parameters: {'alpha': 0.02930540505708339, 'l1_ratio': 0.0405974878163643}. Best is trial 25 with value: 3918130.048642026.\n",
            "[I 2024-03-07 13:38:18,295] Trial 83 finished with value: 3918866.782843217 and parameters: {'alpha': 0.021511522533443312, 'l1_ratio': 0.04977949700985972}. Best is trial 25 with value: 3918130.048642026.\n",
            "[I 2024-03-07 13:38:18,392] Trial 84 finished with value: 3920019.917356855 and parameters: {'alpha': 0.041397918149828426, 'l1_ratio': 0.03136075568412591}. Best is trial 25 with value: 3918130.048642026.\n",
            "[I 2024-03-07 13:38:18,496] Trial 85 finished with value: 3927528.4420877635 and parameters: {'alpha': 0.06527961806481508, 'l1_ratio': 0.09242057578074431}. Best is trial 25 with value: 3918130.048642026.\n",
            "[I 2024-03-07 13:38:18,611] Trial 86 finished with value: 3918523.2247515977 and parameters: {'alpha': 0.032848734995996894, 'l1_ratio': 0.0022146021757933074}. Best is trial 25 with value: 3918130.048642026.\n",
            "[I 2024-03-07 13:38:18,767] Trial 87 finished with value: 3924257.976717774 and parameters: {'alpha': 0.01020212013798462, 'l1_ratio': 0.07441479136001655}. Best is trial 25 with value: 3918130.048642026.\n",
            "[I 2024-03-07 13:38:18,887] Trial 88 finished with value: 3918178.1472438397 and parameters: {'alpha': 0.026523266205086455, 'l1_ratio': 0.0292248892975447}. Best is trial 25 with value: 3918130.048642026.\n",
            "[I 2024-03-07 13:38:19,031] Trial 89 finished with value: 3919439.8649018332 and parameters: {'alpha': 0.019111992798566776, 'l1_ratio': 0.04288099407041103}. Best is trial 25 with value: 3918130.048642026.\n",
            "[I 2024-03-07 13:38:19,188] Trial 90 finished with value: 3918264.163306059 and parameters: {'alpha': 0.025036014333174768, 'l1_ratio': 0.024923948005476308}. Best is trial 25 with value: 3918130.048642026.\n",
            "[I 2024-03-07 13:38:19,263] Trial 91 finished with value: 3919130.794757054 and parameters: {'alpha': 0.04070425999634034, 'l1_ratio': 0.10689943629294837}. Best is trial 25 with value: 3918130.048642026.\n",
            "[I 2024-03-07 13:38:19,353] Trial 92 finished with value: 3921279.269802767 and parameters: {'alpha': 0.05250701056468996, 'l1_ratio': 0.15674896254022808}. Best is trial 25 with value: 3918130.048642026.\n",
            "[I 2024-03-07 13:38:19,468] Trial 93 finished with value: 3918267.852489603 and parameters: {'alpha': 0.03258123470994616, 'l1_ratio': 0.0678414785712314}. Best is trial 25 with value: 3918130.048642026.\n",
            "[I 2024-03-07 13:38:19,610] Trial 94 finished with value: 3922271.8982927767 and parameters: {'alpha': 0.026957941753611995, 'l1_ratio': 0.5498586658721606}. Best is trial 25 with value: 3918130.048642026.\n",
            "[I 2024-03-07 13:38:19,759] Trial 95 finished with value: 3920023.6070140526 and parameters: {'alpha': 0.0170188501011873, 'l1_ratio': 0.023311561531588136}. Best is trial 25 with value: 3918130.048642026.\n",
            "[I 2024-03-07 13:38:19,864] Trial 96 finished with value: 3918739.937394127 and parameters: {'alpha': 0.03852171027852619, 'l1_ratio': 0.11134777091661911}. Best is trial 25 with value: 3918130.048642026.\n",
            "[I 2024-03-07 13:38:19,979] Trial 97 finished with value: 3918336.319712734 and parameters: {'alpha': 0.046342767436889344, 'l1_ratio': 0.4919945928054416}. Best is trial 25 with value: 3918130.048642026.\n",
            "[I 2024-03-07 13:38:20,097] Trial 98 finished with value: 3925764.8658081996 and parameters: {'alpha': 0.05906357087698974, 'l1_ratio': 0.05970893622950354}. Best is trial 25 with value: 3918130.048642026.\n",
            "[I 2024-03-07 13:38:20,233] Trial 99 finished with value: 3921673.136636359 and parameters: {'alpha': 0.023728546199535374, 'l1_ratio': 0.44633761990504345}. Best is trial 25 with value: 3918130.048642026.\n"
          ]
        }
      ],
      "source": [
        "study = optuna.create_study(direction='minimize')\n",
        "study.optimize(objective, n_trials=100)"
      ]
    },
    {
      "cell_type": "code",
      "execution_count": 398,
      "metadata": {
        "colab": {
          "base_uri": "https://localhost:8080/"
        },
        "id": "_w1gho_CGrqb",
        "outputId": "a76ef3d5-6176-4981-f8e3-be4bfc4ad747"
      },
      "outputs": [
        {
          "name": "stdout",
          "output_type": "stream",
          "text": [
            "Best Hyperparameters: {'alpha': 0.05183181895640024, 'l1_ratio': 0.4843515485268546}\n",
            "Best MSE: 3918130.048642026\n"
          ]
        }
      ],
      "source": [
        "best_params = study.best_params\n",
        "best_mse = study.best_value\n",
        "\n",
        "print(\"Best Hyperparameters:\", best_params)\n",
        "print(\"Best MSE:\", best_mse)"
      ]
    },
    {
      "cell_type": "markdown",
      "metadata": {
        "id": "45UFqYPLLxJc"
      },
      "source": [
        "## 7.6 Run optuna on one of the cross validation schemes"
      ]
    },
    {
      "cell_type": "code",
      "execution_count": 400,
      "metadata": {
        "id": "SAfXatS-KO5D"
      },
      "outputs": [],
      "source": [
        "def objective(trial):\n",
        "    alpha = trial.suggest_float('alpha', 0.001, 1.0, log=True)\n",
        "    l1_ratio = trial.suggest_float('l1_ratio', 0.0, 1.0)\n",
        "\n",
        "    model = ElasticNet(alpha=alpha, l1_ratio=l1_ratio)\n",
        "\n",
        "    scores = cross_val_score(model, X_train, y_train, cv=5)\n",
        "    return scores.mean()"
      ]
    },
    {
      "cell_type": "code",
      "execution_count": 401,
      "metadata": {
        "colab": {
          "base_uri": "https://localhost:8080/"
        },
        "id": "9hsdoUPHMqRM",
        "outputId": "ea0cafc4-f03a-43b5-e8cd-94a0b411e0d1"
      },
      "outputs": [
        {
          "name": "stderr",
          "output_type": "stream",
          "text": [
            "[I 2024-03-07 13:55:35,840] A new study created in memory with name: no-name-3f2cb051-fe3d-46a0-a1ac-97ec0f78709a\n",
            "[I 2024-03-07 13:55:36,754] Trial 0 finished with value: 0.34697074919299836 and parameters: {'alpha': 0.008626338994589429, 'l1_ratio': 0.38461963197217464}. Best is trial 0 with value: 0.34697074919299836.\n",
            "[I 2024-03-07 13:55:37,041] Trial 1 finished with value: 0.32241252843082846 and parameters: {'alpha': 0.7240966596508223, 'l1_ratio': 0.33984568945501614}. Best is trial 0 with value: 0.34697074919299836.\n",
            "[I 2024-03-07 13:55:38,729] Trial 2 finished with value: 0.34645593356491017 and parameters: {'alpha': 0.0047552612916381964, 'l1_ratio': 0.3185174469946861}. Best is trial 0 with value: 0.34697074919299836.\n",
            "[I 2024-03-07 13:55:39,071] Trial 3 finished with value: 0.3504831275174918 and parameters: {'alpha': 0.51285706970039, 'l1_ratio': 0.8571504228119159}. Best is trial 3 with value: 0.3504831275174918.\n",
            "[I 2024-03-07 13:55:39,329] Trial 4 finished with value: 0.32672846989254 and parameters: {'alpha': 0.739438938069991, 'l1_ratio': 0.427229397917537}. Best is trial 3 with value: 0.3504831275174918.\n",
            "[I 2024-03-07 13:55:41,068] Trial 5 finished with value: 0.3459398582963885 and parameters: {'alpha': 0.00372071327194738, 'l1_ratio': 0.6210149368805749}. Best is trial 3 with value: 0.3504831275174918.\n",
            "[I 2024-03-07 13:55:42,527] Trial 6 finished with value: 0.3458269286006698 and parameters: {'alpha': 0.004044300020589624, 'l1_ratio': 0.7434450384643313}. Best is trial 3 with value: 0.3504831275174918.\n",
            "[I 2024-03-07 13:55:42,917] Trial 7 finished with value: 0.3504145448064646 and parameters: {'alpha': 0.24300176393635828, 'l1_ratio': 0.8522114485691716}. Best is trial 3 with value: 0.3504831275174918.\n",
            "[I 2024-03-07 13:55:43,282] Trial 8 finished with value: 0.32025653742264765 and parameters: {'alpha': 0.5597160575987113, 'l1_ratio': 0.09664276142788364}. Best is trial 3 with value: 0.3504831275174918.\n",
            "[I 2024-03-07 13:55:43,753] Trial 9 finished with value: 0.3478173705930116 and parameters: {'alpha': 0.2091537530119412, 'l1_ratio': 0.35094997839655195}. Best is trial 3 with value: 0.3504831275174918.\n",
            "[I 2024-03-07 13:55:44,876] Trial 10 finished with value: 0.34574690351598636 and parameters: {'alpha': 0.04210929634718187, 'l1_ratio': 0.983120045666015}. Best is trial 3 with value: 0.3504831275174918.\n",
            "[I 2024-03-07 13:55:45,548] Trial 11 finished with value: 0.34727373033969855 and parameters: {'alpha': 0.13112201899434364, 'l1_ratio': 0.950866015299053}. Best is trial 3 with value: 0.3504831275174918.\n",
            "[I 2024-03-07 13:55:46,014] Trial 12 finished with value: 0.34992172552100953 and parameters: {'alpha': 0.11928613197108931, 'l1_ratio': 0.7736104562347275}. Best is trial 3 with value: 0.3504831275174918.\n",
            "[I 2024-03-07 13:55:46,944] Trial 13 finished with value: 0.3471042099029475 and parameters: {'alpha': 0.03336907096968452, 'l1_ratio': 0.8247662044713459}. Best is trial 3 with value: 0.3504831275174918.\n",
            "[I 2024-03-07 13:55:47,221] Trial 14 finished with value: 0.3493133667150229 and parameters: {'alpha': 0.25987730711339513, 'l1_ratio': 0.5903181130002018}. Best is trial 3 with value: 0.3504831275174918.\n",
            "[I 2024-03-07 13:55:47,738] Trial 15 finished with value: 0.3479328292022578 and parameters: {'alpha': 0.07070612672572345, 'l1_ratio': 0.8595004225175465}. Best is trial 3 with value: 0.3504831275174918.\n",
            "[I 2024-03-07 13:55:48,034] Trial 16 finished with value: 0.3492672200870769 and parameters: {'alpha': 0.3045256789203582, 'l1_ratio': 0.6474252950656908}. Best is trial 3 with value: 0.3504831275174918.\n",
            "[I 2024-03-07 13:55:48,937] Trial 17 finished with value: 0.34589337981989393 and parameters: {'alpha': 0.0012730530775662966, 'l1_ratio': 0.010028498310293621}. Best is trial 3 with value: 0.3504831275174918.\n",
            "[I 2024-03-07 13:55:49,640] Trial 18 finished with value: 0.34592822015464386 and parameters: {'alpha': 0.012725965038908668, 'l1_ratio': 0.8935306926709452}. Best is trial 3 with value: 0.3504831275174918.\n",
            "[I 2024-03-07 13:55:49,907] Trial 19 finished with value: 0.337739448360716 and parameters: {'alpha': 0.9627361578516569, 'l1_ratio': 0.7077491181077997}. Best is trial 3 with value: 0.3504831275174918.\n",
            "[I 2024-03-07 13:55:50,114] Trial 20 finished with value: 0.34469724813069613 and parameters: {'alpha': 0.3810136958945078, 'l1_ratio': 0.5125992644015438}. Best is trial 3 with value: 0.3504831275174918.\n",
            "[I 2024-03-07 13:55:50,456] Trial 21 finished with value: 0.34980134708445226 and parameters: {'alpha': 0.12463680358221702, 'l1_ratio': 0.7966049718537259}. Best is trial 3 with value: 0.3504831275174918.\n",
            "[I 2024-03-07 13:55:50,965] Trial 22 finished with value: 0.34760715768220796 and parameters: {'alpha': 0.09197404668310587, 'l1_ratio': 0.9114517208931497}. Best is trial 3 with value: 0.3504831275174918.\n",
            "[I 2024-03-07 13:55:51,261] Trial 23 finished with value: 0.3506256541419298 and parameters: {'alpha': 0.1797636642160484, 'l1_ratio': 0.7593004440615025}. Best is trial 23 with value: 0.3506256541419298.\n",
            "[I 2024-03-07 13:55:51,516] Trial 24 finished with value: 0.3484046656416291 and parameters: {'alpha': 0.40556815355518205, 'l1_ratio': 0.6932391127923987}. Best is trial 23 with value: 0.3506256541419298.\n",
            "[I 2024-03-07 13:55:51,782] Trial 25 finished with value: 0.3499413785075205 and parameters: {'alpha': 0.19425555958442364, 'l1_ratio': 0.5289916423348447}. Best is trial 23 with value: 0.3506256541419298.\n",
            "[I 2024-03-07 13:55:52,398] Trial 26 finished with value: 0.3455838788245373 and parameters: {'alpha': 0.06526542217393844, 'l1_ratio': 0.9975700542804294}. Best is trial 23 with value: 0.3506256541419298.\n",
            "[I 2024-03-07 13:55:53,081] Trial 27 finished with value: 0.3462887071862103 and parameters: {'alpha': 0.016524954248579884, 'l1_ratio': 0.8426417924022979}. Best is trial 23 with value: 0.3506256541419298.\n",
            "[I 2024-03-07 13:55:53,318] Trial 28 finished with value: 0.34841124255914446 and parameters: {'alpha': 0.5054070256216971, 'l1_ratio': 0.7546571354109786}. Best is trial 23 with value: 0.3506256541419298.\n",
            "[I 2024-03-07 13:55:53,769] Trial 29 finished with value: 0.3489854831427787 and parameters: {'alpha': 0.18218562593918944, 'l1_ratio': 0.9071042587938141}. Best is trial 23 with value: 0.3506256541419298.\n",
            "[I 2024-03-07 13:55:54,167] Trial 30 finished with value: 0.3492100997003563 and parameters: {'alpha': 0.04496235639563961, 'l1_ratio': 0.5747498770726813}. Best is trial 23 with value: 0.3506256541419298.\n",
            "[I 2024-03-07 13:55:54,469] Trial 31 finished with value: 0.3496997175329153 and parameters: {'alpha': 0.19230114966582038, 'l1_ratio': 0.4919955043955848}. Best is trial 23 with value: 0.3506256541419298.\n",
            "[I 2024-03-07 13:55:54,786] Trial 32 finished with value: 0.3423458428339506 and parameters: {'alpha': 0.28620354821248944, 'l1_ratio': 0.23080534994443969}. Best is trial 23 with value: 0.3506256541419298.\n",
            "[I 2024-03-07 13:55:55,057] Trial 33 finished with value: 0.31332370838227325 and parameters: {'alpha': 0.7871512638144522, 'l1_ratio': 0.2468102433566004}. Best is trial 23 with value: 0.3506256541419298.\n",
            "[I 2024-03-07 13:55:55,261] Trial 34 finished with value: 0.3456744922917073 and parameters: {'alpha': 0.5213732449358457, 'l1_ratio': 0.6732119727566754}. Best is trial 23 with value: 0.3506256541419298.\n",
            "[I 2024-03-07 13:55:55,824] Trial 35 finished with value: 0.34831939727991845 and parameters: {'alpha': 0.022728499493785966, 'l1_ratio': 0.45677202787365145}. Best is trial 23 with value: 0.3506256541419298.\n",
            "[I 2024-03-07 13:55:56,090] Trial 36 finished with value: 0.3501437844149069 and parameters: {'alpha': 0.1820884696886484, 'l1_ratio': 0.5288626269366429}. Best is trial 23 with value: 0.3506256541419298.\n",
            "[I 2024-03-07 13:55:56,604] Trial 37 finished with value: 0.34921548148083525 and parameters: {'alpha': 0.0710124296457312, 'l1_ratio': 0.7306654852616769}. Best is trial 23 with value: 0.3506256541419298.\n",
            "[I 2024-03-07 13:55:57,146] Trial 38 finished with value: 0.32665745597149554 and parameters: {'alpha': 0.7062393084497891, 'l1_ratio': 0.3989186409250554}. Best is trial 23 with value: 0.3506256541419298.\n",
            "[I 2024-03-07 13:55:57,814] Trial 39 finished with value: 0.35033476720659873 and parameters: {'alpha': 0.3738090986128524, 'l1_ratio': 0.7880709021305954}. Best is trial 23 with value: 0.3506256541419298.\n",
            "[I 2024-03-07 13:55:58,393] Trial 40 finished with value: 0.34342232752718416 and parameters: {'alpha': 0.9942654002913819, 'l1_ratio': 0.7958523213964709}. Best is trial 23 with value: 0.3506256541419298.\n",
            "[I 2024-03-07 13:55:58,923] Trial 41 finished with value: 0.35073172084714777 and parameters: {'alpha': 0.3801627732540377, 'l1_ratio': 0.8664978359380711}. Best is trial 41 with value: 0.35073172084714777.\n",
            "[I 2024-03-07 13:55:59,683] Trial 42 finished with value: 0.34981991066000145 and parameters: {'alpha': 0.3806740598311047, 'l1_ratio': 0.9344193149473554}. Best is trial 41 with value: 0.35073172084714777.\n",
            "[I 2024-03-07 13:56:00,287] Trial 43 finished with value: 0.350431677733926 and parameters: {'alpha': 0.5628662413765217, 'l1_ratio': 0.8663412881483049}. Best is trial 41 with value: 0.35073172084714777.\n",
            "[I 2024-03-07 13:56:01,019] Trial 44 finished with value: 0.3499991300752239 and parameters: {'alpha': 0.652808389319247, 'l1_ratio': 0.8640601208397108}. Best is trial 41 with value: 0.35073172084714777.\n",
            "[I 2024-03-07 13:56:02,325] Trial 45 finished with value: 0.3480422033965559 and parameters: {'alpha': 0.26376789739237355, 'l1_ratio': 0.9612474044979489}. Best is trial 41 with value: 0.35073172084714777.\n",
            "[I 2024-03-07 13:56:03,588] Trial 46 finished with value: 0.3506845289819346 and parameters: {'alpha': 0.48809339415761566, 'l1_ratio': 0.8725388318434184}. Best is trial 41 with value: 0.35073172084714777.\n",
            "[I 2024-03-07 13:56:04,498] Trial 47 finished with value: 0.3499455936476933 and parameters: {'alpha': 0.5333905371087653, 'l1_ratio': 0.8302889954380034}. Best is trial 41 with value: 0.35073172084714777.\n",
            "[I 2024-03-07 13:56:06,209] Trial 48 finished with value: 0.3489448584746283 and parameters: {'alpha': 0.15066396208724578, 'l1_ratio': 0.8895369777625729}. Best is trial 41 with value: 0.35073172084714777.\n",
            "[I 2024-03-07 13:56:07,239] Trial 49 finished with value: 0.34939774002402046 and parameters: {'alpha': 0.4166561499313455, 'l1_ratio': 0.7499035572201675}. Best is trial 41 with value: 0.35073172084714777.\n",
            "[I 2024-03-07 13:56:09,324] Trial 50 finished with value: 0.3456212152640411 and parameters: {'alpha': 0.006489129463063031, 'l1_ratio': 0.9414003806760083}. Best is trial 41 with value: 0.35073172084714777.\n",
            "[I 2024-03-07 13:56:09,848] Trial 51 finished with value: 0.3503768493988401 and parameters: {'alpha': 0.2500021353497844, 'l1_ratio': 0.8601994186091587}. Best is trial 41 with value: 0.35073172084714777.\n",
            "[I 2024-03-07 13:56:10,197] Trial 52 finished with value: 0.34837244141392437 and parameters: {'alpha': 0.7585030686606574, 'l1_ratio': 0.8365236253752169}. Best is trial 41 with value: 0.35073172084714777.\n",
            "[I 2024-03-07 13:56:10,592] Trial 53 finished with value: 0.3507204564712664 and parameters: {'alpha': 0.313714043846108, 'l1_ratio': 0.8129175345268803}. Best is trial 41 with value: 0.35073172084714777.\n",
            "[I 2024-03-07 13:56:10,955] Trial 54 finished with value: 0.34885012841183 and parameters: {'alpha': 0.3176208613689578, 'l1_ratio': 0.6347236028836873}. Best is trial 41 with value: 0.35073172084714777.\n",
            "[I 2024-03-07 13:56:11,447] Trial 55 finished with value: 0.34974411871943145 and parameters: {'alpha': 0.49751067453192716, 'l1_ratio': 0.8073770369472896}. Best is trial 41 with value: 0.35073172084714777.\n",
            "[I 2024-03-07 13:56:11,768] Trial 56 finished with value: 0.3505528829247778 and parameters: {'alpha': 0.6240010918825684, 'l1_ratio': 0.8880389927522724}. Best is trial 41 with value: 0.35073172084714777.\n",
            "[I 2024-03-07 13:56:12,036] Trial 57 finished with value: 0.3397223704299896 and parameters: {'alpha': 0.90836539172429, 'l1_ratio': 0.7193624381237322}. Best is trial 41 with value: 0.35073172084714777.\n",
            "[I 2024-03-07 13:56:12,923] Trial 58 finished with value: 0.34614304525290523 and parameters: {'alpha': 0.10039552335089776, 'l1_ratio': 0.9807862190127329}. Best is trial 41 with value: 0.35073172084714777.\n",
            "[I 2024-03-07 13:56:13,751] Trial 59 finished with value: 0.3503399019492732 and parameters: {'alpha': 0.3313826341601469, 'l1_ratio': 0.8977867054517625}. Best is trial 41 with value: 0.35073172084714777.\n",
            "[I 2024-03-07 13:56:15,793] Trial 60 finished with value: 0.3455819693755789 and parameters: {'alpha': 0.0011419160010944156, 'l1_ratio': 0.7645248321280624}. Best is trial 41 with value: 0.35073172084714777.\n",
            "[I 2024-03-07 13:56:16,290] Trial 61 finished with value: 0.35044025821186936 and parameters: {'alpha': 0.5741443194782043, 'l1_ratio': 0.8696013772915808}. Best is trial 41 with value: 0.35073172084714777.\n",
            "[I 2024-03-07 13:56:16,912] Trial 62 finished with value: 0.35041983366022544 and parameters: {'alpha': 0.4298198324131278, 'l1_ratio': 0.9172892522433926}. Best is trial 41 with value: 0.35073172084714777.\n",
            "[I 2024-03-07 13:56:17,743] Trial 63 finished with value: 0.3483380149488437 and parameters: {'alpha': 0.6816118557097448, 'l1_ratio': 0.8167985764121158}. Best is trial 41 with value: 0.35073172084714777.\n",
            "[I 2024-03-07 13:56:19,063] Trial 64 finished with value: 0.3483481391134187 and parameters: {'alpha': 0.23454739470833402, 'l1_ratio': 0.9481586359200433}. Best is trial 41 with value: 0.35073172084714777.\n",
            "[I 2024-03-07 13:56:19,458] Trial 65 finished with value: 0.3475798229953832 and parameters: {'alpha': 0.6331757332971757, 'l1_ratio': 0.7808714130814133}. Best is trial 41 with value: 0.35073172084714777.\n",
            "[I 2024-03-07 13:56:19,840] Trial 66 finished with value: 0.350739858419917 and parameters: {'alpha': 0.476391392969094, 'l1_ratio': 0.8894088965602138}. Best is trial 66 with value: 0.350739858419917.\n",
            "[I 2024-03-07 13:56:20,369] Trial 67 finished with value: 0.3507344481207162 and parameters: {'alpha': 0.15893123053316455, 'l1_ratio': 0.6656262983725847}. Best is trial 66 with value: 0.350739858419917.\n",
            "[I 2024-03-07 13:56:21,551] Trial 68 finished with value: 0.3457431645786114 and parameters: {'alpha': 0.0023051658508336592, 'l1_ratio': 0.6654745176608193}. Best is trial 66 with value: 0.350739858419917.\n",
            "[I 2024-03-07 13:56:22,026] Trial 69 finished with value: 0.35067263994240366 and parameters: {'alpha': 0.1494820440455316, 'l1_ratio': 0.6924895669804274}. Best is trial 66 with value: 0.350739858419917.\n",
            "[I 2024-03-07 13:56:22,380] Trial 70 finished with value: 0.3507352815880396 and parameters: {'alpha': 0.13902269075754878, 'l1_ratio': 0.6097369955798458}. Best is trial 66 with value: 0.350739858419917.\n",
            "[I 2024-03-07 13:56:22,699] Trial 71 finished with value: 0.35069317338773737 and parameters: {'alpha': 0.1541597071013404, 'l1_ratio': 0.597739787064002}. Best is trial 66 with value: 0.350739858419917.\n",
            "[I 2024-03-07 13:56:23,033] Trial 72 finished with value: 0.3507349626590479 and parameters: {'alpha': 0.1322949610964242, 'l1_ratio': 0.5846429449908241}. Best is trial 66 with value: 0.350739858419917.\n",
            "[I 2024-03-07 13:56:23,381] Trial 73 finished with value: 0.3504182760449284 and parameters: {'alpha': 0.08986491237113169, 'l1_ratio': 0.5945423721569543}. Best is trial 66 with value: 0.350739858419917.\n",
            "[I 2024-03-07 13:56:23,713] Trial 74 finished with value: 0.3507077486481694 and parameters: {'alpha': 0.11104231964827377, 'l1_ratio': 0.5593950713316589}. Best is trial 66 with value: 0.350739858419917.\n",
            "[I 2024-03-07 13:56:24,063] Trial 75 finished with value: 0.3495530157702424 and parameters: {'alpha': 0.05212232241266987, 'l1_ratio': 0.5672492344570945}. Best is trial 66 with value: 0.350739858419917.\n",
            "[I 2024-03-07 13:56:24,365] Trial 76 finished with value: 0.3507345472411034 and parameters: {'alpha': 0.10227966756814313, 'l1_ratio': 0.46818702415841307}. Best is trial 66 with value: 0.350739858419917.\n",
            "[I 2024-03-07 13:56:24,676] Trial 77 finished with value: 0.3507250792695897 and parameters: {'alpha': 0.10967924791316494, 'l1_ratio': 0.4705482861908891}. Best is trial 66 with value: 0.350739858419917.\n",
            "[I 2024-03-07 13:56:25,032] Trial 78 finished with value: 0.35065468395500315 and parameters: {'alpha': 0.08415644474953328, 'l1_ratio': 0.464121964106675}. Best is trial 66 with value: 0.350739858419917.\n",
            "[I 2024-03-07 13:56:25,536] Trial 79 finished with value: 0.3492475449072098 and parameters: {'alpha': 0.030934492838566828, 'l1_ratio': 0.3698963948604708}. Best is trial 66 with value: 0.350739858419917.\n",
            "[I 2024-03-07 13:56:25,863] Trial 80 finished with value: 0.35046403511657487 and parameters: {'alpha': 0.05536476520166948, 'l1_ratio': 0.3174547371799802}. Best is trial 66 with value: 0.350739858419917.\n",
            "[I 2024-03-07 13:56:26,182] Trial 81 finished with value: 0.3507236875529265 and parameters: {'alpha': 0.1143277484831097, 'l1_ratio': 0.554665713404775}. Best is trial 66 with value: 0.350739858419917.\n",
            "[I 2024-03-07 13:56:26,496] Trial 82 finished with value: 0.34894312929307275 and parameters: {'alpha': 0.2226765549090373, 'l1_ratio': 0.4862380453109244}. Best is trial 66 with value: 0.350739858419917.\n",
            "[I 2024-03-07 13:56:26,828] Trial 83 finished with value: 0.35058180533836436 and parameters: {'alpha': 0.12477568153775115, 'l1_ratio': 0.4427435108941874}. Best is trial 66 with value: 0.350739858419917.\n",
            "[I 2024-03-07 13:56:27,146] Trial 84 finished with value: 0.3504124127604911 and parameters: {'alpha': 0.07717470779625953, 'l1_ratio': 0.5294065544992642}. Best is trial 66 with value: 0.350739858419917.\n",
            "[I 2024-03-07 13:56:27,496] Trial 85 finished with value: 0.3506939151885585 and parameters: {'alpha': 0.10585959847523363, 'l1_ratio': 0.41386474395469297}. Best is trial 66 with value: 0.350739858419917.\n",
            "[I 2024-03-07 13:56:27,753] Trial 86 finished with value: 0.35072639642505277 and parameters: {'alpha': 0.1537820054487816, 'l1_ratio': 0.6241236508407103}. Best is trial 66 with value: 0.350739858419917.\n",
            "[I 2024-03-07 13:56:28,032] Trial 87 finished with value: 0.3496348429009622 and parameters: {'alpha': 0.06107405782860085, 'l1_ratio': 0.615926403404327}. Best is trial 66 with value: 0.350739858419917.\n",
            "[I 2024-03-07 13:56:28,362] Trial 88 finished with value: 0.3504447591324663 and parameters: {'alpha': 0.15487664033222304, 'l1_ratio': 0.5115955470753224}. Best is trial 66 with value: 0.350739858419917.\n",
            "[I 2024-03-07 13:56:28,714] Trial 89 finished with value: 0.3507100133236167 and parameters: {'alpha': 0.13874359728723143, 'l1_ratio': 0.646564636424152}. Best is trial 66 with value: 0.350739858419917.\n",
            "[I 2024-03-07 13:56:29,371] Trial 90 finished with value: 0.3484373367856368 and parameters: {'alpha': 0.034132753104387605, 'l1_ratio': 0.6162206888457405}. Best is trial 66 with value: 0.350739858419917.\n",
            "[I 2024-03-07 13:56:29,804] Trial 91 finished with value: 0.3498855258786936 and parameters: {'alpha': 0.20551102419463135, 'l1_ratio': 0.5476994307316116}. Best is trial 66 with value: 0.350739858419917.\n",
            "[I 2024-03-07 13:56:30,289] Trial 92 finished with value: 0.3467452679757484 and parameters: {'alpha': 0.30015948910820733, 'l1_ratio': 0.48754589875264853}. Best is trial 66 with value: 0.350739858419917.\n",
            "[I 2024-03-07 13:56:30,828] Trial 93 finished with value: 0.3505473408139046 and parameters: {'alpha': 0.17293975174818246, 'l1_ratio': 0.5885832736493033}. Best is trial 66 with value: 0.350739858419917.\n",
            "[I 2024-03-07 13:56:31,426] Trial 94 finished with value: 0.35046938876710493 and parameters: {'alpha': 0.11745920335729777, 'l1_ratio': 0.6783909016376815}. Best is trial 66 with value: 0.350739858419917.\n",
            "[I 2024-03-07 13:56:32,015] Trial 95 finished with value: 0.3505965797932878 and parameters: {'alpha': 0.09364308519588804, 'l1_ratio': 0.549020159378363}. Best is trial 66 with value: 0.350739858419917.\n",
            "[I 2024-03-07 13:56:32,448] Trial 96 finished with value: 0.3484579931592694 and parameters: {'alpha': 0.26183447941322047, 'l1_ratio': 0.5271413463417759}. Best is trial 66 with value: 0.350739858419917.\n",
            "[I 2024-03-07 13:56:32,874] Trial 97 finished with value: 0.35054509532520195 and parameters: {'alpha': 0.1327909838986474, 'l1_ratio': 0.4627283386975639}. Best is trial 66 with value: 0.350739858419917.\n",
            "[I 2024-03-07 13:56:33,399] Trial 98 finished with value: 0.3506678939834787 and parameters: {'alpha': 0.17539709294661932, 'l1_ratio': 0.6345256486838488}. Best is trial 66 with value: 0.350739858419917.\n",
            "[I 2024-03-07 13:56:33,842] Trial 99 finished with value: 0.3438450584333409 and parameters: {'alpha': 0.34892820637963995, 'l1_ratio': 0.4313361965246507}. Best is trial 66 with value: 0.350739858419917.\n"
          ]
        }
      ],
      "source": [
        "study = optuna.create_study(direction='maximize')\n",
        "study.optimize(objective, n_trials=100)"
      ]
    },
    {
      "cell_type": "code",
      "execution_count": 402,
      "metadata": {
        "colab": {
          "base_uri": "https://localhost:8080/"
        },
        "id": "eEPxPDRHMwr2",
        "outputId": "98a8f8d8-8bbc-43fa-9c89-c7bd51dbb343"
      },
      "outputs": [
        {
          "name": "stdout",
          "output_type": "stream",
          "text": [
            "Best Hyperparameters: {'alpha': 0.476391392969094, 'l1_ratio': 0.8894088965602138}\n",
            "Best CVS: 0.350739858419917\n"
          ]
        }
      ],
      "source": [
        "best_params = study.best_params\n",
        "best_mse = study.best_value\n",
        "\n",
        "print(\"Best Hyperparameters:\", best_params)\n",
        "print(\"Best CVS:\", best_mse)"
      ]
    }
  ],
  "metadata": {
    "colab": {
      "provenance": []
    },
    "kernelspec": {
      "display_name": "Python 3 (ipykernel)",
      "language": "python",
      "name": "python3"
    },
    "language_info": {
      "codemirror_mode": {
        "name": "ipython",
        "version": 3
      },
      "file_extension": ".py",
      "mimetype": "text/x-python",
      "name": "python",
      "nbconvert_exporter": "python",
      "pygments_lexer": "ipython3",
      "version": "3.11.5"
    },
    "widgets": {
      "application/vnd.jupyter.widget-state+json": {
        "06499df1f02543999a29d5a55075860b": {
          "model_module": "@jupyter-widgets/base",
          "model_module_version": "1.2.0",
          "model_name": "LayoutModel",
          "state": {
            "_model_module": "@jupyter-widgets/base",
            "_model_module_version": "1.2.0",
            "_model_name": "LayoutModel",
            "_view_count": null,
            "_view_module": "@jupyter-widgets/base",
            "_view_module_version": "1.2.0",
            "_view_name": "LayoutView",
            "align_content": null,
            "align_items": null,
            "align_self": null,
            "border": null,
            "bottom": null,
            "display": null,
            "flex": null,
            "flex_flow": null,
            "grid_area": null,
            "grid_auto_columns": null,
            "grid_auto_flow": null,
            "grid_auto_rows": null,
            "grid_column": null,
            "grid_gap": null,
            "grid_row": null,
            "grid_template_areas": null,
            "grid_template_columns": null,
            "grid_template_rows": null,
            "height": null,
            "justify_content": null,
            "justify_items": null,
            "left": null,
            "margin": null,
            "max_height": null,
            "max_width": null,
            "min_height": null,
            "min_width": null,
            "object_fit": null,
            "object_position": null,
            "order": null,
            "overflow": null,
            "overflow_x": null,
            "overflow_y": null,
            "padding": null,
            "right": null,
            "top": null,
            "visibility": null,
            "width": null
          }
        },
        "1447acc7e1694c39ab7c2f497a42d7af": {
          "model_module": "@jupyter-widgets/base",
          "model_module_version": "1.2.0",
          "model_name": "LayoutModel",
          "state": {
            "_model_module": "@jupyter-widgets/base",
            "_model_module_version": "1.2.0",
            "_model_name": "LayoutModel",
            "_view_count": null,
            "_view_module": "@jupyter-widgets/base",
            "_view_module_version": "1.2.0",
            "_view_name": "LayoutView",
            "align_content": null,
            "align_items": null,
            "align_self": null,
            "border": null,
            "bottom": null,
            "display": null,
            "flex": null,
            "flex_flow": null,
            "grid_area": null,
            "grid_auto_columns": null,
            "grid_auto_flow": null,
            "grid_auto_rows": null,
            "grid_column": null,
            "grid_gap": null,
            "grid_row": null,
            "grid_template_areas": null,
            "grid_template_columns": null,
            "grid_template_rows": null,
            "height": null,
            "justify_content": null,
            "justify_items": null,
            "left": null,
            "margin": null,
            "max_height": null,
            "max_width": null,
            "min_height": null,
            "min_width": null,
            "object_fit": null,
            "object_position": null,
            "order": null,
            "overflow": null,
            "overflow_x": null,
            "overflow_y": null,
            "padding": null,
            "right": null,
            "top": null,
            "visibility": null,
            "width": null
          }
        },
        "3187809060154669b680390116db6468": {
          "model_module": "@jupyter-widgets/controls",
          "model_module_version": "1.5.0",
          "model_name": "DescriptionStyleModel",
          "state": {
            "_model_module": "@jupyter-widgets/controls",
            "_model_module_version": "1.5.0",
            "_model_name": "DescriptionStyleModel",
            "_view_count": null,
            "_view_module": "@jupyter-widgets/base",
            "_view_module_version": "1.2.0",
            "_view_name": "StyleView",
            "description_width": ""
          }
        },
        "33af1f357d9d4fbdad868950435cdd50": {
          "model_module": "@jupyter-widgets/controls",
          "model_module_version": "1.5.0",
          "model_name": "ProgressStyleModel",
          "state": {
            "_model_module": "@jupyter-widgets/controls",
            "_model_module_version": "1.5.0",
            "_model_name": "ProgressStyleModel",
            "_view_count": null,
            "_view_module": "@jupyter-widgets/base",
            "_view_module_version": "1.2.0",
            "_view_name": "StyleView",
            "bar_color": null,
            "description_width": ""
          }
        },
        "34e42e25759347fe8783cd97c6c37798": {
          "model_module": "@jupyter-widgets/controls",
          "model_module_version": "1.5.0",
          "model_name": "FloatProgressModel",
          "state": {
            "_dom_classes": [],
            "_model_module": "@jupyter-widgets/controls",
            "_model_module_version": "1.5.0",
            "_model_name": "FloatProgressModel",
            "_view_count": null,
            "_view_module": "@jupyter-widgets/controls",
            "_view_module_version": "1.5.0",
            "_view_name": "ProgressView",
            "bar_style": "success",
            "description": "",
            "description_tooltip": null,
            "layout": "IPY_MODEL_e7aaf9b682bb4ebfa78783ed97d36662",
            "max": 1,
            "min": 0,
            "orientation": "horizontal",
            "style": "IPY_MODEL_33af1f357d9d4fbdad868950435cdd50",
            "value": 1
          }
        },
        "57bc5595c33f43948f4705ea52760cab": {
          "model_module": "@jupyter-widgets/controls",
          "model_module_version": "1.5.0",
          "model_name": "HTMLModel",
          "state": {
            "_dom_classes": [],
            "_model_module": "@jupyter-widgets/controls",
            "_model_module_version": "1.5.0",
            "_model_name": "HTMLModel",
            "_view_count": null,
            "_view_module": "@jupyter-widgets/controls",
            "_view_module_version": "1.5.0",
            "_view_name": "HTMLView",
            "description": "",
            "description_tooltip": null,
            "layout": "IPY_MODEL_06499df1f02543999a29d5a55075860b",
            "placeholder": "​",
            "style": "IPY_MODEL_3187809060154669b680390116db6468",
            "value": " 1/1 [00:00&lt;00:00, 12.76it/s]"
          }
        },
        "5f14f4a0e2df413aa476659d0c12257e": {
          "model_module": "@jupyter-widgets/controls",
          "model_module_version": "1.5.0",
          "model_name": "HTMLModel",
          "state": {
            "_dom_classes": [],
            "_model_module": "@jupyter-widgets/controls",
            "_model_module_version": "1.5.0",
            "_model_name": "HTMLModel",
            "_view_count": null,
            "_view_module": "@jupyter-widgets/controls",
            "_view_module_version": "1.5.0",
            "_view_name": "HTMLView",
            "description": "",
            "description_tooltip": null,
            "layout": "IPY_MODEL_1447acc7e1694c39ab7c2f497a42d7af",
            "placeholder": "​",
            "style": "IPY_MODEL_89b08b6da8894135a8a5ae73a806a964",
            "value": "100%"
          }
        },
        "7cf3c7f0cd14467b808ae0e9a861ceee": {
          "model_module": "@jupyter-widgets/controls",
          "model_module_version": "1.5.0",
          "model_name": "HBoxModel",
          "state": {
            "_dom_classes": [],
            "_model_module": "@jupyter-widgets/controls",
            "_model_module_version": "1.5.0",
            "_model_name": "HBoxModel",
            "_view_count": null,
            "_view_module": "@jupyter-widgets/controls",
            "_view_module_version": "1.5.0",
            "_view_name": "HBoxView",
            "box_style": "",
            "children": [
              "IPY_MODEL_5f14f4a0e2df413aa476659d0c12257e",
              "IPY_MODEL_34e42e25759347fe8783cd97c6c37798",
              "IPY_MODEL_57bc5595c33f43948f4705ea52760cab"
            ],
            "layout": "IPY_MODEL_80572772a8a24ad4bb17cd1be0ab36da"
          }
        },
        "80572772a8a24ad4bb17cd1be0ab36da": {
          "model_module": "@jupyter-widgets/base",
          "model_module_version": "1.2.0",
          "model_name": "LayoutModel",
          "state": {
            "_model_module": "@jupyter-widgets/base",
            "_model_module_version": "1.2.0",
            "_model_name": "LayoutModel",
            "_view_count": null,
            "_view_module": "@jupyter-widgets/base",
            "_view_module_version": "1.2.0",
            "_view_name": "LayoutView",
            "align_content": null,
            "align_items": null,
            "align_self": null,
            "border": null,
            "bottom": null,
            "display": null,
            "flex": null,
            "flex_flow": null,
            "grid_area": null,
            "grid_auto_columns": null,
            "grid_auto_flow": null,
            "grid_auto_rows": null,
            "grid_column": null,
            "grid_gap": null,
            "grid_row": null,
            "grid_template_areas": null,
            "grid_template_columns": null,
            "grid_template_rows": null,
            "height": null,
            "justify_content": null,
            "justify_items": null,
            "left": null,
            "margin": null,
            "max_height": null,
            "max_width": null,
            "min_height": null,
            "min_width": null,
            "object_fit": null,
            "object_position": null,
            "order": null,
            "overflow": null,
            "overflow_x": null,
            "overflow_y": null,
            "padding": null,
            "right": null,
            "top": null,
            "visibility": null,
            "width": null
          }
        },
        "89b08b6da8894135a8a5ae73a806a964": {
          "model_module": "@jupyter-widgets/controls",
          "model_module_version": "1.5.0",
          "model_name": "DescriptionStyleModel",
          "state": {
            "_model_module": "@jupyter-widgets/controls",
            "_model_module_version": "1.5.0",
            "_model_name": "DescriptionStyleModel",
            "_view_count": null,
            "_view_module": "@jupyter-widgets/base",
            "_view_module_version": "1.2.0",
            "_view_name": "StyleView",
            "description_width": ""
          }
        },
        "e7aaf9b682bb4ebfa78783ed97d36662": {
          "model_module": "@jupyter-widgets/base",
          "model_module_version": "1.2.0",
          "model_name": "LayoutModel",
          "state": {
            "_model_module": "@jupyter-widgets/base",
            "_model_module_version": "1.2.0",
            "_model_name": "LayoutModel",
            "_view_count": null,
            "_view_module": "@jupyter-widgets/base",
            "_view_module_version": "1.2.0",
            "_view_name": "LayoutView",
            "align_content": null,
            "align_items": null,
            "align_self": null,
            "border": null,
            "bottom": null,
            "display": null,
            "flex": null,
            "flex_flow": null,
            "grid_area": null,
            "grid_auto_columns": null,
            "grid_auto_flow": null,
            "grid_auto_rows": null,
            "grid_column": null,
            "grid_gap": null,
            "grid_row": null,
            "grid_template_areas": null,
            "grid_template_columns": null,
            "grid_template_rows": null,
            "height": null,
            "justify_content": null,
            "justify_items": null,
            "left": null,
            "margin": null,
            "max_height": null,
            "max_width": null,
            "min_height": null,
            "min_width": null,
            "object_fit": null,
            "object_position": null,
            "order": null,
            "overflow": null,
            "overflow_x": null,
            "overflow_y": null,
            "padding": null,
            "right": null,
            "top": null,
            "visibility": null,
            "width": null
          }
        }
      }
    }
  },
  "nbformat": 4,
  "nbformat_minor": 0
}
